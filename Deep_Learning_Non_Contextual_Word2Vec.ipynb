{
  "nbformat": 4,
  "nbformat_minor": 0,
  "metadata": {
    "colab": {
      "provenance": [],
      "collapsed_sections": []
    },
    "kernelspec": {
      "name": "python3",
      "display_name": "Python 3"
    },
    "language_info": {
      "name": "python"
    }
  },
  "cells": [
    {
      "cell_type": "markdown",
      "source": [
        "\n",
        "Membangun model Word2Vec dari kumpulan dataset"
      ],
      "metadata": {
        "id": "96ypk72nt6sP"
      }
    },
    {
      "cell_type": "code",
      "source": [
        "!pip install --upgrade gensim\n",
        "\n",
        "import gensim\n",
        "import pandas as pd\n",
        "import tensorflow as tf\n",
        "import numpy as np\n",
        "import nltk\n",
        "from nltk.corpus import stopwords\n",
        "import os\n",
        "from keras.preprocessing.text import Tokenizer\n",
        "from keras.preprocessing.sequence import pad_sequences\n",
        "from keras.models import Sequential\n",
        "from keras.layers import Dense, Embedding, LSTM, GRU, Bidirectional, GlobalAveragePooling1D, Conv1D, Flatten, MaxPooling1D\n",
        "from keras.layers.embeddings import Embedding\n",
        "from keras.initializers import Constant\n",
        "from sklearn.metrics import roc_curve, auc, classification_report \n",
        "import matplotlib.pyplot as plt\n",
        "\n",
        "nltk.download('stopwords')\n",
        "nltk.download('punkt')\n",
        "print(gensim.__version__)"
      ],
      "metadata": {
        "colab": {
          "base_uri": "https://localhost:8080/"
        },
        "id": "n94VnFz5t_VG",
        "outputId": "21ba7fed-ca8f-4df7-9373-3f9042694ad3"
      },
      "execution_count": null,
      "outputs": [
        {
          "output_type": "stream",
          "name": "stdout",
          "text": [
            "Looking in indexes: https://pypi.org/simple, https://us-python.pkg.dev/colab-wheels/public/simple/\n",
            "Requirement already satisfied: gensim in /usr/local/lib/python3.7/dist-packages (3.6.0)\n",
            "Collecting gensim\n",
            "  Downloading gensim-4.2.0-cp37-cp37m-manylinux_2_12_x86_64.manylinux2010_x86_64.whl (24.1 MB)\n",
            "\u001b[K     |████████████████████████████████| 24.1 MB 1.3 MB/s \n",
            "\u001b[?25hRequirement already satisfied: numpy>=1.17.0 in /usr/local/lib/python3.7/dist-packages (from gensim) (1.21.6)\n",
            "Requirement already satisfied: smart-open>=1.8.1 in /usr/local/lib/python3.7/dist-packages (from gensim) (5.2.1)\n",
            "Requirement already satisfied: scipy>=0.18.1 in /usr/local/lib/python3.7/dist-packages (from gensim) (1.7.3)\n",
            "Installing collected packages: gensim\n",
            "  Attempting uninstall: gensim\n",
            "    Found existing installation: gensim 3.6.0\n",
            "    Uninstalling gensim-3.6.0:\n",
            "      Successfully uninstalled gensim-3.6.0\n",
            "Successfully installed gensim-4.2.0\n"
          ]
        },
        {
          "output_type": "stream",
          "name": "stderr",
          "text": [
            "[nltk_data] Downloading package stopwords to /root/nltk_data...\n",
            "[nltk_data]   Unzipping corpora/stopwords.zip.\n",
            "[nltk_data] Downloading package punkt to /root/nltk_data...\n",
            "[nltk_data]   Unzipping tokenizers/punkt.zip.\n"
          ]
        },
        {
          "output_type": "stream",
          "name": "stdout",
          "text": [
            "4.2.0\n"
          ]
        }
      ]
    },
    {
      "cell_type": "markdown",
      "source": [
        "## Preprocess"
      ],
      "metadata": {
        "id": "uxGQbtyv0eIy"
      }
    },
    {
      "cell_type": "code",
      "source": [
        "train = pd.read_csv(\"data_worthcheck/train.csv\")\n",
        "test = pd.read_csv(\"data_worthcheck/test.csv\")\n",
        "development = pd.read_csv(\"data_worthcheck/dev.csv\")"
      ],
      "metadata": {
        "id": "arb8vUZLuca6"
      },
      "execution_count": null,
      "outputs": []
    },
    {
      "cell_type": "code",
      "source": [
        "train.head()"
      ],
      "metadata": {
        "colab": {
          "base_uri": "https://localhost:8080/",
          "height": 206
        },
        "id": "WQ0UhpnuuwKa",
        "outputId": "4cd8472a-eb62-435b-9b82-d615a61cecfa"
      },
      "execution_count": null,
      "outputs": [
        {
          "output_type": "execute_result",
          "data": {
            "text/plain": [
              "   Unnamed: 0                                             text_a label\n",
              "0           0  betewe buka twitter cuman ngetweet liat home b...    no\n",
              "1           1  mas piyuuu mugo2 corona tuh mulut tersumpal ma...    no\n",
              "2           2  e100ss gini buka informasi sejelas nya identit...   yes\n",
              "3           3  neng solo wes ono terduga corona cobo neng ati...    no\n",
              "4           4  midiahn nii akun gak takut takut nya isu coron...    no"
            ],
            "text/html": [
              "\n",
              "  <div id=\"df-7ce59fe6-6893-4d1a-9965-59ca2b1a792e\">\n",
              "    <div class=\"colab-df-container\">\n",
              "      <div>\n",
              "<style scoped>\n",
              "    .dataframe tbody tr th:only-of-type {\n",
              "        vertical-align: middle;\n",
              "    }\n",
              "\n",
              "    .dataframe tbody tr th {\n",
              "        vertical-align: top;\n",
              "    }\n",
              "\n",
              "    .dataframe thead th {\n",
              "        text-align: right;\n",
              "    }\n",
              "</style>\n",
              "<table border=\"1\" class=\"dataframe\">\n",
              "  <thead>\n",
              "    <tr style=\"text-align: right;\">\n",
              "      <th></th>\n",
              "      <th>Unnamed: 0</th>\n",
              "      <th>text_a</th>\n",
              "      <th>label</th>\n",
              "    </tr>\n",
              "  </thead>\n",
              "  <tbody>\n",
              "    <tr>\n",
              "      <th>0</th>\n",
              "      <td>0</td>\n",
              "      <td>betewe buka twitter cuman ngetweet liat home b...</td>\n",
              "      <td>no</td>\n",
              "    </tr>\n",
              "    <tr>\n",
              "      <th>1</th>\n",
              "      <td>1</td>\n",
              "      <td>mas piyuuu mugo2 corona tuh mulut tersumpal ma...</td>\n",
              "      <td>no</td>\n",
              "    </tr>\n",
              "    <tr>\n",
              "      <th>2</th>\n",
              "      <td>2</td>\n",
              "      <td>e100ss gini buka informasi sejelas nya identit...</td>\n",
              "      <td>yes</td>\n",
              "    </tr>\n",
              "    <tr>\n",
              "      <th>3</th>\n",
              "      <td>3</td>\n",
              "      <td>neng solo wes ono terduga corona cobo neng ati...</td>\n",
              "      <td>no</td>\n",
              "    </tr>\n",
              "    <tr>\n",
              "      <th>4</th>\n",
              "      <td>4</td>\n",
              "      <td>midiahn nii akun gak takut takut nya isu coron...</td>\n",
              "      <td>no</td>\n",
              "    </tr>\n",
              "  </tbody>\n",
              "</table>\n",
              "</div>\n",
              "      <button class=\"colab-df-convert\" onclick=\"convertToInteractive('df-7ce59fe6-6893-4d1a-9965-59ca2b1a792e')\"\n",
              "              title=\"Convert this dataframe to an interactive table.\"\n",
              "              style=\"display:none;\">\n",
              "        \n",
              "  <svg xmlns=\"http://www.w3.org/2000/svg\" height=\"24px\"viewBox=\"0 0 24 24\"\n",
              "       width=\"24px\">\n",
              "    <path d=\"M0 0h24v24H0V0z\" fill=\"none\"/>\n",
              "    <path d=\"M18.56 5.44l.94 2.06.94-2.06 2.06-.94-2.06-.94-.94-2.06-.94 2.06-2.06.94zm-11 1L8.5 8.5l.94-2.06 2.06-.94-2.06-.94L8.5 2.5l-.94 2.06-2.06.94zm10 10l.94 2.06.94-2.06 2.06-.94-2.06-.94-.94-2.06-.94 2.06-2.06.94z\"/><path d=\"M17.41 7.96l-1.37-1.37c-.4-.4-.92-.59-1.43-.59-.52 0-1.04.2-1.43.59L10.3 9.45l-7.72 7.72c-.78.78-.78 2.05 0 2.83L4 21.41c.39.39.9.59 1.41.59.51 0 1.02-.2 1.41-.59l7.78-7.78 2.81-2.81c.8-.78.8-2.07 0-2.86zM5.41 20L4 18.59l7.72-7.72 1.47 1.35L5.41 20z\"/>\n",
              "  </svg>\n",
              "      </button>\n",
              "      \n",
              "  <style>\n",
              "    .colab-df-container {\n",
              "      display:flex;\n",
              "      flex-wrap:wrap;\n",
              "      gap: 12px;\n",
              "    }\n",
              "\n",
              "    .colab-df-convert {\n",
              "      background-color: #E8F0FE;\n",
              "      border: none;\n",
              "      border-radius: 50%;\n",
              "      cursor: pointer;\n",
              "      display: none;\n",
              "      fill: #1967D2;\n",
              "      height: 32px;\n",
              "      padding: 0 0 0 0;\n",
              "      width: 32px;\n",
              "    }\n",
              "\n",
              "    .colab-df-convert:hover {\n",
              "      background-color: #E2EBFA;\n",
              "      box-shadow: 0px 1px 2px rgba(60, 64, 67, 0.3), 0px 1px 3px 1px rgba(60, 64, 67, 0.15);\n",
              "      fill: #174EA6;\n",
              "    }\n",
              "\n",
              "    [theme=dark] .colab-df-convert {\n",
              "      background-color: #3B4455;\n",
              "      fill: #D2E3FC;\n",
              "    }\n",
              "\n",
              "    [theme=dark] .colab-df-convert:hover {\n",
              "      background-color: #434B5C;\n",
              "      box-shadow: 0px 1px 3px 1px rgba(0, 0, 0, 0.15);\n",
              "      filter: drop-shadow(0px 1px 2px rgba(0, 0, 0, 0.3));\n",
              "      fill: #FFFFFF;\n",
              "    }\n",
              "  </style>\n",
              "\n",
              "      <script>\n",
              "        const buttonEl =\n",
              "          document.querySelector('#df-7ce59fe6-6893-4d1a-9965-59ca2b1a792e button.colab-df-convert');\n",
              "        buttonEl.style.display =\n",
              "          google.colab.kernel.accessAllowed ? 'block' : 'none';\n",
              "\n",
              "        async function convertToInteractive(key) {\n",
              "          const element = document.querySelector('#df-7ce59fe6-6893-4d1a-9965-59ca2b1a792e');\n",
              "          const dataTable =\n",
              "            await google.colab.kernel.invokeFunction('convertToInteractive',\n",
              "                                                     [key], {});\n",
              "          if (!dataTable) return;\n",
              "\n",
              "          const docLinkHtml = 'Like what you see? Visit the ' +\n",
              "            '<a target=\"_blank\" href=https://colab.research.google.com/notebooks/data_table.ipynb>data table notebook</a>'\n",
              "            + ' to learn more about interactive tables.';\n",
              "          element.innerHTML = '';\n",
              "          dataTable['output_type'] = 'display_data';\n",
              "          await google.colab.output.renderOutput(dataTable, element);\n",
              "          const docLink = document.createElement('div');\n",
              "          docLink.innerHTML = docLinkHtml;\n",
              "          element.appendChild(docLink);\n",
              "        }\n",
              "      </script>\n",
              "    </div>\n",
              "  </div>\n",
              "  "
            ]
          },
          "metadata": {},
          "execution_count": 11
        }
      ]
    },
    {
      "cell_type": "markdown",
      "source": [
        "Drop column"
      ],
      "metadata": {
        "id": "-NZ5W2rN_SGR"
      }
    },
    {
      "cell_type": "code",
      "source": [
        "train = train.drop('Unnamed: 0', axis=1) \n",
        "train = train.drop_duplicates()\n",
        "train.head()"
      ],
      "metadata": {
        "colab": {
          "base_uri": "https://localhost:8080/",
          "height": 206
        },
        "id": "BgpwjjhMu6tV",
        "outputId": "00175cb1-0e45-439d-fcf7-e7cfb8cbb039"
      },
      "execution_count": null,
      "outputs": [
        {
          "output_type": "execute_result",
          "data": {
            "text/plain": [
              "                                              text_a label\n",
              "0  betewe buka twitter cuman ngetweet liat home b...    no\n",
              "1  mas piyuuu mugo2 corona tuh mulut tersumpal ma...    no\n",
              "2  e100ss gini buka informasi sejelas nya identit...   yes\n",
              "3  neng solo wes ono terduga corona cobo neng ati...    no\n",
              "4  midiahn nii akun gak takut takut nya isu coron...    no"
            ],
            "text/html": [
              "\n",
              "  <div id=\"df-e26888b8-e26c-4034-bf00-56a82dc4824c\">\n",
              "    <div class=\"colab-df-container\">\n",
              "      <div>\n",
              "<style scoped>\n",
              "    .dataframe tbody tr th:only-of-type {\n",
              "        vertical-align: middle;\n",
              "    }\n",
              "\n",
              "    .dataframe tbody tr th {\n",
              "        vertical-align: top;\n",
              "    }\n",
              "\n",
              "    .dataframe thead th {\n",
              "        text-align: right;\n",
              "    }\n",
              "</style>\n",
              "<table border=\"1\" class=\"dataframe\">\n",
              "  <thead>\n",
              "    <tr style=\"text-align: right;\">\n",
              "      <th></th>\n",
              "      <th>text_a</th>\n",
              "      <th>label</th>\n",
              "    </tr>\n",
              "  </thead>\n",
              "  <tbody>\n",
              "    <tr>\n",
              "      <th>0</th>\n",
              "      <td>betewe buka twitter cuman ngetweet liat home b...</td>\n",
              "      <td>no</td>\n",
              "    </tr>\n",
              "    <tr>\n",
              "      <th>1</th>\n",
              "      <td>mas piyuuu mugo2 corona tuh mulut tersumpal ma...</td>\n",
              "      <td>no</td>\n",
              "    </tr>\n",
              "    <tr>\n",
              "      <th>2</th>\n",
              "      <td>e100ss gini buka informasi sejelas nya identit...</td>\n",
              "      <td>yes</td>\n",
              "    </tr>\n",
              "    <tr>\n",
              "      <th>3</th>\n",
              "      <td>neng solo wes ono terduga corona cobo neng ati...</td>\n",
              "      <td>no</td>\n",
              "    </tr>\n",
              "    <tr>\n",
              "      <th>4</th>\n",
              "      <td>midiahn nii akun gak takut takut nya isu coron...</td>\n",
              "      <td>no</td>\n",
              "    </tr>\n",
              "  </tbody>\n",
              "</table>\n",
              "</div>\n",
              "      <button class=\"colab-df-convert\" onclick=\"convertToInteractive('df-e26888b8-e26c-4034-bf00-56a82dc4824c')\"\n",
              "              title=\"Convert this dataframe to an interactive table.\"\n",
              "              style=\"display:none;\">\n",
              "        \n",
              "  <svg xmlns=\"http://www.w3.org/2000/svg\" height=\"24px\"viewBox=\"0 0 24 24\"\n",
              "       width=\"24px\">\n",
              "    <path d=\"M0 0h24v24H0V0z\" fill=\"none\"/>\n",
              "    <path d=\"M18.56 5.44l.94 2.06.94-2.06 2.06-.94-2.06-.94-.94-2.06-.94 2.06-2.06.94zm-11 1L8.5 8.5l.94-2.06 2.06-.94-2.06-.94L8.5 2.5l-.94 2.06-2.06.94zm10 10l.94 2.06.94-2.06 2.06-.94-2.06-.94-.94-2.06-.94 2.06-2.06.94z\"/><path d=\"M17.41 7.96l-1.37-1.37c-.4-.4-.92-.59-1.43-.59-.52 0-1.04.2-1.43.59L10.3 9.45l-7.72 7.72c-.78.78-.78 2.05 0 2.83L4 21.41c.39.39.9.59 1.41.59.51 0 1.02-.2 1.41-.59l7.78-7.78 2.81-2.81c.8-.78.8-2.07 0-2.86zM5.41 20L4 18.59l7.72-7.72 1.47 1.35L5.41 20z\"/>\n",
              "  </svg>\n",
              "      </button>\n",
              "      \n",
              "  <style>\n",
              "    .colab-df-container {\n",
              "      display:flex;\n",
              "      flex-wrap:wrap;\n",
              "      gap: 12px;\n",
              "    }\n",
              "\n",
              "    .colab-df-convert {\n",
              "      background-color: #E8F0FE;\n",
              "      border: none;\n",
              "      border-radius: 50%;\n",
              "      cursor: pointer;\n",
              "      display: none;\n",
              "      fill: #1967D2;\n",
              "      height: 32px;\n",
              "      padding: 0 0 0 0;\n",
              "      width: 32px;\n",
              "    }\n",
              "\n",
              "    .colab-df-convert:hover {\n",
              "      background-color: #E2EBFA;\n",
              "      box-shadow: 0px 1px 2px rgba(60, 64, 67, 0.3), 0px 1px 3px 1px rgba(60, 64, 67, 0.15);\n",
              "      fill: #174EA6;\n",
              "    }\n",
              "\n",
              "    [theme=dark] .colab-df-convert {\n",
              "      background-color: #3B4455;\n",
              "      fill: #D2E3FC;\n",
              "    }\n",
              "\n",
              "    [theme=dark] .colab-df-convert:hover {\n",
              "      background-color: #434B5C;\n",
              "      box-shadow: 0px 1px 3px 1px rgba(0, 0, 0, 0.15);\n",
              "      filter: drop-shadow(0px 1px 2px rgba(0, 0, 0, 0.3));\n",
              "      fill: #FFFFFF;\n",
              "    }\n",
              "  </style>\n",
              "\n",
              "      <script>\n",
              "        const buttonEl =\n",
              "          document.querySelector('#df-e26888b8-e26c-4034-bf00-56a82dc4824c button.colab-df-convert');\n",
              "        buttonEl.style.display =\n",
              "          google.colab.kernel.accessAllowed ? 'block' : 'none';\n",
              "\n",
              "        async function convertToInteractive(key) {\n",
              "          const element = document.querySelector('#df-e26888b8-e26c-4034-bf00-56a82dc4824c');\n",
              "          const dataTable =\n",
              "            await google.colab.kernel.invokeFunction('convertToInteractive',\n",
              "                                                     [key], {});\n",
              "          if (!dataTable) return;\n",
              "\n",
              "          const docLinkHtml = 'Like what you see? Visit the ' +\n",
              "            '<a target=\"_blank\" href=https://colab.research.google.com/notebooks/data_table.ipynb>data table notebook</a>'\n",
              "            + ' to learn more about interactive tables.';\n",
              "          element.innerHTML = '';\n",
              "          dataTable['output_type'] = 'display_data';\n",
              "          await google.colab.output.renderOutput(dataTable, element);\n",
              "          const docLink = document.createElement('div');\n",
              "          docLink.innerHTML = docLinkHtml;\n",
              "          element.appendChild(docLink);\n",
              "        }\n",
              "      </script>\n",
              "    </div>\n",
              "  </div>\n",
              "  "
            ]
          },
          "metadata": {},
          "execution_count": 12
        }
      ]
    },
    {
      "cell_type": "markdown",
      "source": [
        "Drop duplicate"
      ],
      "metadata": {
        "id": "0hX_I33G_VK1"
      }
    },
    {
      "cell_type": "code",
      "source": [
        "test = test.drop_duplicates()\n",
        "test.head()"
      ],
      "metadata": {
        "colab": {
          "base_uri": "https://localhost:8080/",
          "height": 206
        },
        "id": "pStvC8euuxx3",
        "outputId": "27e078d2-2c97-4500-9c4d-a545ab4387f7"
      },
      "execution_count": null,
      "outputs": [
        {
          "output_type": "execute_result",
          "data": {
            "text/plain": [
              "                                              text_a label\n",
              "0                            jek dajal ga depok bang    no\n",
              "1  detikcom untung depok masuk wilayah nya ridwan...    no\n",
              "2  df dom jakarta depok yg gunain vc cabang nya c...    no\n",
              "3                                  your2rl depok jkt    no\n",
              "4  doakan indonesia selamat virus corona pkb depo...   yes"
            ],
            "text/html": [
              "\n",
              "  <div id=\"df-d60753c4-303d-455b-ad20-f8cef77ae089\">\n",
              "    <div class=\"colab-df-container\">\n",
              "      <div>\n",
              "<style scoped>\n",
              "    .dataframe tbody tr th:only-of-type {\n",
              "        vertical-align: middle;\n",
              "    }\n",
              "\n",
              "    .dataframe tbody tr th {\n",
              "        vertical-align: top;\n",
              "    }\n",
              "\n",
              "    .dataframe thead th {\n",
              "        text-align: right;\n",
              "    }\n",
              "</style>\n",
              "<table border=\"1\" class=\"dataframe\">\n",
              "  <thead>\n",
              "    <tr style=\"text-align: right;\">\n",
              "      <th></th>\n",
              "      <th>text_a</th>\n",
              "      <th>label</th>\n",
              "    </tr>\n",
              "  </thead>\n",
              "  <tbody>\n",
              "    <tr>\n",
              "      <th>0</th>\n",
              "      <td>jek dajal ga depok bang</td>\n",
              "      <td>no</td>\n",
              "    </tr>\n",
              "    <tr>\n",
              "      <th>1</th>\n",
              "      <td>detikcom untung depok masuk wilayah nya ridwan...</td>\n",
              "      <td>no</td>\n",
              "    </tr>\n",
              "    <tr>\n",
              "      <th>2</th>\n",
              "      <td>df dom jakarta depok yg gunain vc cabang nya c...</td>\n",
              "      <td>no</td>\n",
              "    </tr>\n",
              "    <tr>\n",
              "      <th>3</th>\n",
              "      <td>your2rl depok jkt</td>\n",
              "      <td>no</td>\n",
              "    </tr>\n",
              "    <tr>\n",
              "      <th>4</th>\n",
              "      <td>doakan indonesia selamat virus corona pkb depo...</td>\n",
              "      <td>yes</td>\n",
              "    </tr>\n",
              "  </tbody>\n",
              "</table>\n",
              "</div>\n",
              "      <button class=\"colab-df-convert\" onclick=\"convertToInteractive('df-d60753c4-303d-455b-ad20-f8cef77ae089')\"\n",
              "              title=\"Convert this dataframe to an interactive table.\"\n",
              "              style=\"display:none;\">\n",
              "        \n",
              "  <svg xmlns=\"http://www.w3.org/2000/svg\" height=\"24px\"viewBox=\"0 0 24 24\"\n",
              "       width=\"24px\">\n",
              "    <path d=\"M0 0h24v24H0V0z\" fill=\"none\"/>\n",
              "    <path d=\"M18.56 5.44l.94 2.06.94-2.06 2.06-.94-2.06-.94-.94-2.06-.94 2.06-2.06.94zm-11 1L8.5 8.5l.94-2.06 2.06-.94-2.06-.94L8.5 2.5l-.94 2.06-2.06.94zm10 10l.94 2.06.94-2.06 2.06-.94-2.06-.94-.94-2.06-.94 2.06-2.06.94z\"/><path d=\"M17.41 7.96l-1.37-1.37c-.4-.4-.92-.59-1.43-.59-.52 0-1.04.2-1.43.59L10.3 9.45l-7.72 7.72c-.78.78-.78 2.05 0 2.83L4 21.41c.39.39.9.59 1.41.59.51 0 1.02-.2 1.41-.59l7.78-7.78 2.81-2.81c.8-.78.8-2.07 0-2.86zM5.41 20L4 18.59l7.72-7.72 1.47 1.35L5.41 20z\"/>\n",
              "  </svg>\n",
              "      </button>\n",
              "      \n",
              "  <style>\n",
              "    .colab-df-container {\n",
              "      display:flex;\n",
              "      flex-wrap:wrap;\n",
              "      gap: 12px;\n",
              "    }\n",
              "\n",
              "    .colab-df-convert {\n",
              "      background-color: #E8F0FE;\n",
              "      border: none;\n",
              "      border-radius: 50%;\n",
              "      cursor: pointer;\n",
              "      display: none;\n",
              "      fill: #1967D2;\n",
              "      height: 32px;\n",
              "      padding: 0 0 0 0;\n",
              "      width: 32px;\n",
              "    }\n",
              "\n",
              "    .colab-df-convert:hover {\n",
              "      background-color: #E2EBFA;\n",
              "      box-shadow: 0px 1px 2px rgba(60, 64, 67, 0.3), 0px 1px 3px 1px rgba(60, 64, 67, 0.15);\n",
              "      fill: #174EA6;\n",
              "    }\n",
              "\n",
              "    [theme=dark] .colab-df-convert {\n",
              "      background-color: #3B4455;\n",
              "      fill: #D2E3FC;\n",
              "    }\n",
              "\n",
              "    [theme=dark] .colab-df-convert:hover {\n",
              "      background-color: #434B5C;\n",
              "      box-shadow: 0px 1px 3px 1px rgba(0, 0, 0, 0.15);\n",
              "      filter: drop-shadow(0px 1px 2px rgba(0, 0, 0, 0.3));\n",
              "      fill: #FFFFFF;\n",
              "    }\n",
              "  </style>\n",
              "\n",
              "      <script>\n",
              "        const buttonEl =\n",
              "          document.querySelector('#df-d60753c4-303d-455b-ad20-f8cef77ae089 button.colab-df-convert');\n",
              "        buttonEl.style.display =\n",
              "          google.colab.kernel.accessAllowed ? 'block' : 'none';\n",
              "\n",
              "        async function convertToInteractive(key) {\n",
              "          const element = document.querySelector('#df-d60753c4-303d-455b-ad20-f8cef77ae089');\n",
              "          const dataTable =\n",
              "            await google.colab.kernel.invokeFunction('convertToInteractive',\n",
              "                                                     [key], {});\n",
              "          if (!dataTable) return;\n",
              "\n",
              "          const docLinkHtml = 'Like what you see? Visit the ' +\n",
              "            '<a target=\"_blank\" href=https://colab.research.google.com/notebooks/data_table.ipynb>data table notebook</a>'\n",
              "            + ' to learn more about interactive tables.';\n",
              "          element.innerHTML = '';\n",
              "          dataTable['output_type'] = 'display_data';\n",
              "          await google.colab.output.renderOutput(dataTable, element);\n",
              "          const docLink = document.createElement('div');\n",
              "          docLink.innerHTML = docLinkHtml;\n",
              "          element.appendChild(docLink);\n",
              "        }\n",
              "      </script>\n",
              "    </div>\n",
              "  </div>\n",
              "  "
            ]
          },
          "metadata": {},
          "execution_count": 13
        }
      ]
    },
    {
      "cell_type": "code",
      "source": [
        "development = development.drop_duplicates()\n",
        "development.head()"
      ],
      "metadata": {
        "colab": {
          "base_uri": "https://localhost:8080/",
          "height": 206
        },
        "id": "OvwJdWxOwGEw",
        "outputId": "9c020ec2-20f1-485e-b37c-be594f1c30d2"
      },
      "execution_count": null,
      "outputs": [
        {
          "output_type": "execute_result",
          "data": {
            "text/plain": [
              "                                              text_a label\n",
              "0                            jek dajal ga depok bang    no\n",
              "1  detikcom untung depok masuk wilayah nya ridwan...    no\n",
              "2  df dom jakarta depok yg gunain vc cabang nya c...    no\n",
              "3                                  your2rl depok jkt    no\n",
              "4  doakan indonesia selamat virus corona pkb depo...   yes"
            ],
            "text/html": [
              "\n",
              "  <div id=\"df-7091c2a8-40fb-4352-8d27-a5d92305d446\">\n",
              "    <div class=\"colab-df-container\">\n",
              "      <div>\n",
              "<style scoped>\n",
              "    .dataframe tbody tr th:only-of-type {\n",
              "        vertical-align: middle;\n",
              "    }\n",
              "\n",
              "    .dataframe tbody tr th {\n",
              "        vertical-align: top;\n",
              "    }\n",
              "\n",
              "    .dataframe thead th {\n",
              "        text-align: right;\n",
              "    }\n",
              "</style>\n",
              "<table border=\"1\" class=\"dataframe\">\n",
              "  <thead>\n",
              "    <tr style=\"text-align: right;\">\n",
              "      <th></th>\n",
              "      <th>text_a</th>\n",
              "      <th>label</th>\n",
              "    </tr>\n",
              "  </thead>\n",
              "  <tbody>\n",
              "    <tr>\n",
              "      <th>0</th>\n",
              "      <td>jek dajal ga depok bang</td>\n",
              "      <td>no</td>\n",
              "    </tr>\n",
              "    <tr>\n",
              "      <th>1</th>\n",
              "      <td>detikcom untung depok masuk wilayah nya ridwan...</td>\n",
              "      <td>no</td>\n",
              "    </tr>\n",
              "    <tr>\n",
              "      <th>2</th>\n",
              "      <td>df dom jakarta depok yg gunain vc cabang nya c...</td>\n",
              "      <td>no</td>\n",
              "    </tr>\n",
              "    <tr>\n",
              "      <th>3</th>\n",
              "      <td>your2rl depok jkt</td>\n",
              "      <td>no</td>\n",
              "    </tr>\n",
              "    <tr>\n",
              "      <th>4</th>\n",
              "      <td>doakan indonesia selamat virus corona pkb depo...</td>\n",
              "      <td>yes</td>\n",
              "    </tr>\n",
              "  </tbody>\n",
              "</table>\n",
              "</div>\n",
              "      <button class=\"colab-df-convert\" onclick=\"convertToInteractive('df-7091c2a8-40fb-4352-8d27-a5d92305d446')\"\n",
              "              title=\"Convert this dataframe to an interactive table.\"\n",
              "              style=\"display:none;\">\n",
              "        \n",
              "  <svg xmlns=\"http://www.w3.org/2000/svg\" height=\"24px\"viewBox=\"0 0 24 24\"\n",
              "       width=\"24px\">\n",
              "    <path d=\"M0 0h24v24H0V0z\" fill=\"none\"/>\n",
              "    <path d=\"M18.56 5.44l.94 2.06.94-2.06 2.06-.94-2.06-.94-.94-2.06-.94 2.06-2.06.94zm-11 1L8.5 8.5l.94-2.06 2.06-.94-2.06-.94L8.5 2.5l-.94 2.06-2.06.94zm10 10l.94 2.06.94-2.06 2.06-.94-2.06-.94-.94-2.06-.94 2.06-2.06.94z\"/><path d=\"M17.41 7.96l-1.37-1.37c-.4-.4-.92-.59-1.43-.59-.52 0-1.04.2-1.43.59L10.3 9.45l-7.72 7.72c-.78.78-.78 2.05 0 2.83L4 21.41c.39.39.9.59 1.41.59.51 0 1.02-.2 1.41-.59l7.78-7.78 2.81-2.81c.8-.78.8-2.07 0-2.86zM5.41 20L4 18.59l7.72-7.72 1.47 1.35L5.41 20z\"/>\n",
              "  </svg>\n",
              "      </button>\n",
              "      \n",
              "  <style>\n",
              "    .colab-df-container {\n",
              "      display:flex;\n",
              "      flex-wrap:wrap;\n",
              "      gap: 12px;\n",
              "    }\n",
              "\n",
              "    .colab-df-convert {\n",
              "      background-color: #E8F0FE;\n",
              "      border: none;\n",
              "      border-radius: 50%;\n",
              "      cursor: pointer;\n",
              "      display: none;\n",
              "      fill: #1967D2;\n",
              "      height: 32px;\n",
              "      padding: 0 0 0 0;\n",
              "      width: 32px;\n",
              "    }\n",
              "\n",
              "    .colab-df-convert:hover {\n",
              "      background-color: #E2EBFA;\n",
              "      box-shadow: 0px 1px 2px rgba(60, 64, 67, 0.3), 0px 1px 3px 1px rgba(60, 64, 67, 0.15);\n",
              "      fill: #174EA6;\n",
              "    }\n",
              "\n",
              "    [theme=dark] .colab-df-convert {\n",
              "      background-color: #3B4455;\n",
              "      fill: #D2E3FC;\n",
              "    }\n",
              "\n",
              "    [theme=dark] .colab-df-convert:hover {\n",
              "      background-color: #434B5C;\n",
              "      box-shadow: 0px 1px 3px 1px rgba(0, 0, 0, 0.15);\n",
              "      filter: drop-shadow(0px 1px 2px rgba(0, 0, 0, 0.3));\n",
              "      fill: #FFFFFF;\n",
              "    }\n",
              "  </style>\n",
              "\n",
              "      <script>\n",
              "        const buttonEl =\n",
              "          document.querySelector('#df-7091c2a8-40fb-4352-8d27-a5d92305d446 button.colab-df-convert');\n",
              "        buttonEl.style.display =\n",
              "          google.colab.kernel.accessAllowed ? 'block' : 'none';\n",
              "\n",
              "        async function convertToInteractive(key) {\n",
              "          const element = document.querySelector('#df-7091c2a8-40fb-4352-8d27-a5d92305d446');\n",
              "          const dataTable =\n",
              "            await google.colab.kernel.invokeFunction('convertToInteractive',\n",
              "                                                     [key], {});\n",
              "          if (!dataTable) return;\n",
              "\n",
              "          const docLinkHtml = 'Like what you see? Visit the ' +\n",
              "            '<a target=\"_blank\" href=https://colab.research.google.com/notebooks/data_table.ipynb>data table notebook</a>'\n",
              "            + ' to learn more about interactive tables.';\n",
              "          element.innerHTML = '';\n",
              "          dataTable['output_type'] = 'display_data';\n",
              "          await google.colab.output.renderOutput(dataTable, element);\n",
              "          const docLink = document.createElement('div');\n",
              "          docLink.innerHTML = docLinkHtml;\n",
              "          element.appendChild(docLink);\n",
              "        }\n",
              "      </script>\n",
              "    </div>\n",
              "  </div>\n",
              "  "
            ]
          },
          "metadata": {},
          "execution_count": 14
        }
      ]
    },
    {
      "cell_type": "code",
      "source": [
        "train.groupby(['label']).size().plot.bar()"
      ],
      "metadata": {
        "colab": {
          "base_uri": "https://localhost:8080/",
          "height": 304
        },
        "id": "VBS1tY34_MEY",
        "outputId": "62f53240-06f0-4fa3-84b3-9c0cdc6fcd58"
      },
      "execution_count": null,
      "outputs": [
        {
          "output_type": "execute_result",
          "data": {
            "text/plain": [
              "<matplotlib.axes._subplots.AxesSubplot at 0x7fd21961fc50>"
            ]
          },
          "metadata": {},
          "execution_count": 15
        },
        {
          "output_type": "display_data",
          "data": {
            "text/plain": [
              "<Figure size 432x288 with 1 Axes>"
            ],
            "image/png": "[encoded data removed]"
          },
          "metadata": {
            "needs_background": "light"
          }
        }
      ]
    },
    {
      "cell_type": "markdown",
      "source": [
        "Remove stopwords"
      ],
      "metadata": {
        "id": "BzP7tmPF_YUd"
      }
    },
    {
      "cell_type": "code",
      "source": [
        "## Remove stopwords\n",
        "stop = stopwords.words('indonesian')\n",
        "\n",
        "train['text_a'] = train['text_a'].apply(lambda x: ' '.join([word for word in x.split() if word not in (stop)]))\n",
        "development['text_a'] = development['text_a'].apply(lambda x: ' '.join([word for word in x.split() if word not in (stop)]))\n",
        "test['text_a'] = test['text_a'].apply(lambda x: ' '.join([word for word in x.split() if word not in (stop)]))"
      ],
      "metadata": {
        "id": "L_eHCShEOG5O"
      },
      "execution_count": null,
      "outputs": []
    },
    {
      "cell_type": "markdown",
      "source": [
        "Encode label"
      ],
      "metadata": {
        "id": "w4BfODHv_a5o"
      }
    },
    {
      "cell_type": "code",
      "source": [
        "## Ubah label ke numerik\n",
        "\n",
        "train['label'] = train['label'].map( {'yes': 1, 'no': 0} ).astype(int)\n",
        "development['label'] = development['label'].map( {'yes': 1, 'no': 0} ).astype(int)\n",
        "test['label'] = test['label'].map( {'yes': 1, 'no': 0} ).astype(int)"
      ],
      "metadata": {
        "id": "GUEnz8Be9GeO"
      },
      "execution_count": null,
      "outputs": []
    },
    {
      "cell_type": "markdown",
      "source": [
        "Tokenization"
      ],
      "metadata": {
        "id": "Ott808su_eim"
      }
    },
    {
      "cell_type": "code",
      "source": [
        "data = pd.concat([train, test, development], ignore_index=True)\n",
        "data.head()"
      ],
      "metadata": {
        "colab": {
          "base_uri": "https://localhost:8080/",
          "height": 206
        },
        "id": "JyThn4Bvu0ho",
        "outputId": "dbfe70a3-66ba-4971-bf30-79f25f1416dc"
      },
      "execution_count": null,
      "outputs": [
        {
          "output_type": "execute_result",
          "data": {
            "text/plain": [
              "                                              text_a  label\n",
              "0  betewe buka twitter cuman ngetweet liat home b...      0\n",
              "1  mas piyuuu mugo2 corona tuh mulut tersumpal ma...      0\n",
              "2  e100ss gini buka informasi sejelas nya identit...      1\n",
              "3  neng solo wes ono terduga corona cobo neng ati...      0\n",
              "4  midiahn nii akun gak takut takut nya isu coron...      0"
            ],
            "text/html": [
              "\n",
              "  <div id=\"df-f29c6a07-b67c-4a32-ab84-52d1463e74bc\">\n",
              "    <div class=\"colab-df-container\">\n",
              "      <div>\n",
              "<style scoped>\n",
              "    .dataframe tbody tr th:only-of-type {\n",
              "        vertical-align: middle;\n",
              "    }\n",
              "\n",
              "    .dataframe tbody tr th {\n",
              "        vertical-align: top;\n",
              "    }\n",
              "\n",
              "    .dataframe thead th {\n",
              "        text-align: right;\n",
              "    }\n",
              "</style>\n",
              "<table border=\"1\" class=\"dataframe\">\n",
              "  <thead>\n",
              "    <tr style=\"text-align: right;\">\n",
              "      <th></th>\n",
              "      <th>text_a</th>\n",
              "      <th>label</th>\n",
              "    </tr>\n",
              "  </thead>\n",
              "  <tbody>\n",
              "    <tr>\n",
              "      <th>0</th>\n",
              "      <td>betewe buka twitter cuman ngetweet liat home b...</td>\n",
              "      <td>0</td>\n",
              "    </tr>\n",
              "    <tr>\n",
              "      <th>1</th>\n",
              "      <td>mas piyuuu mugo2 corona tuh mulut tersumpal ma...</td>\n",
              "      <td>0</td>\n",
              "    </tr>\n",
              "    <tr>\n",
              "      <th>2</th>\n",
              "      <td>e100ss gini buka informasi sejelas nya identit...</td>\n",
              "      <td>1</td>\n",
              "    </tr>\n",
              "    <tr>\n",
              "      <th>3</th>\n",
              "      <td>neng solo wes ono terduga corona cobo neng ati...</td>\n",
              "      <td>0</td>\n",
              "    </tr>\n",
              "    <tr>\n",
              "      <th>4</th>\n",
              "      <td>midiahn nii akun gak takut takut nya isu coron...</td>\n",
              "      <td>0</td>\n",
              "    </tr>\n",
              "  </tbody>\n",
              "</table>\n",
              "</div>\n",
              "      <button class=\"colab-df-convert\" onclick=\"convertToInteractive('df-f29c6a07-b67c-4a32-ab84-52d1463e74bc')\"\n",
              "              title=\"Convert this dataframe to an interactive table.\"\n",
              "              style=\"display:none;\">\n",
              "        \n",
              "  <svg xmlns=\"http://www.w3.org/2000/svg\" height=\"24px\"viewBox=\"0 0 24 24\"\n",
              "       width=\"24px\">\n",
              "    <path d=\"M0 0h24v24H0V0z\" fill=\"none\"/>\n",
              "    <path d=\"M18.56 5.44l.94 2.06.94-2.06 2.06-.94-2.06-.94-.94-2.06-.94 2.06-2.06.94zm-11 1L8.5 8.5l.94-2.06 2.06-.94-2.06-.94L8.5 2.5l-.94 2.06-2.06.94zm10 10l.94 2.06.94-2.06 2.06-.94-2.06-.94-.94-2.06-.94 2.06-2.06.94z\"/><path d=\"M17.41 7.96l-1.37-1.37c-.4-.4-.92-.59-1.43-.59-.52 0-1.04.2-1.43.59L10.3 9.45l-7.72 7.72c-.78.78-.78 2.05 0 2.83L4 21.41c.39.39.9.59 1.41.59.51 0 1.02-.2 1.41-.59l7.78-7.78 2.81-2.81c.8-.78.8-2.07 0-2.86zM5.41 20L4 18.59l7.72-7.72 1.47 1.35L5.41 20z\"/>\n",
              "  </svg>\n",
              "      </button>\n",
              "      \n",
              "  <style>\n",
              "    .colab-df-container {\n",
              "      display:flex;\n",
              "      flex-wrap:wrap;\n",
              "      gap: 12px;\n",
              "    }\n",
              "\n",
              "    .colab-df-convert {\n",
              "      background-color: #E8F0FE;\n",
              "      border: none;\n",
              "      border-radius: 50%;\n",
              "      cursor: pointer;\n",
              "      display: none;\n",
              "      fill: #1967D2;\n",
              "      height: 32px;\n",
              "      padding: 0 0 0 0;\n",
              "      width: 32px;\n",
              "    }\n",
              "\n",
              "    .colab-df-convert:hover {\n",
              "      background-color: #E2EBFA;\n",
              "      box-shadow: 0px 1px 2px rgba(60, 64, 67, 0.3), 0px 1px 3px 1px rgba(60, 64, 67, 0.15);\n",
              "      fill: #174EA6;\n",
              "    }\n",
              "\n",
              "    [theme=dark] .colab-df-convert {\n",
              "      background-color: #3B4455;\n",
              "      fill: #D2E3FC;\n",
              "    }\n",
              "\n",
              "    [theme=dark] .colab-df-convert:hover {\n",
              "      background-color: #434B5C;\n",
              "      box-shadow: 0px 1px 3px 1px rgba(0, 0, 0, 0.15);\n",
              "      filter: drop-shadow(0px 1px 2px rgba(0, 0, 0, 0.3));\n",
              "      fill: #FFFFFF;\n",
              "    }\n",
              "  </style>\n",
              "\n",
              "      <script>\n",
              "        const buttonEl =\n",
              "          document.querySelector('#df-f29c6a07-b67c-4a32-ab84-52d1463e74bc button.colab-df-convert');\n",
              "        buttonEl.style.display =\n",
              "          google.colab.kernel.accessAllowed ? 'block' : 'none';\n",
              "\n",
              "        async function convertToInteractive(key) {\n",
              "          const element = document.querySelector('#df-f29c6a07-b67c-4a32-ab84-52d1463e74bc');\n",
              "          const dataTable =\n",
              "            await google.colab.kernel.invokeFunction('convertToInteractive',\n",
              "                                                     [key], {});\n",
              "          if (!dataTable) return;\n",
              "\n",
              "          const docLinkHtml = 'Like what you see? Visit the ' +\n",
              "            '<a target=\"_blank\" href=https://colab.research.google.com/notebooks/data_table.ipynb>data table notebook</a>'\n",
              "            + ' to learn more about interactive tables.';\n",
              "          element.innerHTML = '';\n",
              "          dataTable['output_type'] = 'display_data';\n",
              "          await google.colab.output.renderOutput(dataTable, element);\n",
              "          const docLink = document.createElement('div');\n",
              "          docLink.innerHTML = docLinkHtml;\n",
              "          element.appendChild(docLink);\n",
              "        }\n",
              "      </script>\n",
              "    </div>\n",
              "  </div>\n",
              "  "
            ]
          },
          "metadata": {},
          "execution_count": 19
        }
      ]
    },
    {
      "cell_type": "code",
      "source": [
        "texts = data[\"text_a\"]\n",
        "\n",
        "texts"
      ],
      "metadata": {
        "colab": {
          "base_uri": "https://localhost:8080/"
        },
        "id": "RaCDuFudvt1k",
        "outputId": "d241c278-f9dc-4946-ef9b-9fc793de3d99"
      },
      "execution_count": null,
      "outputs": [
        {
          "output_type": "execute_result",
          "data": {
            "text/plain": [
              "0        betewe buka twitter cuman ngetweet liat home b...\n",
              "1        mas piyuuu mugo2 corona tuh mulut tersumpal ma...\n",
              "2        e100ss gini buka informasi sejelas nya identit...\n",
              "3        neng solo wes ono terduga corona cobo neng ati...\n",
              "4        midiahn nii akun gak takut takut nya isu coron...\n",
              "                               ...                        \n",
              "21938    ku tenang2 bae ku sih ya corona nya ga depok k...\n",
              "21939    guru hati hati ya virus corona uda indonesia t...\n",
              "21940    4 terawan menyebut virus corona indonesia terd...\n",
              "21941          realffk buhari can t pronounce corona virus\n",
              "21942    hadapi wabah corona pemuda muhammadiyah pemeri...\n",
              "Name: text_a, Length: 21943, dtype: object"
            ]
          },
          "metadata": {},
          "execution_count": 20
        }
      ]
    },
    {
      "cell_type": "code",
      "source": [
        "texts = texts.apply(nltk.word_tokenize)\n",
        "texts"
      ],
      "metadata": {
        "colab": {
          "base_uri": "https://localhost:8080/"
        },
        "id": "hFVORDfgwowB",
        "outputId": "9652ebdb-c080-49dc-91c8-f3d57adb9738"
      },
      "execution_count": null,
      "outputs": [
        {
          "output_type": "execute_result",
          "data": {
            "text/plain": [
              "0        [betewe, buka, twitter, cuman, ngetweet, liat,...\n",
              "1        [mas, piyuuu, mugo2, corona, tuh, mulut, tersu...\n",
              "2        [e100ss, gini, buka, informasi, sejelas, nya, ...\n",
              "3        [neng, solo, wes, ono, terduga, corona, cobo, ...\n",
              "4        [midiahn, nii, akun, gak, takut, takut, nya, i...\n",
              "                               ...                        \n",
              "21938    [ku, tenang2, bae, ku, sih, ya, corona, nya, g...\n",
              "21939    [guru, hati, hati, ya, virus, corona, uda, ind...\n",
              "21940    [4, terawan, menyebut, virus, corona, indonesi...\n",
              "21941    [realffk, buhari, can, t, pronounce, corona, v...\n",
              "21942    [hadapi, wabah, corona, pemuda, muhammadiyah, ...\n",
              "Name: text_a, Length: 21943, dtype: object"
            ]
          },
          "metadata": {},
          "execution_count": 21
        }
      ]
    },
    {
      "cell_type": "markdown",
      "source": [
        "New Word2Vec model from dataset"
      ],
      "metadata": {
        "id": "J2zsx_bh_jDt"
      }
    },
    {
      "cell_type": "code",
      "source": [
        "model_10 = gensim.models.Word2Vec(\n",
        "    window=10,\n",
        "    min_count=2,\n",
        "    workers=4,\n",
        ")\n",
        "\n",
        "model_5 = gensim.models.Word2Vec(\n",
        "    window=5,\n",
        "    min_count=2,\n",
        "    workers=4,\n",
        ")"
      ],
      "metadata": {
        "id": "PmwS2qiRwZ05"
      },
      "execution_count": null,
      "outputs": []
    },
    {
      "cell_type": "code",
      "source": [
        "model_10.build_vocab(texts, progress_per=1000)\n",
        "model_5.build_vocab(texts, progress_per=1000)"
      ],
      "metadata": {
        "id": "WRH9NUQpyM7e"
      },
      "execution_count": null,
      "outputs": []
    },
    {
      "cell_type": "code",
      "source": [
        "model_10.train(texts, total_examples=model_10.corpus_count, epochs=model_10.epochs)\n",
        "model_5.train(texts, total_examples=model_5.corpus_count, epochs=model_5.epochs)"
      ],
      "metadata": {
        "colab": {
          "base_uri": "https://localhost:8080/"
        },
        "id": "nU7ueSykyUMq",
        "outputId": "6d6d5926-ff04-439c-a5b5-4f520125e889"
      },
      "execution_count": null,
      "outputs": [
        {
          "output_type": "execute_result",
          "data": {
            "text/plain": [
              "(1400283, 1721840)"
            ]
          },
          "metadata": {},
          "execution_count": 24
        }
      ]
    },
    {
      "cell_type": "code",
      "source": [
        "model_10.wv.most_similar(\"mahasiswa\")"
      ],
      "metadata": {
        "colab": {
          "base_uri": "https://localhost:8080/"
        },
        "id": "i4n9t_9T5Bz-",
        "outputId": "01014c84-2012-4b19-df7d-e98efec4848d"
      },
      "execution_count": null,
      "outputs": [
        {
          "output_type": "execute_result",
          "data": {
            "text/plain": [
              "[('gereja', 0.9967455863952637),\n",
              " ('keberadaan', 0.9952825307846069),\n",
              " ('palsu', 0.9945448637008667),\n",
              " ('rahasiakan', 0.9943862557411194),\n",
              " ('biaya', 0.994238555431366),\n",
              " ('dibalik', 0.9936500787734985),\n",
              " ('cak', 0.9935745596885681),\n",
              " ('dngn', 0.9934371113777161),\n",
              " ('dugaan', 0.992937445640564),\n",
              " ('hukuman', 0.9928697347640991)]"
            ]
          },
          "metadata": {},
          "execution_count": 25
        }
      ]
    },
    {
      "cell_type": "code",
      "source": [
        "model_5.wv.most_similar(\"mahasiswa\")"
      ],
      "metadata": {
        "colab": {
          "base_uri": "https://localhost:8080/"
        },
        "id": "GMCDhhXZPayC",
        "outputId": "78a09055-ece6-45bf-b149-d5505b8ac57a"
      },
      "execution_count": null,
      "outputs": [
        {
          "output_type": "execute_result",
          "data": {
            "text/plain": [
              "[('omg', 0.9968777298927307),\n",
              " ('gmna', 0.9968095421791077),\n",
              " ('dagang', 0.9966608285903931),\n",
              " ('ajah', 0.9963656067848206),\n",
              " ('diajak', 0.9962037205696106),\n",
              " ('sd', 0.9960975050926208),\n",
              " ('twit', 0.9958769679069519),\n",
              " ('ramai', 0.9957376718521118),\n",
              " ('cinta', 0.9957149028778076),\n",
              " ('buru', 0.99550861120224)]"
            ]
          },
          "metadata": {},
          "execution_count": 26
        }
      ]
    },
    {
      "cell_type": "code",
      "source": [
        "filename_10 = \"data_worthcheck_10.txt\"\n",
        "filename_5 = \"data_worthcheck_5.txt\"\n",
        "model_10.wv.save_word2vec_format(filename_10, binary=False)"
      ],
      "metadata": {
        "id": "5MYnZxSU6fvO"
      },
      "execution_count": null,
      "outputs": []
    },
    {
      "cell_type": "code",
      "source": [
        "embedding_index = {}\n",
        "f = open(os.path.join('', filename_10), encoding=\"utf-8\")\n",
        "\n",
        "for line in f:\n",
        "  values = line.split()\n",
        "  word = values[0]\n",
        "  coefs = np.asarray(values[1:])\n",
        "  embedding_index[word] = coefs\n",
        "\n",
        "f.close"
      ],
      "metadata": {
        "colab": {
          "base_uri": "https://localhost:8080/"
        },
        "id": "_y08RGXt7yUG",
        "outputId": "0f6a2f89-1b76-40ef-a8a2-5356ed97091b"
      },
      "execution_count": null,
      "outputs": [
        {
          "output_type": "execute_result",
          "data": {
            "text/plain": [
              "<function TextIOWrapper.close()>"
            ]
          },
          "metadata": {},
          "execution_count": 31
        }
      ]
    },
    {
      "cell_type": "markdown",
      "source": [
        "Buat model deep learning dan gunakan model Word2Vec ke dalam Embedding layer"
      ],
      "metadata": {
        "id": "PJR0-HUNO_g3"
      }
    },
    {
      "cell_type": "code",
      "source": [
        "X_train, X_dev, X_test, y_train, y_dev, y_test = train[\"text_a\"], development[\"text_a\"], test[\"text_a\"], train[\"label\"], development[\"label\"], test[\"label\"]"
      ],
      "metadata": {
        "id": "heMZSjbT8xzL"
      },
      "execution_count": null,
      "outputs": []
    },
    {
      "cell_type": "code",
      "source": [
        "train[\"text_a\"]"
      ],
      "metadata": {
        "colab": {
          "base_uri": "https://localhost:8080/"
        },
        "id": "snCZK2w_TYFO",
        "outputId": "6155ab19-30d7-4a21-d36c-62d097ae7a61"
      },
      "execution_count": null,
      "outputs": [
        {
          "output_type": "execute_result",
          "data": {
            "text/plain": [
              "0        betewe buka twitter cuman ngetweet liat home b...\n",
              "1        mas piyuuu mugo2 corona tuh mulut tersumpal ma...\n",
              "2        e100ss gini buka informasi sejelas nya identit...\n",
              "3        neng solo wes ono terduga corona cobo neng ati...\n",
              "4        midiahn nii akun gak takut takut nya isu coron...\n",
              "                               ...                        \n",
              "17420    mengejutkan 2 cases covid 19 indonesia tenaga ...\n",
              "17422    null komentar iwan fals virus corona indonesia...\n",
              "17424    null komentar iwan fals virus corona indonesia...\n",
              "17426    giapratamamd kalo ga berinteraksi orang positi...\n",
              "17427    a a a a girls jujur ya sayang banget stay safe...\n",
              "Name: text_a, Length: 16349, dtype: object"
            ]
          },
          "metadata": {},
          "execution_count": 28
        }
      ]
    },
    {
      "cell_type": "code",
      "source": [
        "tokenizer_obj = Tokenizer(oov_token=\"<OOV>\", num_words=1000)\n",
        "tokenizer_obj.fit_on_texts(X_train)\n",
        "tokenizer_obj.fit_on_texts(X_test)\n",
        "tokenizer_obj.fit_on_texts(X_dev)\n",
        "\n",
        "sequences_train = tokenizer_obj.texts_to_sequences(X_train)\n",
        "sequences_test = tokenizer_obj.texts_to_sequences(X_test)\n",
        "sequences_dev = tokenizer_obj.texts_to_sequences(X_dev)"
      ],
      "metadata": {
        "id": "tX294D0i8ftR"
      },
      "execution_count": null,
      "outputs": []
    },
    {
      "cell_type": "code",
      "source": [
        "texts.head()"
      ],
      "metadata": {
        "colab": {
          "base_uri": "https://localhost:8080/"
        },
        "id": "Jcr6bzbBBDYK",
        "outputId": "24529c60-6416-4a83-e74a-2bf3d79b7d4b"
      },
      "execution_count": null,
      "outputs": [
        {
          "output_type": "execute_result",
          "data": {
            "text/plain": [
              "0    [betewe, buka, twitter, cuman, ngetweet, liat,...\n",
              "1    [mas, piyuuu, mugo2, corona, tuh, mulut, tersu...\n",
              "2    [e100ss, gini, buka, informasi, sejelas, nya, ...\n",
              "3    [neng, solo, wes, ono, terduga, corona, cobo, ...\n",
              "4    [midiahn, nii, akun, gak, takut, takut, nya, i...\n",
              "Name: text_a, dtype: object"
            ]
          },
          "metadata": {},
          "execution_count": 32
        }
      ]
    },
    {
      "cell_type": "code",
      "source": [
        "word_index = tokenizer_obj.word_index\n",
        "max_length = 100\n",
        "vocab_size = len(word_index) + 1"
      ],
      "metadata": {
        "id": "npFe_TSlAAXF"
      },
      "execution_count": null,
      "outputs": []
    },
    {
      "cell_type": "code",
      "source": [
        "print(vocab_size)"
      ],
      "metadata": {
        "colab": {
          "base_uri": "https://localhost:8080/"
        },
        "id": "ALKT7TCIYtkk",
        "outputId": "994d6813-76a0-4661-8ed7-0825b9486a0e"
      },
      "execution_count": null,
      "outputs": [
        {
          "output_type": "stream",
          "name": "stdout",
          "text": [
            "50100\n"
          ]
        }
      ]
    },
    {
      "cell_type": "code",
      "source": [
        "print(max_length)"
      ],
      "metadata": {
        "colab": {
          "base_uri": "https://localhost:8080/"
        },
        "id": "ileSOnC9Xz2M",
        "outputId": "322f0838-d301-4669-f0f4-1850e854270e"
      },
      "execution_count": null,
      "outputs": [
        {
          "output_type": "stream",
          "name": "stdout",
          "text": [
            "100\n"
          ]
        }
      ]
    },
    {
      "cell_type": "code",
      "source": [
        "train_padded = pad_sequences(sequences_train, maxlen=max_length)\n",
        "dev_padded = pad_sequences(sequences_dev, maxlen=max_length)\n",
        "test_padded = pad_sequences(sequences_test, maxlen=max_length)\n",
        "\n",
        "train_padded.shape"
      ],
      "metadata": {
        "colab": {
          "base_uri": "https://localhost:8080/"
        },
        "id": "7F5MGIQz9xHh",
        "outputId": "66f00e64-26d5-454f-c6a4-ab0bb0e3f5c6"
      },
      "execution_count": null,
      "outputs": [
        {
          "output_type": "execute_result",
          "data": {
            "text/plain": [
              "(16349, 100)"
            ]
          },
          "metadata": {},
          "execution_count": 34
        }
      ]
    },
    {
      "cell_type": "code",
      "source": [
        "num_words = len(word_index) + 1\n",
        "print(num_words)\n",
        "EMBEDDING_DIM = 100\n",
        "embedding_matrix = np.zeros((num_words, EMBEDDING_DIM))\n",
        "\n",
        "for word, i in word_index.items():\n",
        "  if i > num_words:\n",
        "    continue\n",
        "\n",
        "  embedding_vector = embedding_index.get(word)\n",
        "  if embedding_vector is not None:\n",
        "    embedding_matrix[i] = embedding_vector"
      ],
      "metadata": {
        "colab": {
          "base_uri": "https://localhost:8080/"
        },
        "id": "CxxZYeNb-_tg",
        "outputId": "0af9ac1f-332f-4994-ae89-422c54a92693"
      },
      "execution_count": null,
      "outputs": [
        {
          "output_type": "stream",
          "name": "stdout",
          "text": [
            "50100\n"
          ]
        }
      ]
    },
    {
      "cell_type": "markdown",
      "source": [
        "Inisiasi model deep learning"
      ],
      "metadata": {
        "id": "8wyUalCk_t9N"
      }
    },
    {
      "cell_type": "markdown",
      "source": [
        "Menggunakan embedding layer tanpa model Word2Vec"
      ],
      "metadata": {
        "id": "MVl__cT__xbh"
      }
    },
    {
      "cell_type": "code",
      "source": [
        "tf.config.run_functions_eagerly(False)\n",
        "\n",
        "model = Sequential()\n",
        "model.add(Embedding(vocab_size, 16, input_length=max_length))\n",
        "model.add(Conv1D(filters=32, kernel_size=3, activation='relu'))\n",
        "model.add(MaxPooling1D(pool_size=2))\n",
        "model.add(Flatten())\n",
        "model.add(Dense(10, activation='relu'))\n",
        "model.add(Dense(1, activation='sigmoid'))\n",
        "print(model.summary())\n",
        "\n",
        "model.compile(loss='binary_crossentropy', optimizer='adam', metrics=['accuracy'])\n",
        "model.fit(train_padded, y_train, epochs=20, validation_data=(dev_padded, y_dev), verbose=1)"
      ],
      "metadata": {
        "colab": {
          "base_uri": "https://localhost:8080/"
        },
        "outputId": "8f4c8d30-2309-4eb2-8cf7-71fb58eaa752",
        "id": "129MhIJSqplj"
      },
      "execution_count": null,
      "outputs": [
        {
          "output_type": "stream",
          "name": "stdout",
          "text": [
            "Model: \"sequential_5\"\n",
            "_________________________________________________________________\n",
            " Layer (type)                Output Shape              Param #   \n",
            "=================================================================\n",
            " embedding_5 (Embedding)     (None, 100, 16)           801600    \n",
            "                                                                 \n",
            " conv1d_3 (Conv1D)           (None, 98, 32)            1568      \n",
            "                                                                 \n",
            " max_pooling1d_3 (MaxPooling  (None, 49, 32)           0         \n",
            " 1D)                                                             \n",
            "                                                                 \n",
            " flatten_3 (Flatten)         (None, 1568)              0         \n",
            "                                                                 \n",
            " dense_8 (Dense)             (None, 10)                15690     \n",
            "                                                                 \n",
            " dense_9 (Dense)             (None, 1)                 11        \n",
            "                                                                 \n",
            "=================================================================\n",
            "Total params: 818,869\n",
            "Trainable params: 818,869\n",
            "Non-trainable params: 0\n",
            "_________________________________________________________________\n",
            "None\n",
            "Epoch 1/20\n",
            "511/511 [==============================] - 12s 20ms/step - loss: 0.4652 - accuracy: 0.7895 - val_loss: 0.3964 - val_accuracy: 0.8320\n",
            "Epoch 2/20\n",
            "511/511 [==============================] - 7s 14ms/step - loss: 0.3782 - accuracy: 0.8473 - val_loss: 0.3805 - val_accuracy: 0.8388\n",
            "Epoch 3/20\n",
            "511/511 [==============================] - 7s 14ms/step - loss: 0.3501 - accuracy: 0.8550 - val_loss: 0.3706 - val_accuracy: 0.8413\n",
            "Epoch 4/20\n",
            "511/511 [==============================] - 7s 14ms/step - loss: 0.3184 - accuracy: 0.8623 - val_loss: 0.3723 - val_accuracy: 0.8295\n",
            "Epoch 5/20\n",
            "511/511 [==============================] - 8s 16ms/step - loss: 0.2996 - accuracy: 0.8689 - val_loss: 0.3698 - val_accuracy: 0.8330\n",
            "Epoch 6/20\n",
            "511/511 [==============================] - 7s 14ms/step - loss: 0.2834 - accuracy: 0.8791 - val_loss: 0.3679 - val_accuracy: 0.8395\n",
            "Epoch 7/20\n",
            "511/511 [==============================] - 7s 13ms/step - loss: 0.2661 - accuracy: 0.8873 - val_loss: 0.4040 - val_accuracy: 0.8448\n",
            "Epoch 8/20\n",
            "511/511 [==============================] - 7s 14ms/step - loss: 0.2499 - accuracy: 0.8940 - val_loss: 0.4013 - val_accuracy: 0.8302\n",
            "Epoch 9/20\n",
            "511/511 [==============================] - 7s 13ms/step - loss: 0.2339 - accuracy: 0.9029 - val_loss: 0.4276 - val_accuracy: 0.8327\n",
            "Epoch 10/20\n",
            "511/511 [==============================] - 7s 13ms/step - loss: 0.2164 - accuracy: 0.9122 - val_loss: 0.4435 - val_accuracy: 0.8284\n",
            "Epoch 11/20\n",
            "511/511 [==============================] - 7s 13ms/step - loss: 0.2001 - accuracy: 0.9194 - val_loss: 0.4831 - val_accuracy: 0.8273\n",
            "Epoch 12/20\n",
            "511/511 [==============================] - 7s 13ms/step - loss: 0.1843 - accuracy: 0.9276 - val_loss: 0.4827 - val_accuracy: 0.8220\n",
            "Epoch 13/20\n",
            "511/511 [==============================] - 8s 16ms/step - loss: 0.1694 - accuracy: 0.9353 - val_loss: 0.5269 - val_accuracy: 0.8209\n",
            "Epoch 14/20\n",
            "511/511 [==============================] - 8s 15ms/step - loss: 0.1537 - accuracy: 0.9411 - val_loss: 0.5521 - val_accuracy: 0.8077\n",
            "Epoch 15/20\n",
            "511/511 [==============================] - 7s 13ms/step - loss: 0.1417 - accuracy: 0.9468 - val_loss: 0.6203 - val_accuracy: 0.8227\n",
            "Epoch 16/20\n",
            "511/511 [==============================] - 7s 13ms/step - loss: 0.1282 - accuracy: 0.9534 - val_loss: 0.6378 - val_accuracy: 0.8194\n",
            "Epoch 17/20\n",
            "511/511 [==============================] - 8s 16ms/step - loss: 0.1193 - accuracy: 0.9565 - val_loss: 0.6793 - val_accuracy: 0.8094\n",
            "Epoch 18/20\n",
            "511/511 [==============================] - 7s 13ms/step - loss: 0.1104 - accuracy: 0.9607 - val_loss: 0.6853 - val_accuracy: 0.8102\n",
            "Epoch 19/20\n",
            "511/511 [==============================] - 7s 13ms/step - loss: 0.1043 - accuracy: 0.9610 - val_loss: 0.7180 - val_accuracy: 0.8087\n",
            "Epoch 20/20\n",
            "511/511 [==============================] - 7s 13ms/step - loss: 0.0972 - accuracy: 0.9657 - val_loss: 0.7424 - val_accuracy: 0.8102\n"
          ]
        },
        {
          "output_type": "execute_result",
          "data": {
            "text/plain": [
              "<keras.callbacks.History at 0x7f1f4106d450>"
            ]
          },
          "metadata": {},
          "execution_count": 64
        }
      ]
    },
    {
      "cell_type": "code",
      "source": [
        "y_pred = (model.predict(test_padded) > 0.5).astype(\"int32\")\n",
        "print(classification_report(y_test, y_pred, target_names= {'no': 0, 'yes': 1} )) \n"
      ],
      "metadata": {
        "colab": {
          "base_uri": "https://localhost:8080/"
        },
        "outputId": "521fae46-1756-4749-afe1-853176916de3",
        "id": "MTWNOggCq0lk"
      },
      "execution_count": null,
      "outputs": [
        {
          "output_type": "stream",
          "name": "stdout",
          "text": [
            "              precision    recall  f1-score   support\n",
            "\n",
            "          no       0.88      0.87      0.87      2092\n",
            "         yes       0.62      0.63      0.63       705\n",
            "\n",
            "    accuracy                           0.81      2797\n",
            "   macro avg       0.75      0.75      0.75      2797\n",
            "weighted avg       0.81      0.81      0.81      2797\n",
            "\n"
          ]
        }
      ]
    },
    {
      "cell_type": "markdown",
      "source": [
        "Susunan layer sama namun menggunakan word2vec embedding sebagai initializer"
      ],
      "metadata": {
        "id": "5CQ8w9ohACcK"
      }
    },
    {
      "cell_type": "code",
      "source": [
        "model = Sequential()\n",
        "model.add(Embedding(vocab_size, EMBEDDING_DIM, embeddings_initializer=Constant(embedding_matrix), input_length=100))\n",
        "model.add(Conv1D(filters=32, kernel_size=3, activation='relu'))\n",
        "model.add(MaxPooling1D(pool_size=2))\n",
        "model.add(Flatten())\n",
        "model.add(Dense(10, activation='relu'))\n",
        "model.add(Dense(1, activation='sigmoid'))\n",
        "print(model.summary())\n",
        "\n",
        "model.compile(loss='binary_crossentropy', optimizer='adam', metrics=['accuracy'])\n",
        "model.fit(train_padded, y_train, epochs=20, validation_data=(dev_padded, y_dev), verbose=1)"
      ],
      "metadata": {
        "colab": {
          "base_uri": "https://localhost:8080/"
        },
        "outputId": "02818d17-c390-4315-f15b-f9bc22406b6f",
        "id": "MW7xxJoxrcH6"
      },
      "execution_count": null,
      "outputs": [
        {
          "output_type": "stream",
          "name": "stdout",
          "text": [
            "Model: \"sequential_7\"\n",
            "_________________________________________________________________\n",
            " Layer (type)                Output Shape              Param #   \n",
            "=================================================================\n",
            " embedding_7 (Embedding)     (None, 100, 100)          5010000   \n",
            "                                                                 \n",
            " conv1d_5 (Conv1D)           (None, 98, 32)            9632      \n",
            "                                                                 \n",
            " max_pooling1d_5 (MaxPooling  (None, 49, 32)           0         \n",
            " 1D)                                                             \n",
            "                                                                 \n",
            " flatten_5 (Flatten)         (None, 1568)              0         \n",
            "                                                                 \n",
            " dense_12 (Dense)            (None, 10)                15690     \n",
            "                                                                 \n",
            " dense_13 (Dense)            (None, 1)                 11        \n",
            "                                                                 \n",
            "=================================================================\n",
            "Total params: 5,035,333\n",
            "Trainable params: 5,035,333\n",
            "Non-trainable params: 0\n",
            "_________________________________________________________________\n",
            "None\n",
            "Epoch 1/20\n",
            "511/511 [==============================] - 34s 66ms/step - loss: 0.4191 - accuracy: 0.8102 - val_loss: 0.4031 - val_accuracy: 0.8209\n",
            "Epoch 2/20\n",
            "511/511 [==============================] - 33s 65ms/step - loss: 0.3675 - accuracy: 0.8402 - val_loss: 0.3710 - val_accuracy: 0.8455\n",
            "Epoch 3/20\n",
            "511/511 [==============================] - 32s 63ms/step - loss: 0.3373 - accuracy: 0.8560 - val_loss: 0.3631 - val_accuracy: 0.8595\n",
            "Epoch 4/20\n",
            "511/511 [==============================] - 32s 63ms/step - loss: 0.3102 - accuracy: 0.8685 - val_loss: 0.3646 - val_accuracy: 0.8502\n",
            "Epoch 5/20\n",
            "511/511 [==============================] - 33s 65ms/step - loss: 0.2920 - accuracy: 0.8769 - val_loss: 0.3566 - val_accuracy: 0.8523\n",
            "Epoch 6/20\n",
            "511/511 [==============================] - 32s 63ms/step - loss: 0.2763 - accuracy: 0.8831 - val_loss: 0.3690 - val_accuracy: 0.8566\n",
            "Epoch 7/20\n",
            "511/511 [==============================] - 32s 62ms/step - loss: 0.2576 - accuracy: 0.8917 - val_loss: 0.3840 - val_accuracy: 0.8498\n",
            "Epoch 8/20\n",
            "511/511 [==============================] - 33s 64ms/step - loss: 0.2401 - accuracy: 0.8991 - val_loss: 0.3869 - val_accuracy: 0.8502\n",
            "Epoch 9/20\n",
            "511/511 [==============================] - 32s 62ms/step - loss: 0.2173 - accuracy: 0.9079 - val_loss: 0.4179 - val_accuracy: 0.8434\n",
            "Epoch 10/20\n",
            "511/511 [==============================] - 32s 62ms/step - loss: 0.1970 - accuracy: 0.9200 - val_loss: 0.4578 - val_accuracy: 0.8334\n",
            "Epoch 11/20\n",
            "511/511 [==============================] - 32s 62ms/step - loss: 0.1753 - accuracy: 0.9297 - val_loss: 0.4763 - val_accuracy: 0.8227\n",
            "Epoch 12/20\n",
            "511/511 [==============================] - 32s 63ms/step - loss: 0.1581 - accuracy: 0.9360 - val_loss: 0.5130 - val_accuracy: 0.8270\n",
            "Epoch 13/20\n",
            "511/511 [==============================] - 31s 62ms/step - loss: 0.1431 - accuracy: 0.9438 - val_loss: 0.5422 - val_accuracy: 0.8359\n",
            "Epoch 14/20\n",
            "511/511 [==============================] - 32s 62ms/step - loss: 0.1282 - accuracy: 0.9497 - val_loss: 0.5236 - val_accuracy: 0.8377\n",
            "Epoch 15/20\n",
            "511/511 [==============================] - 32s 62ms/step - loss: 0.1155 - accuracy: 0.9548 - val_loss: 0.6105 - val_accuracy: 0.8270\n",
            "Epoch 16/20\n",
            "511/511 [==============================] - 33s 64ms/step - loss: 0.1012 - accuracy: 0.9616 - val_loss: 0.6683 - val_accuracy: 0.8320\n",
            "Epoch 17/20\n",
            "511/511 [==============================] - 32s 62ms/step - loss: 0.0984 - accuracy: 0.9618 - val_loss: 0.6544 - val_accuracy: 0.8252\n",
            "Epoch 18/20\n",
            "511/511 [==============================] - 32s 62ms/step - loss: 0.0902 - accuracy: 0.9665 - val_loss: 0.7126 - val_accuracy: 0.8302\n",
            "Epoch 19/20\n",
            "511/511 [==============================] - 32s 62ms/step - loss: 0.0850 - accuracy: 0.9684 - val_loss: 0.6801 - val_accuracy: 0.8284\n",
            "Epoch 20/20\n",
            "511/511 [==============================] - 33s 64ms/step - loss: 0.0808 - accuracy: 0.9687 - val_loss: 0.7063 - val_accuracy: 0.8177\n"
          ]
        },
        {
          "output_type": "execute_result",
          "data": {
            "text/plain": [
              "<keras.callbacks.History at 0x7f1f40c82590>"
            ]
          },
          "metadata": {},
          "execution_count": 67
        }
      ]
    },
    {
      "cell_type": "code",
      "source": [
        "tf.config.run_functions_eagerly(False)\n",
        "\n",
        "y_pred = (model.predict(test_padded) > 0.5).astype(\"int32\")\n",
        "print(classification_report(y_test, y_pred, target_names= {'no': 0, 'yes': 1} )) "
      ],
      "metadata": {
        "colab": {
          "base_uri": "https://localhost:8080/"
        },
        "outputId": "0ca2cfa5-db4c-4a07-87b1-5a37891dd409",
        "id": "gdNjjZnDrjOg"
      },
      "execution_count": null,
      "outputs": [
        {
          "output_type": "stream",
          "name": "stdout",
          "text": [
            "              precision    recall  f1-score   support\n",
            "\n",
            "          no       0.90      0.85      0.87      2092\n",
            "         yes       0.62      0.72      0.67       705\n",
            "\n",
            "    accuracy                           0.82      2797\n",
            "   macro avg       0.76      0.79      0.77      2797\n",
            "weighted avg       0.83      0.82      0.82      2797\n",
            "\n"
          ]
        }
      ]
    },
    {
      "cell_type": "markdown",
      "source": [
        "Menggunakan Word2Vec dan GRU layer"
      ],
      "metadata": {
        "id": "_VkAQX57_85i"
      }
    },
    {
      "cell_type": "code",
      "source": [
        "tf.config.run_functions_eagerly(True)\n",
        "\n",
        "model = Sequential()\n",
        "embedding_layer = Embedding(vocab_size, EMBEDDING_DIM, embeddings_initializer=Constant(embedding_matrix), input_length=100)\n",
        "model.add(embedding_layer)\n",
        "model.add(GRU(units=32, dropout=0.2, recurrent_dropout=0.2))\n",
        "model.add(Dense(1, activation=\"sigmoid\"))\n",
        "\n",
        "print(model.summary())\n",
        "\n",
        "model.compile(loss=\"binary_crossentropy\", optimizer=\"adam\", metrics=[\"accuracy\"])"
      ],
      "metadata": {
        "id": "aCS4bNud-vgK",
        "colab": {
          "base_uri": "https://localhost:8080/"
        },
        "outputId": "dfd375eb-6e85-438a-d366-6fcfba527a69"
      },
      "execution_count": null,
      "outputs": [
        {
          "output_type": "stream",
          "name": "stdout",
          "text": [
            "Model: \"sequential_3\"\n",
            "_________________________________________________________________\n",
            " Layer (type)                Output Shape              Param #   \n",
            "=================================================================\n",
            " embedding_3 (Embedding)     (None, 100, 100)          5010000   \n",
            "                                                                 \n",
            " gru_1 (GRU)                 (None, 32)                12864     \n",
            "                                                                 \n",
            " dense_5 (Dense)             (None, 1)                 33        \n",
            "                                                                 \n",
            "=================================================================\n",
            "Total params: 5,022,897\n",
            "Trainable params: 5,022,897\n",
            "Non-trainable params: 0\n",
            "_________________________________________________________________\n",
            "None\n"
          ]
        }
      ]
    },
    {
      "cell_type": "code",
      "source": [
        "tf.config.run_functions_eagerly(True)\n",
        "\n",
        "model.fit(train_padded, y_train, batch_size=128, epochs=20, validation_data=(dev_padded, y_dev), verbose=1)"
      ],
      "metadata": {
        "colab": {
          "base_uri": "https://localhost:8080/"
        },
        "outputId": "17829b30-08a0-4aaf-89b7-d3277d17b9bd",
        "id": "cMuZmhYq56J6"
      },
      "execution_count": null,
      "outputs": [
        {
          "output_type": "stream",
          "name": "stdout",
          "text": [
            "Epoch 1/20\n"
          ]
        },
        {
          "output_type": "stream",
          "name": "stderr",
          "text": [
            "/usr/local/lib/python3.7/dist-packages/tensorflow/python/data/ops/structured_function.py:265: UserWarning: Even though the `tf.config.experimental_run_functions_eagerly` option is set, this option does not apply to tf.data functions. To force eager execution of tf.data functions, please use `tf.data.experimental.enable_debug_mode()`.\n",
            "  \"Even though the `tf.config.experimental_run_functions_eagerly` \"\n"
          ]
        },
        {
          "output_type": "stream",
          "name": "stdout",
          "text": [
            "128/128 [==============================] - 175s 1s/step - loss: 0.4923 - accuracy: 0.7587 - val_loss: 0.4060 - val_accuracy: 0.8216\n",
            "Epoch 2/20\n",
            "128/128 [==============================] - 184s 1s/step - loss: 0.4037 - accuracy: 0.8227 - val_loss: 0.3787 - val_accuracy: 0.8363\n",
            "Epoch 3/20\n",
            "128/128 [==============================] - 173s 1s/step - loss: 0.3792 - accuracy: 0.8337 - val_loss: 0.3643 - val_accuracy: 0.8391\n",
            "Epoch 4/20\n",
            "128/128 [==============================] - 183s 1s/step - loss: 0.3594 - accuracy: 0.8453 - val_loss: 0.3554 - val_accuracy: 0.8455\n",
            "Epoch 5/20\n",
            "128/128 [==============================] - 173s 1s/step - loss: 0.3435 - accuracy: 0.8524 - val_loss: 0.3531 - val_accuracy: 0.8427\n",
            "Epoch 6/20\n",
            "128/128 [==============================] - 174s 1s/step - loss: 0.3328 - accuracy: 0.8580 - val_loss: 0.3447 - val_accuracy: 0.8534\n",
            "Epoch 7/20\n",
            "128/128 [==============================] - 175s 1s/step - loss: 0.3238 - accuracy: 0.8655 - val_loss: 0.3442 - val_accuracy: 0.8513\n",
            "Epoch 8/20\n",
            "128/128 [==============================] - 175s 1s/step - loss: 0.3188 - accuracy: 0.8662 - val_loss: 0.3432 - val_accuracy: 0.8495\n",
            "Epoch 9/20\n",
            "128/128 [==============================] - 183s 1s/step - loss: 0.3125 - accuracy: 0.8663 - val_loss: 0.3437 - val_accuracy: 0.8581\n",
            "Epoch 10/20\n",
            "128/128 [==============================] - 183s 1s/step - loss: 0.3059 - accuracy: 0.8723 - val_loss: 0.3516 - val_accuracy: 0.8484\n",
            "Epoch 11/20\n",
            "128/128 [==============================] - 174s 1s/step - loss: 0.3022 - accuracy: 0.8738 - val_loss: 0.3423 - val_accuracy: 0.8556\n",
            "Epoch 12/20\n",
            "128/128 [==============================] - 185s 1s/step - loss: 0.2949 - accuracy: 0.8762 - val_loss: 0.3469 - val_accuracy: 0.8498\n",
            "Epoch 13/20\n",
            "128/128 [==============================] - 184s 1s/step - loss: 0.2924 - accuracy: 0.8756 - val_loss: 0.3440 - val_accuracy: 0.8573\n",
            "Epoch 14/20\n",
            "128/128 [==============================] - 177s 1s/step - loss: 0.2871 - accuracy: 0.8779 - val_loss: 0.3468 - val_accuracy: 0.8581\n",
            "Epoch 15/20\n",
            "128/128 [==============================] - 188s 1s/step - loss: 0.2839 - accuracy: 0.8793 - val_loss: 0.3498 - val_accuracy: 0.8527\n",
            "Epoch 16/20\n",
            "128/128 [==============================] - 178s 1s/step - loss: 0.2772 - accuracy: 0.8843 - val_loss: 0.3516 - val_accuracy: 0.8534\n",
            "Epoch 17/20\n",
            "128/128 [==============================] - 187s 1s/step - loss: 0.2761 - accuracy: 0.8831 - val_loss: 0.3533 - val_accuracy: 0.8520\n",
            "Epoch 18/20\n",
            "128/128 [==============================] - 180s 1s/step - loss: 0.2707 - accuracy: 0.8857 - val_loss: 0.3541 - val_accuracy: 0.8534\n",
            "Epoch 19/20\n",
            "128/128 [==============================] - 180s 1s/step - loss: 0.2682 - accuracy: 0.8906 - val_loss: 0.3554 - val_accuracy: 0.8527\n",
            "Epoch 20/20\n",
            "128/128 [==============================] - 179s 1s/step - loss: 0.2613 - accuracy: 0.8908 - val_loss: 0.3627 - val_accuracy: 0.8520\n"
          ]
        },
        {
          "output_type": "execute_result",
          "data": {
            "text/plain": [
              "<keras.callbacks.History at 0x7f1f3432f110>"
            ]
          },
          "metadata": {},
          "execution_count": 71
        }
      ]
    },
    {
      "cell_type": "code",
      "source": [
        "tf.config.run_functions_eagerly(False)\n",
        "\n",
        "y_pred = (model.predict(test_padded) > 0.5).astype(\"int32\")\n",
        "print(classification_report(y_test, y_pred, target_names= {'no': 0, 'yes': 1} )) "
      ],
      "metadata": {
        "colab": {
          "base_uri": "https://localhost:8080/"
        },
        "outputId": "566d83f5-b74f-4416-86bc-3f2c370b7e38",
        "id": "bg2RPJnN6BVT"
      },
      "execution_count": null,
      "outputs": [
        {
          "output_type": "stream",
          "name": "stdout",
          "text": [
            "              precision    recall  f1-score   support\n",
            "\n",
            "          no       0.89      0.92      0.90      2092\n",
            "         yes       0.73      0.66      0.69       705\n",
            "\n",
            "    accuracy                           0.85      2797\n",
            "   macro avg       0.81      0.79      0.80      2797\n",
            "weighted avg       0.85      0.85      0.85      2797\n",
            "\n"
          ]
        }
      ]
    },
    {
      "cell_type": "markdown",
      "source": [
        "Saving model"
      ],
      "metadata": {
        "id": "g6rEWVR-r3xI"
      }
    },
    {
      "cell_type": "code",
      "source": [
        "model.save(\"models/non_contextual_word2vec.h5\")"
      ],
      "metadata": {
        "id": "905d8lLrr9BB"
      },
      "execution_count": null,
      "outputs": []
    },
    {
      "cell_type": "markdown",
      "source": [
        "Load model"
      ],
      "metadata": {
        "id": "ysXv4wse3B54"
      }
    },
    {
      "cell_type": "code",
      "source": [
        "loaded_model = tf.keras.models.load_model('models/non_contextual_word2vec.h5')"
      ],
      "metadata": {
        "id": "FhcVb4JR2Owj"
      },
      "execution_count": null,
      "outputs": []
    },
    {
      "cell_type": "code",
      "source": [
        "y_pred = (loaded_model.predict(test_padded) > 0.5).astype(\"int32\")\n",
        "print(classification_report(y_test, y_pred, target_names= {'no': 0, 'yes': 1} )) "
      ],
      "metadata": {
        "colab": {
          "base_uri": "https://localhost:8080/"
        },
        "id": "lhk7uQGQ25P6",
        "outputId": "98c20635-f517-44da-d044-4ada2ac44450"
      },
      "execution_count": null,
      "outputs": [
        {
          "output_type": "stream",
          "name": "stdout",
          "text": [
            "              precision    recall  f1-score   support\n",
            "\n",
            "          no       0.89      0.90      0.90      2092\n",
            "         yes       0.70      0.68      0.69       705\n",
            "\n",
            "    accuracy                           0.85      2797\n",
            "   macro avg       0.80      0.79      0.79      2797\n",
            "weighted avg       0.84      0.85      0.85      2797\n",
            "\n"
          ]
        }
      ]
    },
    {
      "cell_type": "markdown",
      "source": [
        "Menggunakan trained W2V bahasa indonesia\n",
        "\n",
        "Source:\n",
        "\n",
        "https://medium.com/@diekanugraha/membuat-model-word2vec-bahasa-indonesia-dari-wikipedia-menggunakan-gensim-e5745b98714d"
      ],
      "metadata": {
        "id": "ggRJ70dBYJ6k"
      }
    },
    {
      "cell_type": "code",
      "source": [
        "filename = 'idwiki_word2vec_100_new_lower.model'\n",
        "path = os.path.join('', filename)\n",
        "id_w2v = gensim.models.word2vec.Word2Vec.load(path)"
      ],
      "metadata": {
        "id": "mvgU3OYbYP06"
      },
      "execution_count": 51,
      "outputs": []
    },
    {
      "cell_type": "code",
      "source": [
        "id_w2v.build_vocab(texts, progress_per=1000, update=True)\n",
        "id_w2v.train(texts, total_examples=id_w2v.corpus_count, epochs=id_w2v.epochs)"
      ],
      "metadata": {
        "colab": {
          "base_uri": "https://localhost:8080/"
        },
        "id": "7qXtTwDevRqj",
        "outputId": "3ea9ea79-1895-4ebd-c980-764957fdc240"
      },
      "execution_count": 59,
      "outputs": [
        {
          "output_type": "stream",
          "name": "stderr",
          "text": [
            "WARNING:gensim.models.word2vec:Effective 'alpha' higher than previous training cycles\n"
          ]
        },
        {
          "output_type": "execute_result",
          "data": {
            "text/plain": [
              "(1215012, 1721840)"
            ]
          },
          "metadata": {},
          "execution_count": 59
        }
      ]
    },
    {
      "cell_type": "code",
      "source": [
        "def gensim_to_keras_embedding(model, train_embeddings=False):\n",
        "    \"\"\"Get a Keras 'Embedding' layer with weights set from Word2Vec model's learned word embeddings.\n",
        "\n",
        "    Parameters\n",
        "    ----------\n",
        "    train_embeddings : bool\n",
        "        If False, the returned weights are frozen and stopped from being updated.\n",
        "        If True, the weights can / will be further updated in Keras.\n",
        "\n",
        "    Returns\n",
        "    -------\n",
        "    `keras.layers.Embedding`\n",
        "        Embedding layer, to be used as input to deeper network layers.\n",
        "\n",
        "    \"\"\"\n",
        "    keyed_vectors = model.wv  # structure holding the result of training\n",
        "    weights = keyed_vectors.vectors  # vectors themselves, a 2D numpy array    \n",
        "    index_to_key = keyed_vectors.index_to_key  # which row in `weights` corresponds to which word?\n",
        "\n",
        "    layer = Embedding(\n",
        "        input_dim=weights.shape[0],\n",
        "        output_dim=weights.shape[1],\n",
        "        weights=[weights],\n",
        "        trainable=train_embeddings,\n",
        "    )\n",
        "    return layer"
      ],
      "metadata": {
        "id": "032SicR6YOiP"
      },
      "execution_count": 53,
      "outputs": []
    },
    {
      "cell_type": "code",
      "source": [
        "loaded_embed_layer = gensim_to_keras_embedding(id_w2v, True)"
      ],
      "metadata": {
        "id": "aNZ_-HqTuQkL"
      },
      "execution_count": 60,
      "outputs": []
    },
    {
      "cell_type": "code",
      "source": [
        "model_pre = Sequential()\n",
        "model_pre.add(loaded_embed_layer)\n",
        "model_pre.add(GRU(units=32, dropout=0.2, recurrent_dropout=0.2))\n",
        "model_pre.add(Dense(1, activation=\"sigmoid\"))\n",
        "\n",
        "print(model_pre.summary())\n",
        "\n",
        "model_pre.compile(loss='binary_crossentropy', optimizer='adam', metrics=['accuracy'])\n",
        "model_pre.fit(train_padded, y_train, epochs=20, validation_data=(dev_padded, y_dev), verbose=1)"
      ],
      "metadata": {
        "colab": {
          "base_uri": "https://localhost:8080/"
        },
        "id": "lxV1qjrRuhMi",
        "outputId": "1d978fc3-2169-4170-ebeb-98af84008312"
      },
      "execution_count": 61,
      "outputs": [
        {
          "metadata": {
            "tags": null
          },
          "name": "stdout",
          "output_type": "stream",
          "text": [
            "Model: \"sequential_8\"\n",
            "_________________________________________________________________\n",
            " Layer (type)                Output Shape              Param #   \n",
            "=================================================================\n",
            " embedding_5 (Embedding)     (None, None, 100)         34316800  \n",
            "                                                                 \n",
            " gru_3 (GRU)                 (None, 32)                12864     \n",
            "                                                                 \n",
            " dense_10 (Dense)            (None, 1)                 33        \n",
            "                                                                 \n",
            "=================================================================\n",
            "Total params: 34,329,697\n",
            "Trainable params: 34,329,697\n",
            "Non-trainable params: 0\n",
            "_________________________________________________________________\n",
            "None\n",
            "Epoch 1/20\n",
            "511/511 [==============================] - 131s 252ms/step - loss: 0.5030 - accuracy: 0.7591 - val_loss: 0.4643 - val_accuracy: 0.7826\n",
            "Epoch 2/20\n",
            "511/511 [==============================] - 128s 250ms/step - loss: 0.4286 - accuracy: 0.8056 - val_loss: 0.4195 - val_accuracy: 0.8098\n",
            "Epoch 3/20\n",
            "511/511 [==============================] - 128s 251ms/step - loss: 0.3916 - accuracy: 0.8273 - val_loss: 0.4018 - val_accuracy: 0.8312\n",
            "Epoch 4/20\n",
            "511/511 [==============================] - 131s 256ms/step - loss: 0.3771 - accuracy: 0.8362 - val_loss: 0.3962 - val_accuracy: 0.8273\n",
            "Epoch 5/20\n",
            "511/511 [==============================] - 128s 251ms/step - loss: 0.3580 - accuracy: 0.8459 - val_loss: 0.3767 - val_accuracy: 0.8398\n",
            "Epoch 6/20\n",
            "511/511 [==============================] - 133s 261ms/step - loss: 0.3469 - accuracy: 0.8494 - val_loss: 0.3734 - val_accuracy: 0.8405\n",
            "Epoch 7/20\n",
            "511/511 [==============================] - 132s 259ms/step - loss: 0.3385 - accuracy: 0.8545 - val_loss: 0.3748 - val_accuracy: 0.8405\n",
            "Epoch 8/20\n",
            "511/511 [==============================] - 134s 262ms/step - loss: 0.3332 - accuracy: 0.8536 - val_loss: 0.3759 - val_accuracy: 0.8477\n",
            "Epoch 9/20\n",
            "511/511 [==============================] - 145s 283ms/step - loss: 0.3289 - accuracy: 0.8581 - val_loss: 0.3719 - val_accuracy: 0.8455\n",
            "Epoch 10/20\n",
            "511/511 [==============================] - 138s 271ms/step - loss: 0.3183 - accuracy: 0.8634 - val_loss: 0.3834 - val_accuracy: 0.8423\n",
            "Epoch 11/20\n",
            "511/511 [==============================] - 140s 275ms/step - loss: 0.3169 - accuracy: 0.8653 - val_loss: 0.3746 - val_accuracy: 0.8452\n",
            "Epoch 12/20\n",
            "511/511 [==============================] - 138s 270ms/step - loss: 0.3081 - accuracy: 0.8681 - val_loss: 0.3860 - val_accuracy: 0.8398\n",
            "Epoch 13/20\n",
            "511/511 [==============================] - 137s 267ms/step - loss: 0.3022 - accuracy: 0.8719 - val_loss: 0.3708 - val_accuracy: 0.8506\n",
            "Epoch 14/20\n",
            "511/511 [==============================] - 139s 273ms/step - loss: 0.2987 - accuracy: 0.8736 - val_loss: 0.3702 - val_accuracy: 0.8527\n",
            "Epoch 15/20\n",
            "511/511 [==============================] - 137s 268ms/step - loss: 0.2933 - accuracy: 0.8738 - val_loss: 0.3786 - val_accuracy: 0.8491\n",
            "Epoch 16/20\n",
            "511/511 [==============================] - 144s 283ms/step - loss: 0.2918 - accuracy: 0.8791 - val_loss: 0.3779 - val_accuracy: 0.8470\n",
            "Epoch 17/20\n",
            "511/511 [==============================] - 145s 283ms/step - loss: 0.2895 - accuracy: 0.8769 - val_loss: 0.3769 - val_accuracy: 0.8463\n",
            "Epoch 18/20\n",
            "511/511 [==============================] - 133s 259ms/step - loss: 0.2856 - accuracy: 0.8794 - val_loss: 0.3811 - val_accuracy: 0.8506\n",
            "Epoch 19/20\n",
            "511/511 [==============================] - 139s 273ms/step - loss: 0.2812 - accuracy: 0.8801 - val_loss: 0.3800 - val_accuracy: 0.8502\n",
            "Epoch 20/20\n",
            "511/511 [==============================] - 136s 266ms/step - loss: 0.2785 - accuracy: 0.8828 - val_loss: 0.3796 - val_accuracy: 0.8473\n"
          ]
        },
        {
          "output_type": "execute_result",
          "data": {
            "text/plain": [
              "<keras.callbacks.History at 0x7fd1fe76f350>"
            ]
          },
          "metadata": {},
          "execution_count": 61
        }
      ]
    },
    {
      "cell_type": "code",
      "source": [
        "y_pred = (model_pre.predict(test_padded) > 0.5).astype(\"int32\")\n",
        "print(classification_report(y_test, y_pred, target_names= {'no': 0, 'yes': 1} )) "
      ],
      "metadata": {
        "colab": {
          "base_uri": "https://localhost:8080/"
        },
        "id": "sdhsRBHv6HId",
        "outputId": "15e9c275-fe41-4f16-c51f-0fd461db6d67"
      },
      "execution_count": 62,
      "outputs": [
        {
          "output_type": "stream",
          "name": "stdout",
          "text": [
            "              precision    recall  f1-score   support\n",
            "\n",
            "          no       0.88      0.92      0.90      2092\n",
            "         yes       0.73      0.63      0.68       705\n",
            "\n",
            "    accuracy                           0.85      2797\n",
            "   macro avg       0.80      0.78      0.79      2797\n",
            "weighted avg       0.84      0.85      0.84      2797\n",
            "\n"
          ]
        }
      ]
    }
  ]
}