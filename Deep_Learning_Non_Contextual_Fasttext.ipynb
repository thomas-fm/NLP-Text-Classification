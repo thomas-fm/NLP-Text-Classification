{
 "cells": [
  {
   "cell_type": "code",
   "execution_count": 1,
   "id": "26cbc585",
   "metadata": {
    "executionInfo": {
     "elapsed": 3,
     "status": "ok",
     "timestamp": 1663950945794,
     "user": {
      "displayName": "13519030 Ferdy Irawan Firdaus",
      "userId": "02270616962598472848"
     },
     "user_tz": -420
    },
    "id": "26cbc585"
   },
   "outputs": [],
   "source": [
    "import tensorflow as tf \n",
    "from keras_preprocessing.sequence import pad_sequences\n",
    "from keras.preprocessing.text import Tokenizer \n",
    "from keras.utils.vis_utils import plot_model \n",
    "\n",
    "from gensim.models.fasttext import FastText \n",
    "\n",
    "import pandas as pd\n",
    "import numpy as np\n",
    "import seaborn as sns\n",
    "import re \n",
    "import matplotlib.pyplot as plt \n",
    "from numpy import array, asarray, zeros\n",
    "\n",
    "from sklearn.model_selection import train_test_split \n",
    "from sklearn.metrics import f1_score, precision_score, recall_score, accuracy_score  "
   ]
  },
  {
   "cell_type": "markdown",
   "id": "7qn9JID3xc8I",
   "metadata": {
    "id": "7qn9JID3xc8I"
   },
   "source": [
    "# Load Data Train and Test "
   ]
  },
  {
   "cell_type": "code",
   "execution_count": 2,
   "id": "755dc380",
   "metadata": {
    "colab": {
     "base_uri": "https://localhost:8080/",
     "height": 0
    },
    "executionInfo": {
     "elapsed": 26,
     "status": "ok",
     "timestamp": 1663949978483,
     "user": {
      "displayName": "13519030 Ferdy Irawan Firdaus",
      "userId": "02270616962598472848"
     },
     "user_tz": -420
    },
    "id": "755dc380",
    "outputId": "6a16472d-5ed7-4582-c5d1-23aca16dc178"
   },
   "outputs": [
    {
     "data": {
      "text/html": [
       "<div>\n",
       "<style scoped>\n",
       "    .dataframe tbody tr th:only-of-type {\n",
       "        vertical-align: middle;\n",
       "    }\n",
       "\n",
       "    .dataframe tbody tr th {\n",
       "        vertical-align: top;\n",
       "    }\n",
       "\n",
       "    .dataframe thead th {\n",
       "        text-align: right;\n",
       "    }\n",
       "</style>\n",
       "<table border=\"1\" class=\"dataframe\">\n",
       "  <thead>\n",
       "    <tr style=\"text-align: right;\">\n",
       "      <th></th>\n",
       "      <th>Unnamed: 0</th>\n",
       "      <th>text_a</th>\n",
       "      <th>label</th>\n",
       "    </tr>\n",
       "  </thead>\n",
       "  <tbody>\n",
       "    <tr>\n",
       "      <th>0</th>\n",
       "      <td>0</td>\n",
       "      <td>betewe buka twitter cuman ngetweet liat home b...</td>\n",
       "      <td>no</td>\n",
       "    </tr>\n",
       "    <tr>\n",
       "      <th>1</th>\n",
       "      <td>1</td>\n",
       "      <td>mas piyuuu mugo2 corona tuh mulut tersumpal ma...</td>\n",
       "      <td>no</td>\n",
       "    </tr>\n",
       "    <tr>\n",
       "      <th>2</th>\n",
       "      <td>2</td>\n",
       "      <td>e100ss gini buka informasi sejelas nya identit...</td>\n",
       "      <td>yes</td>\n",
       "    </tr>\n",
       "    <tr>\n",
       "      <th>3</th>\n",
       "      <td>3</td>\n",
       "      <td>neng solo wes ono terduga corona cobo neng ati...</td>\n",
       "      <td>no</td>\n",
       "    </tr>\n",
       "    <tr>\n",
       "      <th>4</th>\n",
       "      <td>4</td>\n",
       "      <td>midiahn nii akun gak takut takut nya isu coron...</td>\n",
       "      <td>no</td>\n",
       "    </tr>\n",
       "  </tbody>\n",
       "</table>\n",
       "</div>"
      ],
      "text/plain": [
       "   Unnamed: 0                                             text_a label\n",
       "0           0  betewe buka twitter cuman ngetweet liat home b...    no\n",
       "1           1  mas piyuuu mugo2 corona tuh mulut tersumpal ma...    no\n",
       "2           2  e100ss gini buka informasi sejelas nya identit...   yes\n",
       "3           3  neng solo wes ono terduga corona cobo neng ati...    no\n",
       "4           4  midiahn nii akun gak takut takut nya isu coron...    no"
      ]
     },
     "execution_count": 2,
     "metadata": {},
     "output_type": "execute_result"
    }
   ],
   "source": [
    "df = pd.read_csv(\"data_worthcheck/train.csv\") \n",
    "df.head() "
   ]
  },
  {
   "cell_type": "code",
   "execution_count": 3,
   "id": "a429711e",
   "metadata": {
    "executionInfo": {
     "elapsed": 25,
     "status": "ok",
     "timestamp": 1663949978485,
     "user": {
      "displayName": "13519030 Ferdy Irawan Firdaus",
      "userId": "02270616962598472848"
     },
     "user_tz": -420
    },
    "id": "a429711e"
   },
   "outputs": [],
   "source": [
    "test = pd.read_csv(\"data_worthcheck/test.csv\") \n",
    "test['label'] = test['label'].map( {'yes': 1, 'no': 0} ).astype(int) "
   ]
  },
  {
   "cell_type": "markdown",
   "id": "har5sfhgwqYU",
   "metadata": {
    "id": "har5sfhgwqYU"
   },
   "source": [
    "# Preprocessing"
   ]
  },
  {
   "cell_type": "markdown",
   "id": "LVEfIhxEx_Uc",
   "metadata": {
    "id": "LVEfIhxEx_Uc"
   },
   "source": [
    "## Data Understanding"
   ]
  },
  {
   "cell_type": "code",
   "execution_count": 4,
   "id": "WBN3n8HbxFvW",
   "metadata": {
    "colab": {
     "base_uri": "https://localhost:8080/",
     "height": 0
    },
    "executionInfo": {
     "elapsed": 26,
     "status": "ok",
     "timestamp": 1663949978487,
     "user": {
      "displayName": "13519030 Ferdy Irawan Firdaus",
      "userId": "02270616962598472848"
     },
     "user_tz": -420
    },
    "id": "WBN3n8HbxFvW",
    "outputId": "d0ce5af6-24ae-4e1e-d933-ca9de3c7953f"
   },
   "outputs": [
    {
     "data": {
      "text/plain": [
       "<AxesSubplot:xlabel='label', ylabel='count'>"
      ]
     },
     "execution_count": 4,
     "metadata": {},
     "output_type": "execute_result"
    },
    {
     "data": {
      "image/png": "[encoded data removed]",
      "text/plain": [
       "<Figure size 432x288 with 1 Axes>"
      ]
     },
     "metadata": {
      "needs_background": "light"
     },
     "output_type": "display_data"
    }
   ],
   "source": [
    "sns.countplot(x='label', data=df) "
   ]
  },
  {
   "cell_type": "code",
   "execution_count": 5,
   "id": "-5EnMGxSySze",
   "metadata": {
    "colab": {
     "base_uri": "https://localhost:8080/"
    },
    "executionInfo": {
     "elapsed": 25,
     "status": "ok",
     "timestamp": 1663949978489,
     "user": {
      "displayName": "13519030 Ferdy Irawan Firdaus",
      "userId": "02270616962598472848"
     },
     "user_tz": -420
    },
    "id": "-5EnMGxSySze",
    "outputId": "202a8c35-0123-4574-f3fe-ba2acc12b817"
   },
   "outputs": [
    {
     "data": {
      "text/plain": [
       "(21601, 3)"
      ]
     },
     "execution_count": 5,
     "metadata": {},
     "output_type": "execute_result"
    }
   ],
   "source": [
    "df.shape"
   ]
  },
  {
   "cell_type": "code",
   "execution_count": 6,
   "id": "BY3rMfGMyljJ",
   "metadata": {
    "colab": {
     "base_uri": "https://localhost:8080/"
    },
    "executionInfo": {
     "elapsed": 24,
     "status": "ok",
     "timestamp": 1663949978490,
     "user": {
      "displayName": "13519030 Ferdy Irawan Firdaus",
      "userId": "02270616962598472848"
     },
     "user_tz": -420
    },
    "id": "BY3rMfGMyljJ",
    "outputId": "e6dfddbd-ab6b-48fa-9ac9-ba5e09ce1f8a"
   },
   "outputs": [
    {
     "name": "stdout",
     "output_type": "stream",
     "text": [
      "<class 'pandas.core.frame.DataFrame'>\n",
      "RangeIndex: 21601 entries, 0 to 21600\n",
      "Data columns (total 3 columns):\n",
      " #   Column      Non-Null Count  Dtype \n",
      "---  ------      --------------  ----- \n",
      " 0   Unnamed: 0  21601 non-null  int64 \n",
      " 1   text_a      21601 non-null  object\n",
      " 2   label       21601 non-null  object\n",
      "dtypes: int64(1), object(2)\n",
      "memory usage: 506.4+ KB\n"
     ]
    }
   ],
   "source": [
    "df.info() "
   ]
  },
  {
   "cell_type": "code",
   "execution_count": 7,
   "id": "-eRE1nIiyp15",
   "metadata": {
    "colab": {
     "base_uri": "https://localhost:8080/"
    },
    "executionInfo": {
     "elapsed": 23,
     "status": "ok",
     "timestamp": 1663949978490,
     "user": {
      "displayName": "13519030 Ferdy Irawan Firdaus",
      "userId": "02270616962598472848"
     },
     "user_tz": -420
    },
    "id": "-eRE1nIiyp15",
    "outputId": "5a7308e4-a524-4eaf-e5ca-a34037b45681"
   },
   "outputs": [
    {
     "data": {
      "text/plain": [
       "Unnamed: 0    0\n",
       "text_a        0\n",
       "label         0\n",
       "dtype: int64"
      ]
     },
     "execution_count": 7,
     "metadata": {},
     "output_type": "execute_result"
    }
   ],
   "source": [
    "df.isna().sum() "
   ]
  },
  {
   "cell_type": "markdown",
   "id": "wFSQZs9wzkam",
   "metadata": {
    "id": "wFSQZs9wzkam"
   },
   "source": [
    "## Drop Feature"
   ]
  },
  {
   "cell_type": "code",
   "execution_count": 8,
   "id": "DKmtXQuQzXnE",
   "metadata": {
    "executionInfo": {
     "elapsed": 388,
     "status": "ok",
     "timestamp": 1663949978856,
     "user": {
      "displayName": "13519030 Ferdy Irawan Firdaus",
      "userId": "02270616962598472848"
     },
     "user_tz": -420
    },
    "id": "DKmtXQuQzXnE"
   },
   "outputs": [],
   "source": [
    "df = df.drop('Unnamed: 0', axis=1) "
   ]
  },
  {
   "cell_type": "markdown",
   "id": "RBngcx8Q0xpo",
   "metadata": {
    "id": "RBngcx8Q0xpo"
   },
   "source": [
    "## Duplicate Data "
   ]
  },
  {
   "cell_type": "code",
   "execution_count": 9,
   "id": "8dQNh-411s0O",
   "metadata": {
    "colab": {
     "base_uri": "https://localhost:8080/"
    },
    "executionInfo": {
     "elapsed": 20,
     "status": "ok",
     "timestamp": 1663949978857,
     "user": {
      "displayName": "13519030 Ferdy Irawan Firdaus",
      "userId": "02270616962598472848"
     },
     "user_tz": -420
    },
    "id": "8dQNh-411s0O",
    "outputId": "d47edbb6-3451-47e9-d1a3-07bfe2b759f8"
   },
   "outputs": [
    {
     "data": {
      "text/plain": [
       "5252"
      ]
     },
     "execution_count": 9,
     "metadata": {},
     "output_type": "execute_result"
    }
   ],
   "source": [
    "df.duplicated().sum() "
   ]
  },
  {
   "cell_type": "code",
   "execution_count": 10,
   "id": "jL-CQ41Q0vL6",
   "metadata": {
    "colab": {
     "base_uri": "https://localhost:8080/",
     "height": 0
    },
    "executionInfo": {
     "elapsed": 20,
     "status": "ok",
     "timestamp": 1663949978858,
     "user": {
      "displayName": "13519030 Ferdy Irawan Firdaus",
      "userId": "02270616962598472848"
     },
     "user_tz": -420
    },
    "id": "jL-CQ41Q0vL6",
    "outputId": "3e967dfc-c7d6-4e68-9299-88879b530f1e"
   },
   "outputs": [
    {
     "data": {
      "text/html": [
       "<div>\n",
       "<style scoped>\n",
       "    .dataframe tbody tr th:only-of-type {\n",
       "        vertical-align: middle;\n",
       "    }\n",
       "\n",
       "    .dataframe tbody tr th {\n",
       "        vertical-align: top;\n",
       "    }\n",
       "\n",
       "    .dataframe thead th {\n",
       "        text-align: right;\n",
       "    }\n",
       "</style>\n",
       "<table border=\"1\" class=\"dataframe\">\n",
       "  <thead>\n",
       "    <tr style=\"text-align: right;\">\n",
       "      <th></th>\n",
       "      <th>text_a</th>\n",
       "      <th>label</th>\n",
       "    </tr>\n",
       "  </thead>\n",
       "  <tbody>\n",
       "    <tr>\n",
       "      <th>472</th>\n",
       "      <td>hoaks internet gratis</td>\n",
       "      <td>yes</td>\n",
       "    </tr>\n",
       "    <tr>\n",
       "      <th>527</th>\n",
       "      <td>hoaks aplikasi pedulilindungi</td>\n",
       "      <td>yes</td>\n",
       "    </tr>\n",
       "    <tr>\n",
       "      <th>560</th>\n",
       "      <td>hoaks alkohol membunuh virus</td>\n",
       "      <td>yes</td>\n",
       "    </tr>\n",
       "    <tr>\n",
       "      <th>788</th>\n",
       "      <td>berjemur virus corona</td>\n",
       "      <td>yes</td>\n",
       "    </tr>\n",
       "    <tr>\n",
       "      <th>791</th>\n",
       "      <td>lemon teh corona</td>\n",
       "      <td>yes</td>\n",
       "    </tr>\n",
       "    <tr>\n",
       "      <th>...</th>\n",
       "      <td>...</td>\n",
       "      <td>...</td>\n",
       "    </tr>\n",
       "    <tr>\n",
       "      <th>21596</th>\n",
       "      <td>depok panas ga karuan kereta sampe pasming huj...</td>\n",
       "      <td>no</td>\n",
       "    </tr>\n",
       "    <tr>\n",
       "      <th>21597</th>\n",
       "      <td>oxfara arie kriting yg lebi goblo nya orang ke...</td>\n",
       "      <td>no</td>\n",
       "    </tr>\n",
       "    <tr>\n",
       "      <th>21598</th>\n",
       "      <td>virus corona menyaba depok cuci tangan makan n...</td>\n",
       "      <td>no</td>\n",
       "    </tr>\n",
       "    <tr>\n",
       "      <th>21599</th>\n",
       "      <td>mata sipit tinggal depok udah abis dah bahan c...</td>\n",
       "      <td>no</td>\n",
       "    </tr>\n",
       "    <tr>\n",
       "      <th>21600</th>\n",
       "      <td>i ak batuk pilek pusing demam anjir ak depok</td>\n",
       "      <td>no</td>\n",
       "    </tr>\n",
       "  </tbody>\n",
       "</table>\n",
       "<p>5252 rows × 2 columns</p>\n",
       "</div>"
      ],
      "text/plain": [
       "                                                  text_a label\n",
       "472                                hoaks internet gratis   yes\n",
       "527                        hoaks aplikasi pedulilindungi   yes\n",
       "560                         hoaks alkohol membunuh virus   yes\n",
       "788                                berjemur virus corona   yes\n",
       "791                                     lemon teh corona   yes\n",
       "...                                                  ...   ...\n",
       "21596  depok panas ga karuan kereta sampe pasming huj...    no\n",
       "21597  oxfara arie kriting yg lebi goblo nya orang ke...    no\n",
       "21598  virus corona menyaba depok cuci tangan makan n...    no\n",
       "21599  mata sipit tinggal depok udah abis dah bahan c...    no\n",
       "21600       i ak batuk pilek pusing demam anjir ak depok    no\n",
       "\n",
       "[5252 rows x 2 columns]"
      ]
     },
     "execution_count": 10,
     "metadata": {},
     "output_type": "execute_result"
    }
   ],
   "source": [
    "df.loc[df.duplicated(),:] "
   ]
  },
  {
   "cell_type": "code",
   "execution_count": 11,
   "id": "gRLi-4_T1Gmo",
   "metadata": {
    "executionInfo": {
     "elapsed": 19,
     "status": "ok",
     "timestamp": 1663949978859,
     "user": {
      "displayName": "13519030 Ferdy Irawan Firdaus",
      "userId": "02270616962598472848"
     },
     "user_tz": -420
    },
    "id": "gRLi-4_T1Gmo"
   },
   "outputs": [],
   "source": [
    "df.drop_duplicates(keep=\"first\", inplace=True) "
   ]
  },
  {
   "cell_type": "markdown",
   "id": "iaOrwNDBy7RF",
   "metadata": {
    "id": "iaOrwNDBy7RF"
   },
   "source": [
    "## Encoding "
   ]
  },
  {
   "cell_type": "code",
   "execution_count": 12,
   "id": "16739ab0",
   "metadata": {
    "colab": {
     "base_uri": "https://localhost:8080/",
     "height": 0
    },
    "executionInfo": {
     "elapsed": 19,
     "status": "ok",
     "timestamp": 1663949978859,
     "user": {
      "displayName": "13519030 Ferdy Irawan Firdaus",
      "userId": "02270616962598472848"
     },
     "user_tz": -420
    },
    "id": "16739ab0",
    "outputId": "0c82b814-e222-4ced-9817-8434f758ba08"
   },
   "outputs": [
    {
     "data": {
      "text/html": [
       "<div>\n",
       "<style scoped>\n",
       "    .dataframe tbody tr th:only-of-type {\n",
       "        vertical-align: middle;\n",
       "    }\n",
       "\n",
       "    .dataframe tbody tr th {\n",
       "        vertical-align: top;\n",
       "    }\n",
       "\n",
       "    .dataframe thead th {\n",
       "        text-align: right;\n",
       "    }\n",
       "</style>\n",
       "<table border=\"1\" class=\"dataframe\">\n",
       "  <thead>\n",
       "    <tr style=\"text-align: right;\">\n",
       "      <th></th>\n",
       "      <th>text_a</th>\n",
       "      <th>label</th>\n",
       "    </tr>\n",
       "  </thead>\n",
       "  <tbody>\n",
       "    <tr>\n",
       "      <th>0</th>\n",
       "      <td>betewe buka twitter cuman ngetweet liat home b...</td>\n",
       "      <td>0</td>\n",
       "    </tr>\n",
       "    <tr>\n",
       "      <th>1</th>\n",
       "      <td>mas piyuuu mugo2 corona tuh mulut tersumpal ma...</td>\n",
       "      <td>0</td>\n",
       "    </tr>\n",
       "    <tr>\n",
       "      <th>2</th>\n",
       "      <td>e100ss gini buka informasi sejelas nya identit...</td>\n",
       "      <td>1</td>\n",
       "    </tr>\n",
       "    <tr>\n",
       "      <th>3</th>\n",
       "      <td>neng solo wes ono terduga corona cobo neng ati...</td>\n",
       "      <td>0</td>\n",
       "    </tr>\n",
       "    <tr>\n",
       "      <th>4</th>\n",
       "      <td>midiahn nii akun gak takut takut nya isu coron...</td>\n",
       "      <td>0</td>\n",
       "    </tr>\n",
       "  </tbody>\n",
       "</table>\n",
       "</div>"
      ],
      "text/plain": [
       "                                              text_a  label\n",
       "0  betewe buka twitter cuman ngetweet liat home b...      0\n",
       "1  mas piyuuu mugo2 corona tuh mulut tersumpal ma...      0\n",
       "2  e100ss gini buka informasi sejelas nya identit...      1\n",
       "3  neng solo wes ono terduga corona cobo neng ati...      0\n",
       "4  midiahn nii akun gak takut takut nya isu coron...      0"
      ]
     },
     "execution_count": 12,
     "metadata": {},
     "output_type": "execute_result"
    }
   ],
   "source": [
    "df['label'] = df['label'].map( {'yes': 1, 'no': 0} ).astype(int) \n",
    "df.head() "
   ]
  },
  {
   "cell_type": "code",
   "execution_count": 13,
   "id": "Bwo_VAW7607U",
   "metadata": {
    "colab": {
     "base_uri": "https://localhost:8080/",
     "height": 0
    },
    "executionInfo": {
     "elapsed": 19,
     "status": "ok",
     "timestamp": 1663949978860,
     "user": {
      "displayName": "13519030 Ferdy Irawan Firdaus",
      "userId": "02270616962598472848"
     },
     "user_tz": -420
    },
    "id": "Bwo_VAW7607U",
    "outputId": "f1337275-c131-4f46-a363-831e9f05a7bd"
   },
   "outputs": [
    {
     "data": {
      "text/html": [
       "<div>\n",
       "<style scoped>\n",
       "    .dataframe tbody tr th:only-of-type {\n",
       "        vertical-align: middle;\n",
       "    }\n",
       "\n",
       "    .dataframe tbody tr th {\n",
       "        vertical-align: top;\n",
       "    }\n",
       "\n",
       "    .dataframe thead th {\n",
       "        text-align: right;\n",
       "    }\n",
       "</style>\n",
       "<table border=\"1\" class=\"dataframe\">\n",
       "  <thead>\n",
       "    <tr style=\"text-align: right;\">\n",
       "      <th></th>\n",
       "      <th>text_a</th>\n",
       "      <th>label</th>\n",
       "    </tr>\n",
       "  </thead>\n",
       "  <tbody>\n",
       "    <tr>\n",
       "      <th>0</th>\n",
       "      <td>betewe buka twitter cuman ngetweet liat home b...</td>\n",
       "      <td>0</td>\n",
       "    </tr>\n",
       "    <tr>\n",
       "      <th>1</th>\n",
       "      <td>mas piyuuu mugo2 corona tuh mulut tersumpal ma...</td>\n",
       "      <td>0</td>\n",
       "    </tr>\n",
       "    <tr>\n",
       "      <th>2</th>\n",
       "      <td>e100ss gini buka informasi sejelas nya identit...</td>\n",
       "      <td>1</td>\n",
       "    </tr>\n",
       "    <tr>\n",
       "      <th>3</th>\n",
       "      <td>neng solo wes ono terduga corona cobo neng ati...</td>\n",
       "      <td>0</td>\n",
       "    </tr>\n",
       "    <tr>\n",
       "      <th>4</th>\n",
       "      <td>midiahn nii akun gak takut takut nya isu coron...</td>\n",
       "      <td>0</td>\n",
       "    </tr>\n",
       "  </tbody>\n",
       "</table>\n",
       "</div>"
      ],
      "text/plain": [
       "                                              text_a  label\n",
       "0  betewe buka twitter cuman ngetweet liat home b...      0\n",
       "1  mas piyuuu mugo2 corona tuh mulut tersumpal ma...      0\n",
       "2  e100ss gini buka informasi sejelas nya identit...      1\n",
       "3  neng solo wes ono terduga corona cobo neng ati...      0\n",
       "4  midiahn nii akun gak takut takut nya isu coron...      0"
      ]
     },
     "execution_count": 13,
     "metadata": {},
     "output_type": "execute_result"
    }
   ],
   "source": [
    "def lower(review):\n",
    "    descrip = re.sub('[^a-zA-Z]', ' ', review)\n",
    "    review = review.lower()\n",
    "    \n",
    "    return review\n",
    "\n",
    "df['text_a'] = pd.DataFrame(df[\"text_a\"].apply(lambda x: lower(x)))\n",
    "df.head() "
   ]
  },
  {
   "cell_type": "markdown",
   "id": "Vf0NgE_V0DgE",
   "metadata": {
    "id": "Vf0NgE_V0DgE"
   },
   "source": [
    "## Split Data "
   ]
  },
  {
   "cell_type": "code",
   "execution_count": 14,
   "id": "0d35a821",
   "metadata": {
    "executionInfo": {
     "elapsed": 17,
     "status": "ok",
     "timestamp": 1663949978860,
     "user": {
      "displayName": "13519030 Ferdy Irawan Firdaus",
      "userId": "02270616962598472848"
     },
     "user_tz": -420
    },
    "id": "0d35a821"
   },
   "outputs": [],
   "source": [
    "train_text, test_text, train_label, test_label = df['text_a'], test['text_a'], df['label'], test['label'] "
   ]
  },
  {
   "cell_type": "markdown",
   "id": "FoH8RWur0Gt1",
   "metadata": {
    "id": "FoH8RWur0Gt1"
   },
   "source": [
    "## Tokenizer, Text to Sequence, and Padding "
   ]
  },
  {
   "cell_type": "code",
   "execution_count": 15,
   "id": "1942ef58",
   "metadata": {
    "executionInfo": {
     "elapsed": 18,
     "status": "ok",
     "timestamp": 1663949978861,
     "user": {
      "displayName": "13519030 Ferdy Irawan Firdaus",
      "userId": "02270616962598472848"
     },
     "user_tz": -420
    },
    "id": "1942ef58"
   },
   "outputs": [],
   "source": [
    "vocab_size = 1000 \n",
    "embedding_dim = 300 \n",
    "max_length = 120 \n",
    "trunc_type = 'post'\n",
    "padding_type = 'post'\n",
    "oov_tok = \"<OOV>\" "
   ]
  },
  {
   "cell_type": "code",
   "execution_count": 16,
   "id": "ebc2329e",
   "metadata": {
    "executionInfo": {
     "elapsed": 1013,
     "status": "ok",
     "timestamp": 1663949979856,
     "user": {
      "displayName": "13519030 Ferdy Irawan Firdaus",
      "userId": "02270616962598472848"
     },
     "user_tz": -420
    },
    "id": "ebc2329e"
   },
   "outputs": [],
   "source": [
    "tokenizer = Tokenizer(num_words=vocab_size, oov_token=oov_tok)\n",
    "tokenizer.fit_on_texts(train_text) \n",
    "tokenizer.fit_on_texts(test_text)\n",
    "train_sequences = tokenizer.texts_to_sequences(train_text)\n",
    "test_sequences = tokenizer.texts_to_sequences(test_text)\n",
    "train_padded = pad_sequences(train_sequences, maxlen=max_length, truncating=trunc_type, padding=padding_type)\n",
    "test_padded = pad_sequences(test_sequences, maxlen=max_length, truncating=trunc_type, padding=padding_type) "
   ]
  },
  {
   "cell_type": "code",
   "execution_count": 17,
   "id": "3eee78ae",
   "metadata": {},
   "outputs": [],
   "source": [
    "embeddings_dictionary = dict()\n",
    "\n",
    "fasttext_file = open('cc.id.300.vec', encoding=\"utf8\") \n",
    "\n",
    "for line in fasttext_file:\n",
    "    records = line.split()\n",
    "    word = records[0]\n",
    "    vector_dimensions = asarray(records[1:], dtype='float32')\n",
    "    embeddings_dictionary[word] = vector_dimensions\n",
    "\n",
    "fasttext_file.close() "
   ]
  },
  {
   "cell_type": "code",
   "execution_count": 18,
   "id": "5f259331",
   "metadata": {},
   "outputs": [],
   "source": [
    "embedding_matrix = zeros((vocab_size, embedding_dim))\n",
    "for word, index in tokenizer.word_index.items(): \n",
    "    if index == vocab_size: \n",
    "        break \n",
    "    embedding_vector = embeddings_dictionary.get(word)\n",
    "    if embedding_vector is not None:\n",
    "        embedding_matrix[index] = embedding_vector "
   ]
  },
  {
   "cell_type": "markdown",
   "id": "mYpKdM790Mqd",
   "metadata": {
    "id": "mYpKdM790Mqd"
   },
   "source": [
    "# Training "
   ]
  },
  {
   "cell_type": "markdown",
   "id": "b9949416",
   "metadata": {},
   "source": [
    "## Model Tanpa Fasttext "
   ]
  },
  {
   "cell_type": "code",
   "execution_count": 34,
   "id": "94c307fa",
   "metadata": {},
   "outputs": [],
   "source": [
    "model_base = tf.keras.Sequential([\n",
    "        tf.keras.layers.Embedding(vocab_size, embedding_dim, input_length=max_length),\n",
    "        tf.keras.layers.Bidirectional(tf.keras.layers.LSTM(128, return_sequences=True)), \n",
    "        tf.keras.layers.GlobalAveragePooling1D(),\n",
    "        tf.keras.layers.Dense(64, activation='relu'),\n",
    "        tf.keras.layers.Dense(1, activation='sigmoid')\n",
    "    ]) "
   ]
  },
  {
   "cell_type": "code",
   "execution_count": 26,
   "id": "c13b5208",
   "metadata": {},
   "outputs": [
    {
     "name": "stdout",
     "output_type": "stream",
     "text": [
      "Model: \"sequential\"\n",
      "_________________________________________________________________\n",
      " Layer (type)                Output Shape              Param #   \n",
      "=================================================================\n",
      " embedding (Embedding)       (None, 120, 300)          300000    \n",
      "                                                                 \n",
      " bidirectional (Bidirectiona  (None, 120, 256)         439296    \n",
      " l)                                                              \n",
      "                                                                 \n",
      " global_average_pooling1d (G  (None, 256)              0         \n",
      " lobalAveragePooling1D)                                          \n",
      "                                                                 \n",
      " dense (Dense)               (None, 64)                16448     \n",
      "                                                                 \n",
      " dense_1 (Dense)             (None, 1)                 65        \n",
      "                                                                 \n",
      "=================================================================\n",
      "Total params: 755,809\n",
      "Trainable params: 755,809\n",
      "Non-trainable params: 0\n",
      "_________________________________________________________________\n"
     ]
    }
   ],
   "source": [
    "model_base.summary() "
   ]
  },
  {
   "cell_type": "code",
   "execution_count": 27,
   "id": "a8f146f8",
   "metadata": {},
   "outputs": [
    {
     "data": {
      "image/png": "[encoded data removed]",
      "text/plain": [
       "<IPython.core.display.Image object>"
      ]
     },
     "execution_count": 27,
     "metadata": {},
     "output_type": "execute_result"
    }
   ],
   "source": [
    "plot_model(model_base, to_file='model_plot2.png', show_shapes=True, show_layer_names=True) "
   ]
  },
  {
   "cell_type": "code",
   "execution_count": 25,
   "id": "2e134cde",
   "metadata": {
    "scrolled": true
   },
   "outputs": [
    {
     "name": "stdout",
     "output_type": "stream",
     "text": [
      "Epoch 1/15\n",
      "511/511 [==============================] - 133s 253ms/step - loss: 0.4608 - accuracy: 0.7897 - val_loss: 0.3985 - val_accuracy: 0.8275\n",
      "Epoch 2/15\n",
      "511/511 [==============================] - 134s 262ms/step - loss: 0.3630 - accuracy: 0.8429 - val_loss: 0.3783 - val_accuracy: 0.8318\n",
      "Epoch 3/15\n",
      "511/511 [==============================] - 135s 265ms/step - loss: 0.3364 - accuracy: 0.8558 - val_loss: 0.3822 - val_accuracy: 0.8311\n",
      "Epoch 4/15\n",
      "511/511 [==============================] - 136s 265ms/step - loss: 0.3207 - accuracy: 0.8640 - val_loss: 0.3702 - val_accuracy: 0.8396\n",
      "Epoch 5/15\n",
      "511/511 [==============================] - 135s 265ms/step - loss: 0.3087 - accuracy: 0.8684 - val_loss: 0.3807 - val_accuracy: 0.8339\n",
      "Epoch 6/15\n",
      "511/511 [==============================] - 141s 276ms/step - loss: 0.2932 - accuracy: 0.8763 - val_loss: 0.3888 - val_accuracy: 0.8332\n",
      "Epoch 7/15\n",
      "511/511 [==============================] - 141s 276ms/step - loss: 0.2758 - accuracy: 0.8844 - val_loss: 0.3875 - val_accuracy: 0.8357\n",
      "Epoch 8/15\n",
      "511/511 [==============================] - 140s 275ms/step - loss: 0.2637 - accuracy: 0.8894 - val_loss: 0.4152 - val_accuracy: 0.8143\n",
      "Epoch 9/15\n",
      "511/511 [==============================] - 140s 274ms/step - loss: 0.2450 - accuracy: 0.8999 - val_loss: 0.4133 - val_accuracy: 0.8375\n",
      "Epoch 10/15\n",
      "511/511 [==============================] - 144s 282ms/step - loss: 0.2309 - accuracy: 0.9034 - val_loss: 0.4045 - val_accuracy: 0.8325\n",
      "Epoch 11/15\n",
      "511/511 [==============================] - 151s 296ms/step - loss: 0.2180 - accuracy: 0.9105 - val_loss: 0.4387 - val_accuracy: 0.8307\n",
      "Epoch 12/15\n",
      "511/511 [==============================] - 156s 305ms/step - loss: 0.2044 - accuracy: 0.9197 - val_loss: 0.4360 - val_accuracy: 0.8436\n",
      "Epoch 13/15\n",
      "511/511 [==============================] - 159s 311ms/step - loss: 0.1903 - accuracy: 0.9251 - val_loss: 0.4945 - val_accuracy: 0.8304\n",
      "Epoch 14/15\n",
      "511/511 [==============================] - 150s 294ms/step - loss: 0.1780 - accuracy: 0.9305 - val_loss: 0.4953 - val_accuracy: 0.8229\n",
      "Epoch 15/15\n",
      "511/511 [==============================] - 175s 343ms/step - loss: 0.1738 - accuracy: 0.9328 - val_loss: 0.5324 - val_accuracy: 0.8193\n"
     ]
    }
   ],
   "source": [
    "model_base.compile(loss='binary_crossentropy', optimizer='adam', metrics=['accuracy'])\n",
    "history_base = model_base.fit(train_padded, train_label, epochs=15, validation_data=(test_padded, test_label), verbose=1) "
   ]
  },
  {
   "cell_type": "code",
   "execution_count": 28,
   "id": "934551be",
   "metadata": {},
   "outputs": [
    {
     "name": "stdout",
     "output_type": "stream",
     "text": [
      "88/88 [==============================] - 8s 87ms/step\n"
     ]
    }
   ],
   "source": [
    "pred_base = (model_base.predict(test_padded) > 0.5).astype(\"int32\") \n",
    "pred_base = pd.DataFrame(pred_base) "
   ]
  },
  {
   "cell_type": "code",
   "execution_count": 33,
   "id": "1442c4cb",
   "metadata": {},
   "outputs": [
    {
     "name": "stdout",
     "output_type": "stream",
     "text": [
      "Test Accuracy: 0.7478571428571429\n",
      "Test Precission: 0.5007072135785007\n",
      "Test Recall: 0.8738835298320828\n",
      "Test F1 Score: 0.4292538030498312\n"
     ]
    }
   ],
   "source": [
    "print(\"Test Accuracy:\", accuracy_score(pred, test_label)) \n",
    "print(\"Test Precission:\", precision_score(pred, test_label, average=\"macro\")) \n",
    "print(\"Test Recall:\", recall_score(pred, test_label, average=\"macro\")) \n",
    "print(\"Test F1 Score:\", f1_score(pred, test_label, average=\"macro\")) "
   ]
  },
  {
   "cell_type": "code",
   "execution_count": 32,
   "id": "7b63c346",
   "metadata": {},
   "outputs": [
    {
     "data": {
      "image/png": "[encoded data removed]",
      "text/plain": [
       "<Figure size 432x288 with 1 Axes>"
      ]
     },
     "metadata": {
      "needs_background": "light"
     },
     "output_type": "display_data"
    },
    {
     "data": {
      "image/png": "[encoded data removed]",
      "text/plain": [
       "<Figure size 432x288 with 1 Axes>"
      ]
     },
     "metadata": {
      "needs_background": "light"
     },
     "output_type": "display_data"
    }
   ],
   "source": [
    "plt.plot(history_base.history['accuracy']) \n",
    "plt.plot(history_base.history['val_accuracy']) \n",
    "\n",
    "plt.title('model accuracy')\n",
    "plt.ylabel('accuracy')\n",
    "plt.xlabel('epoch')\n",
    "plt.legend(['train','test'], loc='upper left')\n",
    "plt.show()\n",
    "\n",
    "plt.plot(history_base.history['loss'])\n",
    "plt.plot(history_base.history['val_loss'])\n",
    "\n",
    "plt.title('model loss')\n",
    "plt.ylabel('loss')\n",
    "plt.xlabel('epoch')\n",
    "plt.legend(['train','test'], loc='upper left')\n",
    "plt.show() "
   ]
  },
  {
   "cell_type": "markdown",
   "id": "05c8f3d8",
   "metadata": {},
   "source": [
    "## Model Dengan Fasttext     "
   ]
  },
  {
   "cell_type": "code",
   "execution_count": 19,
   "id": "8UtZRP_dE2Ju",
   "metadata": {
    "executionInfo": {
     "elapsed": 438,
     "status": "ok",
     "timestamp": 1663949980291,
     "user": {
      "displayName": "13519030 Ferdy Irawan Firdaus",
      "userId": "02270616962598472848"
     },
     "user_tz": -420
    },
    "id": "8UtZRP_dE2Ju"
   },
   "outputs": [],
   "source": [
    "model = tf.keras.Sequential([\n",
    "        tf.keras.layers.Embedding(vocab_size, embedding_dim, weights=[embedding_matrix], input_length=max_length),\n",
    "        tf.keras.layers.Bidirectional(tf.keras.layers.LSTM(128, return_sequences=True)), \n",
    "        tf.keras.layers.GlobalAveragePooling1D(),\n",
    "        tf.keras.layers.Dense(64, activation='relu'),\n",
    "        tf.keras.layers.Dense(1, activation='sigmoid')\n",
    "    ]) "
   ]
  },
  {
   "cell_type": "code",
   "execution_count": 20,
   "id": "BHbX71o6E-US",
   "metadata": {
    "colab": {
     "base_uri": "https://localhost:8080/"
    },
    "executionInfo": {
     "elapsed": 28,
     "status": "ok",
     "timestamp": 1663949980292,
     "user": {
      "displayName": "13519030 Ferdy Irawan Firdaus",
      "userId": "02270616962598472848"
     },
     "user_tz": -420
    },
    "id": "BHbX71o6E-US",
    "outputId": "9a058e11-4102-48bb-e81a-47e1492cdff2"
   },
   "outputs": [
    {
     "name": "stdout",
     "output_type": "stream",
     "text": [
      "Model: \"sequential\"\n",
      "_________________________________________________________________\n",
      " Layer (type)                Output Shape              Param #   \n",
      "=================================================================\n",
      " embedding (Embedding)       (None, 120, 300)          300000    \n",
      "                                                                 \n",
      " bidirectional (Bidirectiona  (None, 120, 256)         439296    \n",
      " l)                                                              \n",
      "                                                                 \n",
      " global_average_pooling1d (G  (None, 256)              0         \n",
      " lobalAveragePooling1D)                                          \n",
      "                                                                 \n",
      " dense (Dense)               (None, 64)                16448     \n",
      "                                                                 \n",
      " dense_1 (Dense)             (None, 1)                 65        \n",
      "                                                                 \n",
      "=================================================================\n",
      "Total params: 755,809\n",
      "Trainable params: 755,809\n",
      "Non-trainable params: 0\n",
      "_________________________________________________________________\n"
     ]
    }
   ],
   "source": [
    "model.summary() "
   ]
  },
  {
   "cell_type": "code",
   "execution_count": 22,
   "id": "y8sGtW77FT68",
   "metadata": {
    "colab": {
     "base_uri": "https://localhost:8080/",
     "height": 644
    },
    "executionInfo": {
     "elapsed": 39,
     "status": "ok",
     "timestamp": 1663950186545,
     "user": {
      "displayName": "13519030 Ferdy Irawan Firdaus",
      "userId": "02270616962598472848"
     },
     "user_tz": -420
    },
    "id": "y8sGtW77FT68",
    "outputId": "63609404-7a3a-41d4-be59-58d23b3d7a08"
   },
   "outputs": [
    {
     "data": {
      "image/png": "[encoded data removed]",
      "text/plain": [
       "<IPython.core.display.Image object>"
      ]
     },
     "execution_count": 22,
     "metadata": {},
     "output_type": "execute_result"
    }
   ],
   "source": [
    "plot_model(model, to_file='model_plot2.png', show_shapes=True, show_layer_names=True) "
   ]
  },
  {
   "cell_type": "code",
   "execution_count": 21,
   "id": "4d38a56a",
   "metadata": {
    "colab": {
     "base_uri": "https://localhost:8080/"
    },
    "executionInfo": {
     "elapsed": 206265,
     "status": "ok",
     "timestamp": 1663950186544,
     "user": {
      "displayName": "13519030 Ferdy Irawan Firdaus",
      "userId": "02270616962598472848"
     },
     "user_tz": -420
    },
    "id": "4d38a56a",
    "outputId": "fa9740cf-4ef0-4a46-a66f-931d3680e438"
   },
   "outputs": [
    {
     "name": "stdout",
     "output_type": "stream",
     "text": [
      "Epoch 1/15\n",
      "511/511 [==============================] - 149s 286ms/step - loss: 0.4687 - accuracy: 0.7799 - val_loss: 0.3915 - val_accuracy: 0.8346\n",
      "Epoch 2/15\n",
      "511/511 [==============================] - 137s 268ms/step - loss: 0.3667 - accuracy: 0.8432 - val_loss: 0.3836 - val_accuracy: 0.8404\n",
      "Epoch 3/15\n",
      "511/511 [==============================] - 142s 277ms/step - loss: 0.3544 - accuracy: 0.8549 - val_loss: 0.3830 - val_accuracy: 0.8314\n",
      "Epoch 4/15\n",
      "511/511 [==============================] - 142s 277ms/step - loss: 0.3380 - accuracy: 0.8590 - val_loss: 0.4150 - val_accuracy: 0.8343\n",
      "Epoch 5/15\n",
      "511/511 [==============================] - 141s 275ms/step - loss: 0.3214 - accuracy: 0.8638 - val_loss: 0.3588 - val_accuracy: 0.8443\n",
      "Epoch 6/15\n",
      "511/511 [==============================] - 135s 263ms/step - loss: 0.3039 - accuracy: 0.8728 - val_loss: 0.3588 - val_accuracy: 0.8432\n",
      "Epoch 7/15\n",
      "511/511 [==============================] - 135s 264ms/step - loss: 0.2864 - accuracy: 0.8815 - val_loss: 0.3745 - val_accuracy: 0.8361\n",
      "Epoch 8/15\n",
      "511/511 [==============================] - 316s 618ms/step - loss: 0.2653 - accuracy: 0.8912 - val_loss: 0.3526 - val_accuracy: 0.8436\n",
      "Epoch 9/15\n",
      "511/511 [==============================] - 131s 256ms/step - loss: 0.2482 - accuracy: 0.8976 - val_loss: 0.3737 - val_accuracy: 0.8546\n",
      "Epoch 10/15\n",
      "511/511 [==============================] - 135s 265ms/step - loss: 0.2299 - accuracy: 0.9063 - val_loss: 0.3743 - val_accuracy: 0.8471\n",
      "Epoch 11/15\n",
      "511/511 [==============================] - 144s 282ms/step - loss: 0.2116 - accuracy: 0.9165 - val_loss: 0.4119 - val_accuracy: 0.8393\n",
      "Epoch 12/15\n",
      "511/511 [==============================] - 137s 269ms/step - loss: 0.1983 - accuracy: 0.9220 - val_loss: 0.4320 - val_accuracy: 0.8336\n",
      "Epoch 13/15\n",
      "511/511 [==============================] - 130s 255ms/step - loss: 0.1820 - accuracy: 0.9266 - val_loss: 0.4198 - val_accuracy: 0.8282\n",
      "Epoch 14/15\n",
      "511/511 [==============================] - 127s 249ms/step - loss: 0.1689 - accuracy: 0.9351 - val_loss: 0.4701 - val_accuracy: 0.8400\n",
      "Epoch 15/15\n",
      "511/511 [==============================] - 129s 252ms/step - loss: 0.1554 - accuracy: 0.9382 - val_loss: 0.5012 - val_accuracy: 0.8314\n"
     ]
    }
   ],
   "source": [
    "model.compile(loss='binary_crossentropy', optimizer='adam', metrics=['accuracy'])\n",
    "history = model.fit(train_padded, train_label, epochs=15, validation_data=(test_padded, test_label), verbose=1) "
   ]
  },
  {
   "cell_type": "code",
   "execution_count": 23,
   "id": "eea8aab4",
   "metadata": {
    "executionInfo": {
     "elapsed": 1834,
     "status": "ok",
     "timestamp": 1663950188369,
     "user": {
      "displayName": "13519030 Ferdy Irawan Firdaus",
      "userId": "02270616962598472848"
     },
     "user_tz": -420
    },
    "id": "eea8aab4"
   },
   "outputs": [
    {
     "name": "stdout",
     "output_type": "stream",
     "text": [
      "88/88 [==============================] - 6s 63ms/step\n"
     ]
    }
   ],
   "source": [
    "pred = (model.predict(test_padded) > 0.5).astype(\"int32\") \n",
    "pred = pd.DataFrame(pred) "
   ]
  },
  {
   "cell_type": "code",
   "execution_count": 24,
   "id": "Y6NYEg0k6ped",
   "metadata": {
    "colab": {
     "base_uri": "https://localhost:8080/"
    },
    "executionInfo": {
     "elapsed": 25,
     "status": "ok",
     "timestamp": 1663950188370,
     "user": {
      "displayName": "13519030 Ferdy Irawan Firdaus",
      "userId": "02270616962598472848"
     },
     "user_tz": -420
    },
    "id": "Y6NYEg0k6ped",
    "outputId": "c0d6ce84-09df-4a99-cfee-d502303be4b9"
   },
   "outputs": [
    {
     "name": "stdout",
     "output_type": "stream",
     "text": [
      "Test Accuracy: 0.8314285714285714\n",
      "Test Precission: 0.7865539540098301\n",
      "Test Recall: 0.776024460372647\n",
      "Test F1 Score: 0.780962280962281\n"
     ]
    }
   ],
   "source": [
    "print(\"Test Accuracy:\", accuracy_score(pred, test_label)) \n",
    "print(\"Test Precission:\", precision_score(pred, test_label, average=\"macro\")) \n",
    "print(\"Test Recall:\", recall_score(pred, test_label, average=\"macro\")) \n",
    "print(\"Test F1 Score:\", f1_score(pred, test_label, average=\"macro\")) "
   ]
  },
  {
   "cell_type": "code",
   "execution_count": 25,
   "id": "AgaA7vvoB0rI",
   "metadata": {
    "colab": {
     "base_uri": "https://localhost:8080/",
     "height": 573
    },
    "executionInfo": {
     "elapsed": 22,
     "status": "ok",
     "timestamp": 1663950188371,
     "user": {
      "displayName": "13519030 Ferdy Irawan Firdaus",
      "userId": "02270616962598472848"
     },
     "user_tz": -420
    },
    "id": "AgaA7vvoB0rI",
    "outputId": "d14313b8-8422-4b03-fec4-9a6d22b0b89e"
   },
   "outputs": [
    {
     "data": {
      "image/png": "[encoded data removed]",
      "text/plain": [
       "<Figure size 432x288 with 1 Axes>"
      ]
     },
     "metadata": {
      "needs_background": "light"
     },
     "output_type": "display_data"
    },
    {
     "data": {
      "image/png": "[encoded data removed]",
      "text/plain": [
       "<Figure size 432x288 with 1 Axes>"
      ]
     },
     "metadata": {
      "needs_background": "light"
     },
     "output_type": "display_data"
    }
   ],
   "source": [
    "plt.plot(history.history['accuracy']) \n",
    "plt.plot(history.history['val_accuracy']) \n",
    "\n",
    "plt.title('model accuracy')\n",
    "plt.ylabel('accuracy')\n",
    "plt.xlabel('epoch')\n",
    "plt.legend(['train','test'], loc='upper left')\n",
    "plt.show()\n",
    "\n",
    "plt.plot(history.history['loss'])\n",
    "plt.plot(history.history['val_loss'])\n",
    "\n",
    "plt.title('model loss')\n",
    "plt.ylabel('loss')\n",
    "plt.xlabel('epoch')\n",
    "plt.legend(['train','test'], loc='upper left')\n",
    "plt.show() "
   ]
  }
 ],
 "metadata": {
  "accelerator": "GPU",
  "colab": {
   "collapsed_sections": [
    "7qn9JID3xc8I",
    "LVEfIhxEx_Uc",
    "wFSQZs9wzkam",
    "RBngcx8Q0xpo",
    "iaOrwNDBy7RF",
    "Vf0NgE_V0DgE"
   ],
   "provenance": []
  },
  "kernelspec": {
   "display_name": "Python 3 (ipykernel)",
   "language": "python",
   "name": "python3"
  },
  "language_info": {
   "codemirror_mode": {
    "name": "ipython",
    "version": 3
   },
   "file_extension": ".py",
   "mimetype": "text/x-python",
   "name": "python",
   "nbconvert_exporter": "python",
   "pygments_lexer": "ipython3",
   "version": "3.9.12"
  }
 },
 "nbformat": 4,
 "nbformat_minor": 5
}
