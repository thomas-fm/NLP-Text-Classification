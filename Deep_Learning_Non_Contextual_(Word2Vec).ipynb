{
  "nbformat": 4,
  "nbformat_minor": 0,
  "metadata": {
    "colab": {
      "provenance": [],
      "collapsed_sections": []
    },
    "kernelspec": {
      "name": "python3",
      "display_name": "Python 3"
    },
    "language_info": {
      "name": "python"
    }
  },
  "cells": [
    {
      "cell_type": "markdown",
      "source": [
        "\n",
        "Membangun model Word2Vec dari kumpulan dataset"
      ],
      "metadata": {
        "id": "96ypk72nt6sP"
      }
    },
    {
      "cell_type": "code",
      "source": [
        "!pip install --upgrade gensim\n",
        "\n",
        "import gensim\n",
        "import pandas as pd\n",
        "import tensorflow as tf\n",
        "import numpy as np\n",
        "import nltk\n",
        "from nltk.corpus import stopwords\n",
        "import os\n",
        "from keras.preprocessing.text import Tokenizer\n",
        "from keras.preprocessing.sequence import pad_sequences\n",
        "from keras.models import Sequential\n",
        "from keras.layers import Dense, Embedding, LSTM, GRU, Bidirectional, GlobalAveragePooling1D, Conv1D, Flatten, MaxPooling1D\n",
        "from keras.layers.embeddings import Embedding\n",
        "from keras.initializers import Constant\n",
        "from sklearn.metrics import roc_curve, auc, classification_report \n",
        "import matplotlib.pyplot as plt\n",
        "\n",
        "nltk.download('stopwords')\n",
        "nltk.download('punkt')\n",
        "print(gensim.__version__)"
      ],
      "metadata": {
        "colab": {
          "base_uri": "https://localhost:8080/"
        },
        "id": "n94VnFz5t_VG",
        "outputId": "21ba7fed-ca8f-4df7-9373-3f9042694ad3"
      },
      "execution_count": 1,
      "outputs": [
        {
          "output_type": "stream",
          "name": "stdout",
          "text": [
            "Looking in indexes: https://pypi.org/simple, https://us-python.pkg.dev/colab-wheels/public/simple/\n",
            "Requirement already satisfied: gensim in /usr/local/lib/python3.7/dist-packages (3.6.0)\n",
            "Collecting gensim\n",
            "  Downloading gensim-4.2.0-cp37-cp37m-manylinux_2_12_x86_64.manylinux2010_x86_64.whl (24.1 MB)\n",
            "\u001b[K     |████████████████████████████████| 24.1 MB 1.3 MB/s \n",
            "\u001b[?25hRequirement already satisfied: numpy>=1.17.0 in /usr/local/lib/python3.7/dist-packages (from gensim) (1.21.6)\n",
            "Requirement already satisfied: smart-open>=1.8.1 in /usr/local/lib/python3.7/dist-packages (from gensim) (5.2.1)\n",
            "Requirement already satisfied: scipy>=0.18.1 in /usr/local/lib/python3.7/dist-packages (from gensim) (1.7.3)\n",
            "Installing collected packages: gensim\n",
            "  Attempting uninstall: gensim\n",
            "    Found existing installation: gensim 3.6.0\n",
            "    Uninstalling gensim-3.6.0:\n",
            "      Successfully uninstalled gensim-3.6.0\n",
            "Successfully installed gensim-4.2.0\n"
          ]
        },
        {
          "output_type": "stream",
          "name": "stderr",
          "text": [
            "[nltk_data] Downloading package stopwords to /root/nltk_data...\n",
            "[nltk_data]   Unzipping corpora/stopwords.zip.\n",
            "[nltk_data] Downloading package punkt to /root/nltk_data...\n",
            "[nltk_data]   Unzipping tokenizers/punkt.zip.\n"
          ]
        },
        {
          "output_type": "stream",
          "name": "stdout",
          "text": [
            "4.2.0\n"
          ]
        }
      ]
    },
    {
      "cell_type": "markdown",
      "source": [
        "## Preprocess"
      ],
      "metadata": {
        "id": "uxGQbtyv0eIy"
      }
    },
    {
      "cell_type": "code",
      "source": [
        "train = pd.read_csv(\"data_worthcheck/train.csv\")\n",
        "test = pd.read_csv(\"data_worthcheck/test.csv\")\n",
        "development = pd.read_csv(\"data_worthcheck/dev.csv\")"
      ],
      "metadata": {
        "id": "arb8vUZLuca6"
      },
      "execution_count": 2,
      "outputs": []
    },
    {
      "cell_type": "code",
      "source": [
        "train.head()"
      ],
      "metadata": {
        "colab": {
          "base_uri": "https://localhost:8080/",
          "height": 206
        },
        "id": "WQ0UhpnuuwKa",
        "outputId": "09bdbd34-aa30-480b-f278-fe8d98b6ec9c"
      },
      "execution_count": 3,
      "outputs": [
        {
          "output_type": "execute_result",
          "data": {
            "text/plain": [
              "   Unnamed: 0                                             text_a label\n",
              "0           0  betewe buka twitter cuman ngetweet liat home b...    no\n",
              "1           1  mas piyuuu mugo2 corona tuh mulut tersumpal ma...    no\n",
              "2           2  e100ss gini buka informasi sejelas nya identit...   yes\n",
              "3           3  neng solo wes ono terduga corona cobo neng ati...    no\n",
              "4           4  midiahn nii akun gak takut takut nya isu coron...    no"
            ],
            "text/html": [
              "\n",
              "  <div id=\"df-95645938-333e-4ed2-94ea-bbb598d55058\">\n",
              "    <div class=\"colab-df-container\">\n",
              "      <div>\n",
              "<style scoped>\n",
              "    .dataframe tbody tr th:only-of-type {\n",
              "        vertical-align: middle;\n",
              "    }\n",
              "\n",
              "    .dataframe tbody tr th {\n",
              "        vertical-align: top;\n",
              "    }\n",
              "\n",
              "    .dataframe thead th {\n",
              "        text-align: right;\n",
              "    }\n",
              "</style>\n",
              "<table border=\"1\" class=\"dataframe\">\n",
              "  <thead>\n",
              "    <tr style=\"text-align: right;\">\n",
              "      <th></th>\n",
              "      <th>Unnamed: 0</th>\n",
              "      <th>text_a</th>\n",
              "      <th>label</th>\n",
              "    </tr>\n",
              "  </thead>\n",
              "  <tbody>\n",
              "    <tr>\n",
              "      <th>0</th>\n",
              "      <td>0</td>\n",
              "      <td>betewe buka twitter cuman ngetweet liat home b...</td>\n",
              "      <td>no</td>\n",
              "    </tr>\n",
              "    <tr>\n",
              "      <th>1</th>\n",
              "      <td>1</td>\n",
              "      <td>mas piyuuu mugo2 corona tuh mulut tersumpal ma...</td>\n",
              "      <td>no</td>\n",
              "    </tr>\n",
              "    <tr>\n",
              "      <th>2</th>\n",
              "      <td>2</td>\n",
              "      <td>e100ss gini buka informasi sejelas nya identit...</td>\n",
              "      <td>yes</td>\n",
              "    </tr>\n",
              "    <tr>\n",
              "      <th>3</th>\n",
              "      <td>3</td>\n",
              "      <td>neng solo wes ono terduga corona cobo neng ati...</td>\n",
              "      <td>no</td>\n",
              "    </tr>\n",
              "    <tr>\n",
              "      <th>4</th>\n",
              "      <td>4</td>\n",
              "      <td>midiahn nii akun gak takut takut nya isu coron...</td>\n",
              "      <td>no</td>\n",
              "    </tr>\n",
              "  </tbody>\n",
              "</table>\n",
              "</div>\n",
              "      <button class=\"colab-df-convert\" onclick=\"convertToInteractive('df-95645938-333e-4ed2-94ea-bbb598d55058')\"\n",
              "              title=\"Convert this dataframe to an interactive table.\"\n",
              "              style=\"display:none;\">\n",
              "        \n",
              "  <svg xmlns=\"http://www.w3.org/2000/svg\" height=\"24px\"viewBox=\"0 0 24 24\"\n",
              "       width=\"24px\">\n",
              "    <path d=\"M0 0h24v24H0V0z\" fill=\"none\"/>\n",
              "    <path d=\"M18.56 5.44l.94 2.06.94-2.06 2.06-.94-2.06-.94-.94-2.06-.94 2.06-2.06.94zm-11 1L8.5 8.5l.94-2.06 2.06-.94-2.06-.94L8.5 2.5l-.94 2.06-2.06.94zm10 10l.94 2.06.94-2.06 2.06-.94-2.06-.94-.94-2.06-.94 2.06-2.06.94z\"/><path d=\"M17.41 7.96l-1.37-1.37c-.4-.4-.92-.59-1.43-.59-.52 0-1.04.2-1.43.59L10.3 9.45l-7.72 7.72c-.78.78-.78 2.05 0 2.83L4 21.41c.39.39.9.59 1.41.59.51 0 1.02-.2 1.41-.59l7.78-7.78 2.81-2.81c.8-.78.8-2.07 0-2.86zM5.41 20L4 18.59l7.72-7.72 1.47 1.35L5.41 20z\"/>\n",
              "  </svg>\n",
              "      </button>\n",
              "      \n",
              "  <style>\n",
              "    .colab-df-container {\n",
              "      display:flex;\n",
              "      flex-wrap:wrap;\n",
              "      gap: 12px;\n",
              "    }\n",
              "\n",
              "    .colab-df-convert {\n",
              "      background-color: #E8F0FE;\n",
              "      border: none;\n",
              "      border-radius: 50%;\n",
              "      cursor: pointer;\n",
              "      display: none;\n",
              "      fill: #1967D2;\n",
              "      height: 32px;\n",
              "      padding: 0 0 0 0;\n",
              "      width: 32px;\n",
              "    }\n",
              "\n",
              "    .colab-df-convert:hover {\n",
              "      background-color: #E2EBFA;\n",
              "      box-shadow: 0px 1px 2px rgba(60, 64, 67, 0.3), 0px 1px 3px 1px rgba(60, 64, 67, 0.15);\n",
              "      fill: #174EA6;\n",
              "    }\n",
              "\n",
              "    [theme=dark] .colab-df-convert {\n",
              "      background-color: #3B4455;\n",
              "      fill: #D2E3FC;\n",
              "    }\n",
              "\n",
              "    [theme=dark] .colab-df-convert:hover {\n",
              "      background-color: #434B5C;\n",
              "      box-shadow: 0px 1px 3px 1px rgba(0, 0, 0, 0.15);\n",
              "      filter: drop-shadow(0px 1px 2px rgba(0, 0, 0, 0.3));\n",
              "      fill: #FFFFFF;\n",
              "    }\n",
              "  </style>\n",
              "\n",
              "      <script>\n",
              "        const buttonEl =\n",
              "          document.querySelector('#df-95645938-333e-4ed2-94ea-bbb598d55058 button.colab-df-convert');\n",
              "        buttonEl.style.display =\n",
              "          google.colab.kernel.accessAllowed ? 'block' : 'none';\n",
              "\n",
              "        async function convertToInteractive(key) {\n",
              "          const element = document.querySelector('#df-95645938-333e-4ed2-94ea-bbb598d55058');\n",
              "          const dataTable =\n",
              "            await google.colab.kernel.invokeFunction('convertToInteractive',\n",
              "                                                     [key], {});\n",
              "          if (!dataTable) return;\n",
              "\n",
              "          const docLinkHtml = 'Like what you see? Visit the ' +\n",
              "            '<a target=\"_blank\" href=https://colab.research.google.com/notebooks/data_table.ipynb>data table notebook</a>'\n",
              "            + ' to learn more about interactive tables.';\n",
              "          element.innerHTML = '';\n",
              "          dataTable['output_type'] = 'display_data';\n",
              "          await google.colab.output.renderOutput(dataTable, element);\n",
              "          const docLink = document.createElement('div');\n",
              "          docLink.innerHTML = docLinkHtml;\n",
              "          element.appendChild(docLink);\n",
              "        }\n",
              "      </script>\n",
              "    </div>\n",
              "  </div>\n",
              "  "
            ]
          },
          "metadata": {},
          "execution_count": 3
        }
      ]
    },
    {
      "cell_type": "markdown",
      "source": [
        "Drop column"
      ],
      "metadata": {
        "id": "-NZ5W2rN_SGR"
      }
    },
    {
      "cell_type": "code",
      "source": [
        "train = train.drop('Unnamed: 0', axis=1) \n",
        "train = train.drop_duplicates()\n",
        "train.head()"
      ],
      "metadata": {
        "colab": {
          "base_uri": "https://localhost:8080/",
          "height": 206
        },
        "id": "BgpwjjhMu6tV",
        "outputId": "b77a0123-308b-4741-b562-5921dc8dffae"
      },
      "execution_count": 4,
      "outputs": [
        {
          "output_type": "execute_result",
          "data": {
            "text/plain": [
              "                                              text_a label\n",
              "0  betewe buka twitter cuman ngetweet liat home b...    no\n",
              "1  mas piyuuu mugo2 corona tuh mulut tersumpal ma...    no\n",
              "2  e100ss gini buka informasi sejelas nya identit...   yes\n",
              "3  neng solo wes ono terduga corona cobo neng ati...    no\n",
              "4  midiahn nii akun gak takut takut nya isu coron...    no"
            ],
            "text/html": [
              "\n",
              "  <div id=\"df-cfdfe591-1a0c-44d7-9613-e80b20273fb2\">\n",
              "    <div class=\"colab-df-container\">\n",
              "      <div>\n",
              "<style scoped>\n",
              "    .dataframe tbody tr th:only-of-type {\n",
              "        vertical-align: middle;\n",
              "    }\n",
              "\n",
              "    .dataframe tbody tr th {\n",
              "        vertical-align: top;\n",
              "    }\n",
              "\n",
              "    .dataframe thead th {\n",
              "        text-align: right;\n",
              "    }\n",
              "</style>\n",
              "<table border=\"1\" class=\"dataframe\">\n",
              "  <thead>\n",
              "    <tr style=\"text-align: right;\">\n",
              "      <th></th>\n",
              "      <th>text_a</th>\n",
              "      <th>label</th>\n",
              "    </tr>\n",
              "  </thead>\n",
              "  <tbody>\n",
              "    <tr>\n",
              "      <th>0</th>\n",
              "      <td>betewe buka twitter cuman ngetweet liat home b...</td>\n",
              "      <td>no</td>\n",
              "    </tr>\n",
              "    <tr>\n",
              "      <th>1</th>\n",
              "      <td>mas piyuuu mugo2 corona tuh mulut tersumpal ma...</td>\n",
              "      <td>no</td>\n",
              "    </tr>\n",
              "    <tr>\n",
              "      <th>2</th>\n",
              "      <td>e100ss gini buka informasi sejelas nya identit...</td>\n",
              "      <td>yes</td>\n",
              "    </tr>\n",
              "    <tr>\n",
              "      <th>3</th>\n",
              "      <td>neng solo wes ono terduga corona cobo neng ati...</td>\n",
              "      <td>no</td>\n",
              "    </tr>\n",
              "    <tr>\n",
              "      <th>4</th>\n",
              "      <td>midiahn nii akun gak takut takut nya isu coron...</td>\n",
              "      <td>no</td>\n",
              "    </tr>\n",
              "  </tbody>\n",
              "</table>\n",
              "</div>\n",
              "      <button class=\"colab-df-convert\" onclick=\"convertToInteractive('df-cfdfe591-1a0c-44d7-9613-e80b20273fb2')\"\n",
              "              title=\"Convert this dataframe to an interactive table.\"\n",
              "              style=\"display:none;\">\n",
              "        \n",
              "  <svg xmlns=\"http://www.w3.org/2000/svg\" height=\"24px\"viewBox=\"0 0 24 24\"\n",
              "       width=\"24px\">\n",
              "    <path d=\"M0 0h24v24H0V0z\" fill=\"none\"/>\n",
              "    <path d=\"M18.56 5.44l.94 2.06.94-2.06 2.06-.94-2.06-.94-.94-2.06-.94 2.06-2.06.94zm-11 1L8.5 8.5l.94-2.06 2.06-.94-2.06-.94L8.5 2.5l-.94 2.06-2.06.94zm10 10l.94 2.06.94-2.06 2.06-.94-2.06-.94-.94-2.06-.94 2.06-2.06.94z\"/><path d=\"M17.41 7.96l-1.37-1.37c-.4-.4-.92-.59-1.43-.59-.52 0-1.04.2-1.43.59L10.3 9.45l-7.72 7.72c-.78.78-.78 2.05 0 2.83L4 21.41c.39.39.9.59 1.41.59.51 0 1.02-.2 1.41-.59l7.78-7.78 2.81-2.81c.8-.78.8-2.07 0-2.86zM5.41 20L4 18.59l7.72-7.72 1.47 1.35L5.41 20z\"/>\n",
              "  </svg>\n",
              "      </button>\n",
              "      \n",
              "  <style>\n",
              "    .colab-df-container {\n",
              "      display:flex;\n",
              "      flex-wrap:wrap;\n",
              "      gap: 12px;\n",
              "    }\n",
              "\n",
              "    .colab-df-convert {\n",
              "      background-color: #E8F0FE;\n",
              "      border: none;\n",
              "      border-radius: 50%;\n",
              "      cursor: pointer;\n",
              "      display: none;\n",
              "      fill: #1967D2;\n",
              "      height: 32px;\n",
              "      padding: 0 0 0 0;\n",
              "      width: 32px;\n",
              "    }\n",
              "\n",
              "    .colab-df-convert:hover {\n",
              "      background-color: #E2EBFA;\n",
              "      box-shadow: 0px 1px 2px rgba(60, 64, 67, 0.3), 0px 1px 3px 1px rgba(60, 64, 67, 0.15);\n",
              "      fill: #174EA6;\n",
              "    }\n",
              "\n",
              "    [theme=dark] .colab-df-convert {\n",
              "      background-color: #3B4455;\n",
              "      fill: #D2E3FC;\n",
              "    }\n",
              "\n",
              "    [theme=dark] .colab-df-convert:hover {\n",
              "      background-color: #434B5C;\n",
              "      box-shadow: 0px 1px 3px 1px rgba(0, 0, 0, 0.15);\n",
              "      filter: drop-shadow(0px 1px 2px rgba(0, 0, 0, 0.3));\n",
              "      fill: #FFFFFF;\n",
              "    }\n",
              "  </style>\n",
              "\n",
              "      <script>\n",
              "        const buttonEl =\n",
              "          document.querySelector('#df-cfdfe591-1a0c-44d7-9613-e80b20273fb2 button.colab-df-convert');\n",
              "        buttonEl.style.display =\n",
              "          google.colab.kernel.accessAllowed ? 'block' : 'none';\n",
              "\n",
              "        async function convertToInteractive(key) {\n",
              "          const element = document.querySelector('#df-cfdfe591-1a0c-44d7-9613-e80b20273fb2');\n",
              "          const dataTable =\n",
              "            await google.colab.kernel.invokeFunction('convertToInteractive',\n",
              "                                                     [key], {});\n",
              "          if (!dataTable) return;\n",
              "\n",
              "          const docLinkHtml = 'Like what you see? Visit the ' +\n",
              "            '<a target=\"_blank\" href=https://colab.research.google.com/notebooks/data_table.ipynb>data table notebook</a>'\n",
              "            + ' to learn more about interactive tables.';\n",
              "          element.innerHTML = '';\n",
              "          dataTable['output_type'] = 'display_data';\n",
              "          await google.colab.output.renderOutput(dataTable, element);\n",
              "          const docLink = document.createElement('div');\n",
              "          docLink.innerHTML = docLinkHtml;\n",
              "          element.appendChild(docLink);\n",
              "        }\n",
              "      </script>\n",
              "    </div>\n",
              "  </div>\n",
              "  "
            ]
          },
          "metadata": {},
          "execution_count": 4
        }
      ]
    },
    {
      "cell_type": "markdown",
      "source": [
        "Drop duplicate"
      ],
      "metadata": {
        "id": "0hX_I33G_VK1"
      }
    },
    {
      "cell_type": "code",
      "source": [
        "test = test.drop_duplicates()\n",
        "test.head()"
      ],
      "metadata": {
        "colab": {
          "base_uri": "https://localhost:8080/",
          "height": 206
        },
        "id": "pStvC8euuxx3",
        "outputId": "b836cb01-a787-492c-86da-f49edc713ac0"
      },
      "execution_count": 5,
      "outputs": [
        {
          "output_type": "execute_result",
          "data": {
            "text/plain": [
              "                                              text_a label\n",
              "0                            jek dajal ga depok bang    no\n",
              "1  detikcom untung depok masuk wilayah nya ridwan...    no\n",
              "2  df dom jakarta depok yg gunain vc cabang nya c...    no\n",
              "3                                  your2rl depok jkt    no\n",
              "4  doakan indonesia selamat virus corona pkb depo...   yes"
            ],
            "text/html": [
              "\n",
              "  <div id=\"df-ea1deebd-9a50-4224-be42-c0e089d47fce\">\n",
              "    <div class=\"colab-df-container\">\n",
              "      <div>\n",
              "<style scoped>\n",
              "    .dataframe tbody tr th:only-of-type {\n",
              "        vertical-align: middle;\n",
              "    }\n",
              "\n",
              "    .dataframe tbody tr th {\n",
              "        vertical-align: top;\n",
              "    }\n",
              "\n",
              "    .dataframe thead th {\n",
              "        text-align: right;\n",
              "    }\n",
              "</style>\n",
              "<table border=\"1\" class=\"dataframe\">\n",
              "  <thead>\n",
              "    <tr style=\"text-align: right;\">\n",
              "      <th></th>\n",
              "      <th>text_a</th>\n",
              "      <th>label</th>\n",
              "    </tr>\n",
              "  </thead>\n",
              "  <tbody>\n",
              "    <tr>\n",
              "      <th>0</th>\n",
              "      <td>jek dajal ga depok bang</td>\n",
              "      <td>no</td>\n",
              "    </tr>\n",
              "    <tr>\n",
              "      <th>1</th>\n",
              "      <td>detikcom untung depok masuk wilayah nya ridwan...</td>\n",
              "      <td>no</td>\n",
              "    </tr>\n",
              "    <tr>\n",
              "      <th>2</th>\n",
              "      <td>df dom jakarta depok yg gunain vc cabang nya c...</td>\n",
              "      <td>no</td>\n",
              "    </tr>\n",
              "    <tr>\n",
              "      <th>3</th>\n",
              "      <td>your2rl depok jkt</td>\n",
              "      <td>no</td>\n",
              "    </tr>\n",
              "    <tr>\n",
              "      <th>4</th>\n",
              "      <td>doakan indonesia selamat virus corona pkb depo...</td>\n",
              "      <td>yes</td>\n",
              "    </tr>\n",
              "  </tbody>\n",
              "</table>\n",
              "</div>\n",
              "      <button class=\"colab-df-convert\" onclick=\"convertToInteractive('df-ea1deebd-9a50-4224-be42-c0e089d47fce')\"\n",
              "              title=\"Convert this dataframe to an interactive table.\"\n",
              "              style=\"display:none;\">\n",
              "        \n",
              "  <svg xmlns=\"http://www.w3.org/2000/svg\" height=\"24px\"viewBox=\"0 0 24 24\"\n",
              "       width=\"24px\">\n",
              "    <path d=\"M0 0h24v24H0V0z\" fill=\"none\"/>\n",
              "    <path d=\"M18.56 5.44l.94 2.06.94-2.06 2.06-.94-2.06-.94-.94-2.06-.94 2.06-2.06.94zm-11 1L8.5 8.5l.94-2.06 2.06-.94-2.06-.94L8.5 2.5l-.94 2.06-2.06.94zm10 10l.94 2.06.94-2.06 2.06-.94-2.06-.94-.94-2.06-.94 2.06-2.06.94z\"/><path d=\"M17.41 7.96l-1.37-1.37c-.4-.4-.92-.59-1.43-.59-.52 0-1.04.2-1.43.59L10.3 9.45l-7.72 7.72c-.78.78-.78 2.05 0 2.83L4 21.41c.39.39.9.59 1.41.59.51 0 1.02-.2 1.41-.59l7.78-7.78 2.81-2.81c.8-.78.8-2.07 0-2.86zM5.41 20L4 18.59l7.72-7.72 1.47 1.35L5.41 20z\"/>\n",
              "  </svg>\n",
              "      </button>\n",
              "      \n",
              "  <style>\n",
              "    .colab-df-container {\n",
              "      display:flex;\n",
              "      flex-wrap:wrap;\n",
              "      gap: 12px;\n",
              "    }\n",
              "\n",
              "    .colab-df-convert {\n",
              "      background-color: #E8F0FE;\n",
              "      border: none;\n",
              "      border-radius: 50%;\n",
              "      cursor: pointer;\n",
              "      display: none;\n",
              "      fill: #1967D2;\n",
              "      height: 32px;\n",
              "      padding: 0 0 0 0;\n",
              "      width: 32px;\n",
              "    }\n",
              "\n",
              "    .colab-df-convert:hover {\n",
              "      background-color: #E2EBFA;\n",
              "      box-shadow: 0px 1px 2px rgba(60, 64, 67, 0.3), 0px 1px 3px 1px rgba(60, 64, 67, 0.15);\n",
              "      fill: #174EA6;\n",
              "    }\n",
              "\n",
              "    [theme=dark] .colab-df-convert {\n",
              "      background-color: #3B4455;\n",
              "      fill: #D2E3FC;\n",
              "    }\n",
              "\n",
              "    [theme=dark] .colab-df-convert:hover {\n",
              "      background-color: #434B5C;\n",
              "      box-shadow: 0px 1px 3px 1px rgba(0, 0, 0, 0.15);\n",
              "      filter: drop-shadow(0px 1px 2px rgba(0, 0, 0, 0.3));\n",
              "      fill: #FFFFFF;\n",
              "    }\n",
              "  </style>\n",
              "\n",
              "      <script>\n",
              "        const buttonEl =\n",
              "          document.querySelector('#df-ea1deebd-9a50-4224-be42-c0e089d47fce button.colab-df-convert');\n",
              "        buttonEl.style.display =\n",
              "          google.colab.kernel.accessAllowed ? 'block' : 'none';\n",
              "\n",
              "        async function convertToInteractive(key) {\n",
              "          const element = document.querySelector('#df-ea1deebd-9a50-4224-be42-c0e089d47fce');\n",
              "          const dataTable =\n",
              "            await google.colab.kernel.invokeFunction('convertToInteractive',\n",
              "                                                     [key], {});\n",
              "          if (!dataTable) return;\n",
              "\n",
              "          const docLinkHtml = 'Like what you see? Visit the ' +\n",
              "            '<a target=\"_blank\" href=https://colab.research.google.com/notebooks/data_table.ipynb>data table notebook</a>'\n",
              "            + ' to learn more about interactive tables.';\n",
              "          element.innerHTML = '';\n",
              "          dataTable['output_type'] = 'display_data';\n",
              "          await google.colab.output.renderOutput(dataTable, element);\n",
              "          const docLink = document.createElement('div');\n",
              "          docLink.innerHTML = docLinkHtml;\n",
              "          element.appendChild(docLink);\n",
              "        }\n",
              "      </script>\n",
              "    </div>\n",
              "  </div>\n",
              "  "
            ]
          },
          "metadata": {},
          "execution_count": 5
        }
      ]
    },
    {
      "cell_type": "code",
      "source": [
        "development = development.drop_duplicates()\n",
        "development.head()"
      ],
      "metadata": {
        "colab": {
          "base_uri": "https://localhost:8080/",
          "height": 206
        },
        "id": "OvwJdWxOwGEw",
        "outputId": "881fbb82-13a8-468c-b9ac-dc47557a02b9"
      },
      "execution_count": 6,
      "outputs": [
        {
          "output_type": "execute_result",
          "data": {
            "text/plain": [
              "                                              text_a label\n",
              "0                            jek dajal ga depok bang    no\n",
              "1  detikcom untung depok masuk wilayah nya ridwan...    no\n",
              "2  df dom jakarta depok yg gunain vc cabang nya c...    no\n",
              "3                                  your2rl depok jkt    no\n",
              "4  doakan indonesia selamat virus corona pkb depo...   yes"
            ],
            "text/html": [
              "\n",
              "  <div id=\"df-9412ad4a-c3d9-4636-b2de-d66b3226d0bd\">\n",
              "    <div class=\"colab-df-container\">\n",
              "      <div>\n",
              "<style scoped>\n",
              "    .dataframe tbody tr th:only-of-type {\n",
              "        vertical-align: middle;\n",
              "    }\n",
              "\n",
              "    .dataframe tbody tr th {\n",
              "        vertical-align: top;\n",
              "    }\n",
              "\n",
              "    .dataframe thead th {\n",
              "        text-align: right;\n",
              "    }\n",
              "</style>\n",
              "<table border=\"1\" class=\"dataframe\">\n",
              "  <thead>\n",
              "    <tr style=\"text-align: right;\">\n",
              "      <th></th>\n",
              "      <th>text_a</th>\n",
              "      <th>label</th>\n",
              "    </tr>\n",
              "  </thead>\n",
              "  <tbody>\n",
              "    <tr>\n",
              "      <th>0</th>\n",
              "      <td>jek dajal ga depok bang</td>\n",
              "      <td>no</td>\n",
              "    </tr>\n",
              "    <tr>\n",
              "      <th>1</th>\n",
              "      <td>detikcom untung depok masuk wilayah nya ridwan...</td>\n",
              "      <td>no</td>\n",
              "    </tr>\n",
              "    <tr>\n",
              "      <th>2</th>\n",
              "      <td>df dom jakarta depok yg gunain vc cabang nya c...</td>\n",
              "      <td>no</td>\n",
              "    </tr>\n",
              "    <tr>\n",
              "      <th>3</th>\n",
              "      <td>your2rl depok jkt</td>\n",
              "      <td>no</td>\n",
              "    </tr>\n",
              "    <tr>\n",
              "      <th>4</th>\n",
              "      <td>doakan indonesia selamat virus corona pkb depo...</td>\n",
              "      <td>yes</td>\n",
              "    </tr>\n",
              "  </tbody>\n",
              "</table>\n",
              "</div>\n",
              "      <button class=\"colab-df-convert\" onclick=\"convertToInteractive('df-9412ad4a-c3d9-4636-b2de-d66b3226d0bd')\"\n",
              "              title=\"Convert this dataframe to an interactive table.\"\n",
              "              style=\"display:none;\">\n",
              "        \n",
              "  <svg xmlns=\"http://www.w3.org/2000/svg\" height=\"24px\"viewBox=\"0 0 24 24\"\n",
              "       width=\"24px\">\n",
              "    <path d=\"M0 0h24v24H0V0z\" fill=\"none\"/>\n",
              "    <path d=\"M18.56 5.44l.94 2.06.94-2.06 2.06-.94-2.06-.94-.94-2.06-.94 2.06-2.06.94zm-11 1L8.5 8.5l.94-2.06 2.06-.94-2.06-.94L8.5 2.5l-.94 2.06-2.06.94zm10 10l.94 2.06.94-2.06 2.06-.94-2.06-.94-.94-2.06-.94 2.06-2.06.94z\"/><path d=\"M17.41 7.96l-1.37-1.37c-.4-.4-.92-.59-1.43-.59-.52 0-1.04.2-1.43.59L10.3 9.45l-7.72 7.72c-.78.78-.78 2.05 0 2.83L4 21.41c.39.39.9.59 1.41.59.51 0 1.02-.2 1.41-.59l7.78-7.78 2.81-2.81c.8-.78.8-2.07 0-2.86zM5.41 20L4 18.59l7.72-7.72 1.47 1.35L5.41 20z\"/>\n",
              "  </svg>\n",
              "      </button>\n",
              "      \n",
              "  <style>\n",
              "    .colab-df-container {\n",
              "      display:flex;\n",
              "      flex-wrap:wrap;\n",
              "      gap: 12px;\n",
              "    }\n",
              "\n",
              "    .colab-df-convert {\n",
              "      background-color: #E8F0FE;\n",
              "      border: none;\n",
              "      border-radius: 50%;\n",
              "      cursor: pointer;\n",
              "      display: none;\n",
              "      fill: #1967D2;\n",
              "      height: 32px;\n",
              "      padding: 0 0 0 0;\n",
              "      width: 32px;\n",
              "    }\n",
              "\n",
              "    .colab-df-convert:hover {\n",
              "      background-color: #E2EBFA;\n",
              "      box-shadow: 0px 1px 2px rgba(60, 64, 67, 0.3), 0px 1px 3px 1px rgba(60, 64, 67, 0.15);\n",
              "      fill: #174EA6;\n",
              "    }\n",
              "\n",
              "    [theme=dark] .colab-df-convert {\n",
              "      background-color: #3B4455;\n",
              "      fill: #D2E3FC;\n",
              "    }\n",
              "\n",
              "    [theme=dark] .colab-df-convert:hover {\n",
              "      background-color: #434B5C;\n",
              "      box-shadow: 0px 1px 3px 1px rgba(0, 0, 0, 0.15);\n",
              "      filter: drop-shadow(0px 1px 2px rgba(0, 0, 0, 0.3));\n",
              "      fill: #FFFFFF;\n",
              "    }\n",
              "  </style>\n",
              "\n",
              "      <script>\n",
              "        const buttonEl =\n",
              "          document.querySelector('#df-9412ad4a-c3d9-4636-b2de-d66b3226d0bd button.colab-df-convert');\n",
              "        buttonEl.style.display =\n",
              "          google.colab.kernel.accessAllowed ? 'block' : 'none';\n",
              "\n",
              "        async function convertToInteractive(key) {\n",
              "          const element = document.querySelector('#df-9412ad4a-c3d9-4636-b2de-d66b3226d0bd');\n",
              "          const dataTable =\n",
              "            await google.colab.kernel.invokeFunction('convertToInteractive',\n",
              "                                                     [key], {});\n",
              "          if (!dataTable) return;\n",
              "\n",
              "          const docLinkHtml = 'Like what you see? Visit the ' +\n",
              "            '<a target=\"_blank\" href=https://colab.research.google.com/notebooks/data_table.ipynb>data table notebook</a>'\n",
              "            + ' to learn more about interactive tables.';\n",
              "          element.innerHTML = '';\n",
              "          dataTable['output_type'] = 'display_data';\n",
              "          await google.colab.output.renderOutput(dataTable, element);\n",
              "          const docLink = document.createElement('div');\n",
              "          docLink.innerHTML = docLinkHtml;\n",
              "          element.appendChild(docLink);\n",
              "        }\n",
              "      </script>\n",
              "    </div>\n",
              "  </div>\n",
              "  "
            ]
          },
          "metadata": {},
          "execution_count": 6
        }
      ]
    },
    {
      "cell_type": "code",
      "source": [
        "train.groupby(['label']).size().plot.bar()"
      ],
      "metadata": {
        "colab": {
          "base_uri": "https://localhost:8080/",
          "height": 304
        },
        "id": "VBS1tY34_MEY",
        "outputId": "320ff345-646b-457d-d242-7986d34317e7"
      },
      "execution_count": 7,
      "outputs": [
        {
          "output_type": "execute_result",
          "data": {
            "text/plain": [
              "<matplotlib.axes._subplots.AxesSubplot at 0x7fd219722810>"
            ]
          },
          "metadata": {},
          "execution_count": 7
        },
        {
          "output_type": "display_data",
          "data": {
            "text/plain": [
              "<Figure size 432x288 with 1 Axes>"
            ],
            "image/png": "[encoded data removed]"
          },
          "metadata": {
            "needs_background": "light"
          }
        }
      ]
    },
    {
      "cell_type": "markdown",
      "source": [
        "Remove stopwords"
      ],
      "metadata": {
        "id": "BzP7tmPF_YUd"
      }
    },
    {
      "cell_type": "code",
      "source": [
        "## Remove stopwords\n",
        "stop = stopwords.words('indonesian')\n",
        "\n",
        "train['text_a'] = train['text_a'].apply(lambda x: ' '.join([word for word in x.split() if word not in (stop)]))\n",
        "development['text_a'] = development['text_a'].apply(lambda x: ' '.join([word for word in x.split() if word not in (stop)]))\n",
        "test['text_a'] = test['text_a'].apply(lambda x: ' '.join([word for word in x.split() if word not in (stop)]))"
      ],
      "metadata": {
        "id": "L_eHCShEOG5O"
      },
      "execution_count": null,
      "outputs": []
    },
    {
      "cell_type": "markdown",
      "source": [
        "Encode label"
      ],
      "metadata": {
        "id": "w4BfODHv_a5o"
      }
    },
    {
      "cell_type": "code",
      "source": [
        "## Ubah label ke numerik\n",
        "\n",
        "train['label'] = train['label'].map( {'yes': 1, 'no': 0} ).astype(int)\n",
        "development['label'] = development['label'].map( {'yes': 1, 'no': 0} ).astype(int)\n",
        "test['label'] = test['label'].map( {'yes': 1, 'no': 0} ).astype(int)"
      ],
      "metadata": {
        "id": "GUEnz8Be9GeO"
      },
      "execution_count": null,
      "outputs": []
    },
    {
      "cell_type": "markdown",
      "source": [
        "Tokenization"
      ],
      "metadata": {
        "id": "Ott808su_eim"
      }
    },
    {
      "cell_type": "code",
      "source": [
        "data = pd.concat([train, test, development], ignore_index=True)\n",
        "data.head()"
      ],
      "metadata": {
        "colab": {
          "base_uri": "https://localhost:8080/",
          "height": 206
        },
        "id": "JyThn4Bvu0ho",
        "outputId": "d08844ba-626e-484e-825f-aa618f30bbeb"
      },
      "execution_count": null,
      "outputs": [
        {
          "output_type": "execute_result",
          "data": {
            "text/plain": [
              "                                              text_a  label\n",
              "0  betewe buka twitter cuman ngetweet liat home b...      0\n",
              "1  mas piyuuu mugo2 corona tuh mulut tersumpal ma...      0\n",
              "2  e100ss gini buka informasi sejelas nya identit...      1\n",
              "3  neng solo wes ono terduga corona cobo neng ati...      0\n",
              "4  midiahn nii akun gak takut takut nya isu coron...      0"
            ],
            "text/html": [
              "\n",
              "  <div id=\"df-3cd17704-e410-4fbe-8ebd-76c77f260748\">\n",
              "    <div class=\"colab-df-container\">\n",
              "      <div>\n",
              "<style scoped>\n",
              "    .dataframe tbody tr th:only-of-type {\n",
              "        vertical-align: middle;\n",
              "    }\n",
              "\n",
              "    .dataframe tbody tr th {\n",
              "        vertical-align: top;\n",
              "    }\n",
              "\n",
              "    .dataframe thead th {\n",
              "        text-align: right;\n",
              "    }\n",
              "</style>\n",
              "<table border=\"1\" class=\"dataframe\">\n",
              "  <thead>\n",
              "    <tr style=\"text-align: right;\">\n",
              "      <th></th>\n",
              "      <th>text_a</th>\n",
              "      <th>label</th>\n",
              "    </tr>\n",
              "  </thead>\n",
              "  <tbody>\n",
              "    <tr>\n",
              "      <th>0</th>\n",
              "      <td>betewe buka twitter cuman ngetweet liat home b...</td>\n",
              "      <td>0</td>\n",
              "    </tr>\n",
              "    <tr>\n",
              "      <th>1</th>\n",
              "      <td>mas piyuuu mugo2 corona tuh mulut tersumpal ma...</td>\n",
              "      <td>0</td>\n",
              "    </tr>\n",
              "    <tr>\n",
              "      <th>2</th>\n",
              "      <td>e100ss gini buka informasi sejelas nya identit...</td>\n",
              "      <td>1</td>\n",
              "    </tr>\n",
              "    <tr>\n",
              "      <th>3</th>\n",
              "      <td>neng solo wes ono terduga corona cobo neng ati...</td>\n",
              "      <td>0</td>\n",
              "    </tr>\n",
              "    <tr>\n",
              "      <th>4</th>\n",
              "      <td>midiahn nii akun gak takut takut nya isu coron...</td>\n",
              "      <td>0</td>\n",
              "    </tr>\n",
              "  </tbody>\n",
              "</table>\n",
              "</div>\n",
              "      <button class=\"colab-df-convert\" onclick=\"convertToInteractive('df-3cd17704-e410-4fbe-8ebd-76c77f260748')\"\n",
              "              title=\"Convert this dataframe to an interactive table.\"\n",
              "              style=\"display:none;\">\n",
              "        \n",
              "  <svg xmlns=\"http://www.w3.org/2000/svg\" height=\"24px\"viewBox=\"0 0 24 24\"\n",
              "       width=\"24px\">\n",
              "    <path d=\"M0 0h24v24H0V0z\" fill=\"none\"/>\n",
              "    <path d=\"M18.56 5.44l.94 2.06.94-2.06 2.06-.94-2.06-.94-.94-2.06-.94 2.06-2.06.94zm-11 1L8.5 8.5l.94-2.06 2.06-.94-2.06-.94L8.5 2.5l-.94 2.06-2.06.94zm10 10l.94 2.06.94-2.06 2.06-.94-2.06-.94-.94-2.06-.94 2.06-2.06.94z\"/><path d=\"M17.41 7.96l-1.37-1.37c-.4-.4-.92-.59-1.43-.59-.52 0-1.04.2-1.43.59L10.3 9.45l-7.72 7.72c-.78.78-.78 2.05 0 2.83L4 21.41c.39.39.9.59 1.41.59.51 0 1.02-.2 1.41-.59l7.78-7.78 2.81-2.81c.8-.78.8-2.07 0-2.86zM5.41 20L4 18.59l7.72-7.72 1.47 1.35L5.41 20z\"/>\n",
              "  </svg>\n",
              "      </button>\n",
              "      \n",
              "  <style>\n",
              "    .colab-df-container {\n",
              "      display:flex;\n",
              "      flex-wrap:wrap;\n",
              "      gap: 12px;\n",
              "    }\n",
              "\n",
              "    .colab-df-convert {\n",
              "      background-color: #E8F0FE;\n",
              "      border: none;\n",
              "      border-radius: 50%;\n",
              "      cursor: pointer;\n",
              "      display: none;\n",
              "      fill: #1967D2;\n",
              "      height: 32px;\n",
              "      padding: 0 0 0 0;\n",
              "      width: 32px;\n",
              "    }\n",
              "\n",
              "    .colab-df-convert:hover {\n",
              "      background-color: #E2EBFA;\n",
              "      box-shadow: 0px 1px 2px rgba(60, 64, 67, 0.3), 0px 1px 3px 1px rgba(60, 64, 67, 0.15);\n",
              "      fill: #174EA6;\n",
              "    }\n",
              "\n",
              "    [theme=dark] .colab-df-convert {\n",
              "      background-color: #3B4455;\n",
              "      fill: #D2E3FC;\n",
              "    }\n",
              "\n",
              "    [theme=dark] .colab-df-convert:hover {\n",
              "      background-color: #434B5C;\n",
              "      box-shadow: 0px 1px 3px 1px rgba(0, 0, 0, 0.15);\n",
              "      filter: drop-shadow(0px 1px 2px rgba(0, 0, 0, 0.3));\n",
              "      fill: #FFFFFF;\n",
              "    }\n",
              "  </style>\n",
              "\n",
              "      <script>\n",
              "        const buttonEl =\n",
              "          document.querySelector('#df-3cd17704-e410-4fbe-8ebd-76c77f260748 button.colab-df-convert');\n",
              "        buttonEl.style.display =\n",
              "          google.colab.kernel.accessAllowed ? 'block' : 'none';\n",
              "\n",
              "        async function convertToInteractive(key) {\n",
              "          const element = document.querySelector('#df-3cd17704-e410-4fbe-8ebd-76c77f260748');\n",
              "          const dataTable =\n",
              "            await google.colab.kernel.invokeFunction('convertToInteractive',\n",
              "                                                     [key], {});\n",
              "          if (!dataTable) return;\n",
              "\n",
              "          const docLinkHtml = 'Like what you see? Visit the ' +\n",
              "            '<a target=\"_blank\" href=https://colab.research.google.com/notebooks/data_table.ipynb>data table notebook</a>'\n",
              "            + ' to learn more about interactive tables.';\n",
              "          element.innerHTML = '';\n",
              "          dataTable['output_type'] = 'display_data';\n",
              "          await google.colab.output.renderOutput(dataTable, element);\n",
              "          const docLink = document.createElement('div');\n",
              "          docLink.innerHTML = docLinkHtml;\n",
              "          element.appendChild(docLink);\n",
              "        }\n",
              "      </script>\n",
              "    </div>\n",
              "  </div>\n",
              "  "
            ]
          },
          "metadata": {},
          "execution_count": 24
        }
      ]
    },
    {
      "cell_type": "code",
      "source": [
        "texts = data[\"text_a\"]\n",
        "\n",
        "texts"
      ],
      "metadata": {
        "colab": {
          "base_uri": "https://localhost:8080/"
        },
        "id": "RaCDuFudvt1k",
        "outputId": "6cbcd1fa-2774-45de-82f7-6a1c363aecd8"
      },
      "execution_count": null,
      "outputs": [
        {
          "output_type": "execute_result",
          "data": {
            "text/plain": [
              "0        betewe buka twitter cuman ngetweet liat home b...\n",
              "1        mas piyuuu mugo2 corona tuh mulut tersumpal ma...\n",
              "2        e100ss gini buka informasi sejelas nya identit...\n",
              "3        neng solo wes ono terduga corona cobo neng ati...\n",
              "4        midiahn nii akun gak takut takut nya isu coron...\n",
              "                               ...                        \n",
              "21938    ku tenang2 bae ku sih ya corona nya ga depok k...\n",
              "21939    guru hati hati ya virus corona uda indonesia t...\n",
              "21940    4 terawan menyebut virus corona indonesia terd...\n",
              "21941          realffk buhari can t pronounce corona virus\n",
              "21942    hadapi wabah corona pemuda muhammadiyah pemeri...\n",
              "Name: text_a, Length: 21943, dtype: object"
            ]
          },
          "metadata": {},
          "execution_count": 25
        }
      ]
    },
    {
      "cell_type": "code",
      "source": [
        "texts = texts.apply(nltk.word_tokenize)\n",
        "texts"
      ],
      "metadata": {
        "colab": {
          "base_uri": "https://localhost:8080/"
        },
        "id": "hFVORDfgwowB",
        "outputId": "002fd64a-c741-45a9-ff5e-d98bb70ab20b"
      },
      "execution_count": null,
      "outputs": [
        {
          "output_type": "execute_result",
          "data": {
            "text/plain": [
              "0        [betewe, buka, twitter, cuman, ngetweet, liat,...\n",
              "1        [mas, piyuuu, mugo2, corona, tuh, mulut, tersu...\n",
              "2        [e100ss, gini, buka, informasi, sejelas, nya, ...\n",
              "3        [neng, solo, wes, ono, terduga, corona, cobo, ...\n",
              "4        [midiahn, nii, akun, gak, takut, takut, nya, i...\n",
              "                               ...                        \n",
              "21938    [ku, tenang2, bae, ku, sih, ya, corona, nya, g...\n",
              "21939    [guru, hati, hati, ya, virus, corona, uda, ind...\n",
              "21940    [4, terawan, menyebut, virus, corona, indonesi...\n",
              "21941    [realffk, buhari, can, t, pronounce, corona, v...\n",
              "21942    [hadapi, wabah, corona, pemuda, muhammadiyah, ...\n",
              "Name: text_a, Length: 21943, dtype: object"
            ]
          },
          "metadata": {},
          "execution_count": 26
        }
      ]
    },
    {
      "cell_type": "markdown",
      "source": [
        "New Word2Vec model from dataset"
      ],
      "metadata": {
        "id": "J2zsx_bh_jDt"
      }
    },
    {
      "cell_type": "code",
      "source": [
        "model_10 = gensim.models.Word2Vec(\n",
        "    window=10,\n",
        "    min_count=2,\n",
        "    workers=4,\n",
        ")\n",
        "\n",
        "model_5 = gensim.models.Word2Vec(\n",
        "    window=5,\n",
        "    min_count=2,\n",
        "    workers=4,\n",
        ")"
      ],
      "metadata": {
        "id": "PmwS2qiRwZ05"
      },
      "execution_count": null,
      "outputs": []
    },
    {
      "cell_type": "code",
      "source": [
        "model_10.build_vocab(texts, progress_per=1000)\n",
        "model_5.build_vocab(texts, progress_per=1000)"
      ],
      "metadata": {
        "id": "WRH9NUQpyM7e"
      },
      "execution_count": null,
      "outputs": []
    },
    {
      "cell_type": "code",
      "source": [
        "model_10.train(texts, total_examples=model_10.corpus_count, epochs=model_10.epochs)\n",
        "model_5.train(texts, total_examples=model_5.corpus_count, epochs=model_5.epochs)"
      ],
      "metadata": {
        "colab": {
          "base_uri": "https://localhost:8080/"
        },
        "id": "nU7ueSykyUMq",
        "outputId": "5880f9f2-cb81-4849-e6cd-42a171aef03b"
      },
      "execution_count": null,
      "outputs": [
        {
          "output_type": "execute_result",
          "data": {
            "text/plain": [
              "(1399907, 1721840)"
            ]
          },
          "metadata": {},
          "execution_count": 29
        }
      ]
    },
    {
      "cell_type": "code",
      "source": [
        "model_10.wv.most_similar(\"mahasiswa\")"
      ],
      "metadata": {
        "colab": {
          "base_uri": "https://localhost:8080/"
        },
        "id": "i4n9t_9T5Bz-",
        "outputId": "3c6faaa1-7f9f-4de6-ad4e-27b016ee6e70"
      },
      "execution_count": null,
      "outputs": [
        {
          "output_type": "execute_result",
          "data": {
            "text/plain": [
              "[('goreng', 0.9967847466468811),\n",
              " ('mbok', 0.996283769607544),\n",
              " ('hobi', 0.9960567355155945),\n",
              " ('nge', 0.9960370063781738),\n",
              " ('smua', 0.9956431984901428),\n",
              " ('kpn', 0.9954239726066589),\n",
              " ('disitu', 0.9949173927307129),\n",
              " ('gereja', 0.9947351217269897),\n",
              " ('ajang', 0.9946533441543579),\n",
              " ('twit', 0.9946496486663818)]"
            ]
          },
          "metadata": {},
          "execution_count": 30
        }
      ]
    },
    {
      "cell_type": "code",
      "source": [
        "model_5.wv.most_similar(\"mahasiswa\")"
      ],
      "metadata": {
        "colab": {
          "base_uri": "https://localhost:8080/"
        },
        "id": "GMCDhhXZPayC",
        "outputId": "0b824178-cf3c-469d-9b4e-3162e56c0e60"
      },
      "execution_count": null,
      "outputs": [
        {
          "output_type": "execute_result",
          "data": {
            "text/plain": [
              "[('kenyataan', 0.9981033205986023),\n",
              " ('sungguh', 0.9975224733352661),\n",
              " ('smua', 0.9973642826080322),\n",
              " ('negri', 0.9970447421073914),\n",
              " ('bab', 0.9967029094696045),\n",
              " ('omg', 0.9965765476226807),\n",
              " ('kaum', 0.9965599775314331),\n",
              " ('sejarah', 0.996444582939148),\n",
              " ('dpt', 0.9963473081588745),\n",
              " ('bangun', 0.9961099028587341)]"
            ]
          },
          "metadata": {},
          "execution_count": 31
        }
      ]
    },
    {
      "cell_type": "code",
      "source": [
        "filename_10 = \"data_worthcheck_10.txt\"\n",
        "filename_5 = \"data_worthcheck_5.txt\"\n",
        "model_10.wv.save_word2vec_format(filename_10, binary=False)"
      ],
      "metadata": {
        "id": "5MYnZxSU6fvO"
      },
      "execution_count": null,
      "outputs": []
    },
    {
      "cell_type": "code",
      "source": [
        "embedding_index = {}\n",
        "f = open(os.path.join('', filename_10), encoding=\"utf-8\")\n",
        "\n",
        "for line in f:\n",
        "  values = line.split()\n",
        "  word = values[0]\n",
        "  coefs = np.asarray(values[1:])\n",
        "  embedding_index[word] = coefs\n",
        "\n",
        "f.close"
      ],
      "metadata": {
        "colab": {
          "base_uri": "https://localhost:8080/"
        },
        "id": "_y08RGXt7yUG",
        "outputId": "6b56d670-55a3-41e6-a8d0-bf75393543ff"
      },
      "execution_count": null,
      "outputs": [
        {
          "output_type": "execute_result",
          "data": {
            "text/plain": [
              "<function TextIOWrapper.close()>"
            ]
          },
          "metadata": {},
          "execution_count": 33
        }
      ]
    },
    {
      "cell_type": "markdown",
      "source": [
        "Buat model deep learning dan gunakan model Word2Vec ke dalam Embedding layer"
      ],
      "metadata": {
        "id": "PJR0-HUNO_g3"
      }
    },
    {
      "cell_type": "code",
      "source": [
        "X_train, X_dev, X_test, y_train, y_dev, y_test = train[\"text_a\"], development[\"text_a\"], test[\"text_a\"], train[\"label\"], development[\"label\"], test[\"label\"]"
      ],
      "metadata": {
        "id": "heMZSjbT8xzL"
      },
      "execution_count": null,
      "outputs": []
    },
    {
      "cell_type": "code",
      "source": [
        "train[\"text_a\"]"
      ],
      "metadata": {
        "colab": {
          "base_uri": "https://localhost:8080/"
        },
        "id": "snCZK2w_TYFO",
        "outputId": "7ca860d7-a084-4ab4-f2ce-b025bf17e29b"
      },
      "execution_count": null,
      "outputs": [
        {
          "output_type": "execute_result",
          "data": {
            "text/plain": [
              "0        betewe buka twitter cuman ngetweet liat home b...\n",
              "1        mas piyuuu mugo2 corona tuh mulut tersumpal ma...\n",
              "2        e100ss gini buka informasi sejelas nya identit...\n",
              "3        neng solo wes ono terduga corona cobo neng ati...\n",
              "4        midiahn nii akun gak takut takut nya isu coron...\n",
              "                               ...                        \n",
              "17420    mengejutkan 2 cases covid 19 indonesia tenaga ...\n",
              "17422    null komentar iwan fals virus corona indonesia...\n",
              "17424    null komentar iwan fals virus corona indonesia...\n",
              "17426    giapratamamd kalo ga berinteraksi orang positi...\n",
              "17427    a a a a girls jujur ya sayang banget stay safe...\n",
              "Name: text_a, Length: 16349, dtype: object"
            ]
          },
          "metadata": {},
          "execution_count": 35
        }
      ]
    },
    {
      "cell_type": "code",
      "source": [
        "tokenizer_obj = Tokenizer(oov_token=\"<OOV>\", num_words=1000)\n",
        "tokenizer_obj.fit_on_texts(X_train)\n",
        "tokenizer_obj.fit_on_texts(X_test)\n",
        "tokenizer_obj.fit_on_texts(X_dev)\n",
        "\n",
        "sequences_train = tokenizer_obj.texts_to_sequences(X_train)\n",
        "sequences_test = tokenizer_obj.texts_to_sequences(X_test)\n",
        "sequences_dev = tokenizer_obj.texts_to_sequences(X_dev)"
      ],
      "metadata": {
        "id": "tX294D0i8ftR"
      },
      "execution_count": null,
      "outputs": []
    },
    {
      "cell_type": "code",
      "source": [
        "texts.head()"
      ],
      "metadata": {
        "colab": {
          "base_uri": "https://localhost:8080/"
        },
        "id": "Jcr6bzbBBDYK",
        "outputId": "014e4365-e871-47b1-d7eb-2bb850985e46"
      },
      "execution_count": null,
      "outputs": [
        {
          "output_type": "execute_result",
          "data": {
            "text/plain": [
              "0    [betewe, buka, twitter, cuman, ngetweet, liat,...\n",
              "1    [mas, piyuuu, mugo2, corona, tuh, mulut, tersu...\n",
              "2    [e100ss, gini, buka, informasi, sejelas, nya, ...\n",
              "3    [neng, solo, wes, ono, terduga, corona, cobo, ...\n",
              "4    [midiahn, nii, akun, gak, takut, takut, nya, i...\n",
              "Name: text_a, dtype: object"
            ]
          },
          "metadata": {},
          "execution_count": 37
        }
      ]
    },
    {
      "cell_type": "code",
      "source": [
        "word_index = tokenizer_obj.word_index\n",
        "max_length = 100\n",
        "vocab_size = len(word_index) + 1"
      ],
      "metadata": {
        "id": "npFe_TSlAAXF"
      },
      "execution_count": null,
      "outputs": []
    },
    {
      "cell_type": "code",
      "source": [
        "print(vocab_size)"
      ],
      "metadata": {
        "colab": {
          "base_uri": "https://localhost:8080/"
        },
        "id": "ALKT7TCIYtkk",
        "outputId": "994d6813-76a0-4661-8ed7-0825b9486a0e"
      },
      "execution_count": null,
      "outputs": [
        {
          "output_type": "stream",
          "name": "stdout",
          "text": [
            "50100\n"
          ]
        }
      ]
    },
    {
      "cell_type": "code",
      "source": [
        "print(max_length)"
      ],
      "metadata": {
        "colab": {
          "base_uri": "https://localhost:8080/"
        },
        "id": "ileSOnC9Xz2M",
        "outputId": "322f0838-d301-4669-f0f4-1850e854270e"
      },
      "execution_count": null,
      "outputs": [
        {
          "output_type": "stream",
          "name": "stdout",
          "text": [
            "100\n"
          ]
        }
      ]
    },
    {
      "cell_type": "code",
      "source": [
        "train_padded = pad_sequences(sequences_train, maxlen=max_length)\n",
        "dev_padded = pad_sequences(sequences_dev, maxlen=max_length)\n",
        "test_padded = pad_sequences(sequences_test, maxlen=max_length)\n",
        "\n",
        "train_padded.shape"
      ],
      "metadata": {
        "colab": {
          "base_uri": "https://localhost:8080/"
        },
        "id": "7F5MGIQz9xHh",
        "outputId": "cbdbe342-bf32-4c3f-c128-cc9a6cf8bfc4"
      },
      "execution_count": null,
      "outputs": [
        {
          "output_type": "execute_result",
          "data": {
            "text/plain": [
              "(16349, 100)"
            ]
          },
          "metadata": {},
          "execution_count": 41
        }
      ]
    },
    {
      "cell_type": "code",
      "source": [
        "num_words = len(word_index) + 1\n",
        "print(num_words)\n",
        "EMBEDDING_DIM = 100\n",
        "embedding_matrix = np.zeros((num_words, EMBEDDING_DIM))\n",
        "\n",
        "for word, i in word_index.items():\n",
        "  if i > num_words:\n",
        "    continue\n",
        "\n",
        "  embedding_vector = embedding_index.get(word)\n",
        "  if embedding_vector is not None:\n",
        "    embedding_matrix[i] = embedding_vector"
      ],
      "metadata": {
        "colab": {
          "base_uri": "https://localhost:8080/"
        },
        "id": "CxxZYeNb-_tg",
        "outputId": "1adb22b4-4044-4ad0-8d02-01e76b82a4c5"
      },
      "execution_count": null,
      "outputs": [
        {
          "output_type": "stream",
          "name": "stdout",
          "text": [
            "50100\n"
          ]
        }
      ]
    },
    {
      "cell_type": "markdown",
      "source": [
        "Inisiasi model deep learning"
      ],
      "metadata": {
        "id": "8wyUalCk_t9N"
      }
    },
    {
      "cell_type": "markdown",
      "source": [
        "Menggunakan embedding layer tanpa model Word2Vec"
      ],
      "metadata": {
        "id": "MVl__cT__xbh"
      }
    },
    {
      "cell_type": "code",
      "source": [
        "tf.config.run_functions_eagerly(False)\n",
        "\n",
        "model = Sequential()\n",
        "model.add(Embedding(vocab_size, 16, input_length=max_length))\n",
        "model.add(Conv1D(filters=32, kernel_size=3, activation='relu'))\n",
        "model.add(MaxPooling1D(pool_size=2))\n",
        "model.add(Flatten())\n",
        "model.add(Dense(10, activation='relu'))\n",
        "model.add(Dense(1, activation='sigmoid'))\n",
        "print(model.summary())\n",
        "\n",
        "model.compile(loss='binary_crossentropy', optimizer='adam', metrics=['accuracy'])\n",
        "model.fit(train_padded, y_train, epochs=10, validation_data=(dev_padded, y_dev), verbose=1)"
      ],
      "metadata": {
        "colab": {
          "base_uri": "https://localhost:8080/"
        },
        "id": "3007HEv859BF",
        "outputId": "681a3add-98f3-4509-8272-3a739bde7ffc"
      },
      "execution_count": null,
      "outputs": [
        {
          "output_type": "stream",
          "name": "stdout",
          "text": [
            "Model: \"sequential\"\n",
            "_________________________________________________________________\n",
            " Layer (type)                Output Shape              Param #   \n",
            "=================================================================\n",
            " embedding (Embedding)       (None, 100, 16)           801600    \n",
            "                                                                 \n",
            " conv1d (Conv1D)             (None, 98, 32)            1568      \n",
            "                                                                 \n",
            " max_pooling1d (MaxPooling1D  (None, 49, 32)           0         \n",
            " )                                                               \n",
            "                                                                 \n",
            " flatten (Flatten)           (None, 1568)              0         \n",
            "                                                                 \n",
            " dense (Dense)               (None, 10)                15690     \n",
            "                                                                 \n",
            " dense_1 (Dense)             (None, 1)                 11        \n",
            "                                                                 \n",
            "=================================================================\n",
            "Total params: 818,869\n",
            "Trainable params: 818,869\n",
            "Non-trainable params: 0\n",
            "_________________________________________________________________\n",
            "None\n",
            "Epoch 1/10\n",
            "511/511 [==============================] - 19s 32ms/step - loss: 0.4459 - accuracy: 0.7990 - val_loss: 0.3892 - val_accuracy: 0.8316\n",
            "Epoch 2/10\n",
            "511/511 [==============================] - 10s 20ms/step - loss: 0.3468 - accuracy: 0.8528 - val_loss: 0.3643 - val_accuracy: 0.8398\n",
            "Epoch 3/10\n",
            "511/511 [==============================] - 8s 16ms/step - loss: 0.3228 - accuracy: 0.8611 - val_loss: 0.3653 - val_accuracy: 0.8348\n",
            "Epoch 4/10\n",
            "511/511 [==============================] - 8s 15ms/step - loss: 0.3065 - accuracy: 0.8688 - val_loss: 0.3615 - val_accuracy: 0.8409\n",
            "Epoch 5/10\n",
            "511/511 [==============================] - 8s 15ms/step - loss: 0.2917 - accuracy: 0.8739 - val_loss: 0.3652 - val_accuracy: 0.8427\n",
            "Epoch 6/10\n",
            "511/511 [==============================] - 8s 15ms/step - loss: 0.2708 - accuracy: 0.8844 - val_loss: 0.3732 - val_accuracy: 0.8438\n",
            "Epoch 7/10\n",
            "511/511 [==============================] - 8s 16ms/step - loss: 0.2518 - accuracy: 0.8955 - val_loss: 0.3956 - val_accuracy: 0.8277\n",
            "Epoch 8/10\n",
            "511/511 [==============================] - 8s 16ms/step - loss: 0.2330 - accuracy: 0.9042 - val_loss: 0.4219 - val_accuracy: 0.8187\n",
            "Epoch 9/10\n",
            "511/511 [==============================] - 8s 16ms/step - loss: 0.2150 - accuracy: 0.9133 - val_loss: 0.4522 - val_accuracy: 0.8184\n",
            "Epoch 10/10\n",
            "511/511 [==============================] - 8s 16ms/step - loss: 0.1957 - accuracy: 0.9225 - val_loss: 0.4521 - val_accuracy: 0.8237\n"
          ]
        },
        {
          "output_type": "execute_result",
          "data": {
            "text/plain": [
              "<keras.callbacks.History at 0x7f1f59c2a4d0>"
            ]
          },
          "metadata": {},
          "execution_count": 43
        }
      ]
    },
    {
      "cell_type": "code",
      "source": [
        "y_pred = (model.predict(test_padded) > 0.5).astype(\"int32\")\n",
        "print(classification_report(y_test, y_pred, target_names= {'no': 0, 'yes': 1} )) \n"
      ],
      "metadata": {
        "colab": {
          "base_uri": "https://localhost:8080/"
        },
        "id": "TB8Pox_QLAp_",
        "outputId": "b3f3e2c1-66ef-4716-bbe7-7a3b5df2201f"
      },
      "execution_count": null,
      "outputs": [
        {
          "output_type": "stream",
          "name": "stdout",
          "text": [
            "              precision    recall  f1-score   support\n",
            "\n",
            "          no       0.88      0.88      0.88      2092\n",
            "         yes       0.65      0.65      0.65       705\n",
            "\n",
            "    accuracy                           0.82      2797\n",
            "   macro avg       0.77      0.77      0.77      2797\n",
            "weighted avg       0.82      0.82      0.82      2797\n",
            "\n"
          ]
        }
      ]
    },
    {
      "cell_type": "code",
      "source": [
        "fpr_non_w2v, tpr_non_w2v, thresholds_non_w2v = roc_curve(y_test, y_pred)\n",
        "auc_non_w2v = auc(fpr_non_w2v, tpr_non_w2v)"
      ],
      "metadata": {
        "id": "Agnc3apbxep0"
      },
      "execution_count": null,
      "outputs": []
    },
    {
      "cell_type": "markdown",
      "source": [
        "Tanpa Bidirectional layer"
      ],
      "metadata": {
        "id": "5CQ8w9ohACcK"
      }
    },
    {
      "cell_type": "code",
      "source": [
        "model = Sequential()\n",
        "model.add(Embedding(vocab_size, EMBEDDING_DIM, embeddings_initializer=Constant(embedding_matrix), input_length=100))\n",
        "model.add(Conv1D(filters=32, kernel_size=3, activation='relu'))\n",
        "model.add(MaxPooling1D(pool_size=2))\n",
        "model.add(Flatten())\n",
        "model.add(Dense(10, activation='relu'))\n",
        "model.add(Dense(1, activation='sigmoid'))\n",
        "print(model.summary())\n",
        "\n",
        "model.compile(loss='binary_crossentropy', optimizer='adam', metrics=['accuracy'])\n",
        "model.fit(train_padded, y_train, epochs=10, validation_data=(dev_padded, y_dev), verbose=1)"
      ],
      "metadata": {
        "colab": {
          "base_uri": "https://localhost:8080/"
        },
        "id": "QtnbUYbjmmDK",
        "outputId": "1cacfc63-95a6-4f2a-afc8-64a75982840a"
      },
      "execution_count": null,
      "outputs": [
        {
          "output_type": "stream",
          "name": "stdout",
          "text": [
            "Model: \"sequential_3\"\n",
            "_________________________________________________________________\n",
            " Layer (type)                Output Shape              Param #   \n",
            "=================================================================\n",
            " embedding_3 (Embedding)     (None, 100, 100)          5010000   \n",
            "                                                                 \n",
            " conv1d_2 (Conv1D)           (None, 98, 32)            9632      \n",
            "                                                                 \n",
            " max_pooling1d_2 (MaxPooling  (None, 49, 32)           0         \n",
            " 1D)                                                             \n",
            "                                                                 \n",
            " flatten_2 (Flatten)         (None, 1568)              0         \n",
            "                                                                 \n",
            " dense_5 (Dense)             (None, 10)                15690     \n",
            "                                                                 \n",
            " dense_6 (Dense)             (None, 1)                 11        \n",
            "                                                                 \n",
            "=================================================================\n",
            "Total params: 5,035,333\n",
            "Trainable params: 5,035,333\n",
            "Non-trainable params: 0\n",
            "_________________________________________________________________\n",
            "None\n",
            "Epoch 1/10\n",
            "511/511 [==============================] - 37s 72ms/step - loss: 0.4318 - accuracy: 0.8030 - val_loss: 0.4095 - val_accuracy: 0.8109\n",
            "Epoch 2/10\n",
            "511/511 [==============================] - 33s 64ms/step - loss: 0.3712 - accuracy: 0.8367 - val_loss: 0.3672 - val_accuracy: 0.8420\n",
            "Epoch 3/10\n",
            "511/511 [==============================] - 34s 67ms/step - loss: 0.3378 - accuracy: 0.8551 - val_loss: 0.3640 - val_accuracy: 0.8470\n",
            "Epoch 4/10\n",
            "511/511 [==============================] - 33s 64ms/step - loss: 0.3174 - accuracy: 0.8635 - val_loss: 0.3748 - val_accuracy: 0.8373\n",
            "Epoch 5/10\n",
            "511/511 [==============================] - 32s 63ms/step - loss: 0.2991 - accuracy: 0.8730 - val_loss: 0.3610 - val_accuracy: 0.8491\n",
            "Epoch 6/10\n",
            "511/511 [==============================] - 34s 67ms/step - loss: 0.2852 - accuracy: 0.8782 - val_loss: 0.3656 - val_accuracy: 0.8466\n",
            "Epoch 7/10\n",
            "511/511 [==============================] - 41s 80ms/step - loss: 0.2696 - accuracy: 0.8856 - val_loss: 0.3839 - val_accuracy: 0.8363\n",
            "Epoch 8/10\n",
            "511/511 [==============================] - 33s 65ms/step - loss: 0.2546 - accuracy: 0.8898 - val_loss: 0.3861 - val_accuracy: 0.8391\n",
            "Epoch 9/10\n",
            "511/511 [==============================] - 33s 64ms/step - loss: 0.2385 - accuracy: 0.8982 - val_loss: 0.3863 - val_accuracy: 0.8473\n",
            "Epoch 10/10\n",
            "511/511 [==============================] - 33s 65ms/step - loss: 0.2217 - accuracy: 0.9054 - val_loss: 0.4059 - val_accuracy: 0.8527\n"
          ]
        },
        {
          "output_type": "execute_result",
          "data": {
            "text/plain": [
              "<keras.callbacks.History at 0x7f1f5718a8d0>"
            ]
          },
          "metadata": {},
          "execution_count": 50
        }
      ]
    },
    {
      "cell_type": "code",
      "source": [
        "tf.config.run_functions_eagerly(False)\n",
        "\n",
        "y_pred = (model.predict(test_padded) > 0.5).astype(\"int32\")\n",
        "print(classification_report(y_test, y_pred, target_names= {'no': 0, 'yes': 1} )) "
      ],
      "metadata": {
        "colab": {
          "base_uri": "https://localhost:8080/"
        },
        "id": "BDBfofO5rOwO",
        "outputId": "b0920926-d16e-4c8a-93ea-dc5987b48920"
      },
      "execution_count": null,
      "outputs": [
        {
          "output_type": "stream",
          "name": "stdout",
          "text": [
            "              precision    recall  f1-score   support\n",
            "\n",
            "          no       0.87      0.95      0.91      2092\n",
            "         yes       0.78      0.58      0.66       705\n",
            "\n",
            "    accuracy                           0.85      2797\n",
            "   macro avg       0.82      0.76      0.79      2797\n",
            "weighted avg       0.85      0.85      0.84      2797\n",
            "\n"
          ]
        }
      ]
    },
    {
      "cell_type": "markdown",
      "source": [
        "Menggunakan Word2Vec dan GRU layer"
      ],
      "metadata": {
        "id": "_VkAQX57_85i"
      }
    },
    {
      "cell_type": "code",
      "source": [
        "tf.config.run_functions_eagerly(True)\n",
        "\n",
        "model = Sequential()\n",
        "embedding_layer = Embedding(vocab_size, EMBEDDING_DIM, embeddings_initializer=Constant(embedding_matrix), input_length=100)\n",
        "model.add(embedding_layer)\n",
        "model.add(GRU(units=32, dropout=0.2, recurrent_dropout=0.2))\n",
        "model.add(Dense(1, activation=\"sigmoid\"))\n",
        "\n",
        "model.compile(loss=\"binary_crossentropy\", optimizer=\"adam\", metrics=[\"accuracy\"])"
      ],
      "metadata": {
        "id": "aCS4bNud-vgK"
      },
      "execution_count": null,
      "outputs": []
    },
    {
      "cell_type": "code",
      "source": [
        "tf.config.run_functions_eagerly(True)\n",
        "\n",
        "model.fit(train_padded, y_train, batch_size=128, epochs=10, validation_data=(dev_padded, y_dev), verbose=1)"
      ],
      "metadata": {
        "colab": {
          "base_uri": "https://localhost:8080/"
        },
        "id": "uNbG2spmBruw",
        "outputId": "c993feed-0a84-4fc3-9b22-5d5e498f22b1"
      },
      "execution_count": null,
      "outputs": [
        {
          "output_type": "stream",
          "name": "stdout",
          "text": [
            "Epoch 1/10\n"
          ]
        },
        {
          "output_type": "stream",
          "name": "stderr",
          "text": [
            "/usr/local/lib/python3.7/dist-packages/tensorflow/python/data/ops/structured_function.py:265: UserWarning: Even though the `tf.config.experimental_run_functions_eagerly` option is set, this option does not apply to tf.data functions. To force eager execution of tf.data functions, please use `tf.data.experimental.enable_debug_mode()`.\n",
            "  \"Even though the `tf.config.experimental_run_functions_eagerly` \"\n"
          ]
        },
        {
          "output_type": "stream",
          "name": "stdout",
          "text": [
            "128/128 [==============================] - 187s 1s/step - loss: 0.4718 - accuracy: 0.7801 - val_loss: 0.3986 - val_accuracy: 0.8248\n",
            "Epoch 2/10\n",
            "128/128 [==============================] - 178s 1s/step - loss: 0.3979 - accuracy: 0.8271 - val_loss: 0.3776 - val_accuracy: 0.8402\n",
            "Epoch 3/10\n",
            "128/128 [==============================] - 180s 1s/step - loss: 0.3756 - accuracy: 0.8378 - val_loss: 0.3641 - val_accuracy: 0.8441\n",
            "Epoch 4/10\n",
            "128/128 [==============================] - 184s 1s/step - loss: 0.3565 - accuracy: 0.8467 - val_loss: 0.3554 - val_accuracy: 0.8491\n",
            "Epoch 5/10\n",
            "128/128 [==============================] - 183s 1s/step - loss: 0.3426 - accuracy: 0.8531 - val_loss: 0.3483 - val_accuracy: 0.8513\n",
            "Epoch 6/10\n",
            "128/128 [==============================] - 185s 1s/step - loss: 0.3311 - accuracy: 0.8579 - val_loss: 0.3472 - val_accuracy: 0.8545\n",
            "Epoch 7/10\n",
            "128/128 [==============================] - 186s 1s/step - loss: 0.3214 - accuracy: 0.8640 - val_loss: 0.3482 - val_accuracy: 0.8498\n",
            "Epoch 8/10\n",
            "128/128 [==============================] - 179s 1s/step - loss: 0.3160 - accuracy: 0.8644 - val_loss: 0.3419 - val_accuracy: 0.8516\n",
            "Epoch 9/10\n",
            "128/128 [==============================] - 189s 1s/step - loss: 0.3092 - accuracy: 0.8682 - val_loss: 0.3566 - val_accuracy: 0.8423\n",
            "Epoch 10/10\n",
            "128/128 [==============================] - 187s 1s/step - loss: 0.3040 - accuracy: 0.8717 - val_loss: 0.3466 - val_accuracy: 0.8463\n"
          ]
        },
        {
          "output_type": "execute_result",
          "data": {
            "text/plain": [
              "<keras.callbacks.History at 0x7f1f4dd27d50>"
            ]
          },
          "metadata": {},
          "execution_count": 57
        }
      ]
    },
    {
      "cell_type": "code",
      "source": [
        "tf.config.run_functions_eagerly(False)\n",
        "\n",
        "y_pred = (model.predict(test_padded) > 0.5).astype(\"int32\")\n",
        "print(classification_report(y_test, y_pred, target_names= {'no': 0, 'yes': 1} )) "
      ],
      "metadata": {
        "colab": {
          "base_uri": "https://localhost:8080/"
        },
        "id": "MtVinQtqmjAQ",
        "outputId": "47e2db53-a246-42de-d679-21173959f541"
      },
      "execution_count": null,
      "outputs": [
        {
          "output_type": "stream",
          "name": "stdout",
          "text": [
            "              precision    recall  f1-score   support\n",
            "\n",
            "          no       0.89      0.90      0.90      2092\n",
            "         yes       0.70      0.68      0.69       705\n",
            "\n",
            "    accuracy                           0.85      2797\n",
            "   macro avg       0.80      0.79      0.79      2797\n",
            "weighted avg       0.84      0.85      0.85      2797\n",
            "\n"
          ]
        }
      ]
    },
    {
      "cell_type": "markdown",
      "source": [
        "Saving model"
      ],
      "metadata": {
        "id": "g6rEWVR-r3xI"
      }
    },
    {
      "cell_type": "code",
      "source": [
        "model.save(\"models/non_contextual_word2vec.h5\")"
      ],
      "metadata": {
        "id": "905d8lLrr9BB"
      },
      "execution_count": null,
      "outputs": []
    },
    {
      "cell_type": "markdown",
      "source": [
        "Load model"
      ],
      "metadata": {
        "id": "ysXv4wse3B54"
      }
    },
    {
      "cell_type": "code",
      "source": [
        "loaded_model = tf.keras.models.load_model('models/non_contextual_word2vec.h5')"
      ],
      "metadata": {
        "id": "FhcVb4JR2Owj"
      },
      "execution_count": null,
      "outputs": []
    },
    {
      "cell_type": "code",
      "source": [
        "y_pred = (loaded_model.predict(test_padded) > 0.5).astype(\"int32\")\n",
        "print(classification_report(y_test, y_pred, target_names= {'no': 0, 'yes': 1} )) "
      ],
      "metadata": {
        "colab": {
          "base_uri": "https://localhost:8080/"
        },
        "id": "lhk7uQGQ25P6",
        "outputId": "98c20635-f517-44da-d044-4ada2ac44450"
      },
      "execution_count": null,
      "outputs": [
        {
          "output_type": "stream",
          "name": "stdout",
          "text": [
            "              precision    recall  f1-score   support\n",
            "\n",
            "          no       0.89      0.90      0.90      2092\n",
            "         yes       0.70      0.68      0.69       705\n",
            "\n",
            "    accuracy                           0.85      2797\n",
            "   macro avg       0.80      0.79      0.79      2797\n",
            "weighted avg       0.84      0.85      0.85      2797\n",
            "\n"
          ]
        }
      ]
    }
  ]
}